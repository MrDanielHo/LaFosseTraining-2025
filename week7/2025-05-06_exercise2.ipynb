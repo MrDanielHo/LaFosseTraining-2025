{
 "cells": [
  {
   "cell_type": "markdown",
   "metadata": {},
   "source": [
    "# Steps for Analyzing the \"Highest Grossing Concerts by Women\" Dataset\n",
    "\n"
   ]
  },
  {
   "cell_type": "markdown",
   "metadata": {},
   "source": [
    "## 1. Write an Introduction\n",
    "   - Start your analysis by writing an introduction that provides context for the data. Your introduction should include:\n",
    "     - A description of the dataset: Mention that this dataset contains information about the highest-grossing concerts by female artists, including details like the artist's name, tour title, gross revenue (both actual and adjusted for 2022 dollars), the number of shows, and the average gross per show.\n",
    "     - 3-5 key questions or hypotheses you want to explore. Examples might include:\n",
    "       1. Which female artist has the highest grossing tours?\n",
    "       2. How does the adjusted gross compare across different tours?\n",
    "       3. Are there any patterns in the average gross per show across different artists?\n",
    "       4. Do artists with more shows tend to have higher overall gross revenue?\n",
    "\n"
   ]
  },
  {
   "cell_type": "markdown",
   "metadata": {},
   "source": [
    "## 2. Load the Dataset\n",
    "   - Load the dataset into your Python environment to begin the analysis:\n",
    "     ```python\n",
    "     import pandas as pd\n",
    "\n",
    "     # Load the dataset\n",
    "     df = pd.read_csv('../data/highest_gross_concert_women.csv')\n",
    "\n",
    "     # To solve encoding issue with column names with empty spaces\n",
    "     df.rename(lambda col: col.replace('\\xa0', ' '), axis='columns', inplace=True) \n",
    "\n",
    "     # Display the first few rows to understand the structure\n",
    "     df.head()\n",
    "     ```\n",
    "\n"
   ]
  },
  {
   "cell_type": "markdown",
   "metadata": {},
   "source": [
    "## 3. Understand the Data Structure\n",
    "   - Before diving into the analysis, you need to understand what you’re working with by examining the data types, looking for missing values, and getting a general overview:\n",
    "   - Check the data types and for any missing values\n",
    "   - Get a summary of the data to understand basic statistics\n",
    "   - Check the column names to ensure you're working with the correct data\n",
    "\n",
    "\n"
   ]
  },
  {
   "cell_type": "markdown",
   "metadata": {},
   "source": [
    "## 4. Convert Financial Data to Numeric\n",
    "   - The financial columns such as `Actual gross`, `Adjusted gross (in 2022 dollars)`, and `Average gross` need to be cleaned of any non-numeric characters like dollar signs and commas, and then converted to numeric types\n",
    "   - Remove any commas and dollar signs, then convert to numeric\n",
    "   - Verify if the conversion worked\n",
    "\n",
    "\n"
   ]
  },
  {
   "cell_type": "markdown",
   "metadata": {},
   "source": [
    "## 5. Handle Missing Data\n",
    "   - Now that the financial data is properly formatted, handle any missing values\n",
    "   - Check for missing values in each column\n",
    "   - Decide on a strategy to handle missing values (for example, you can fill missing numeric values with the mean of the column)\n",
    "   - For categorical data like `Artist` or `Tour title`, you might fill with a placeholder\n",
    "\n",
    "\n"
   ]
  },
  {
   "cell_type": "markdown",
   "metadata": {},
   "source": [
    "## 6. Ensure Consistency in Text Data\n",
    "   - Make sure all text data, like artist names, are consistent to avoid any issues during analysis\n",
    "   - Standardize artist names to lowercase to avoid duplication due to case differences\n",
    "   - Check for unique values in the artist column to ensure consistency\n",
    "\n",
    "\n"
   ]
  },
  {
   "cell_type": "markdown",
   "metadata": {},
   "source": [
    "## 7. Data Transformation\n",
    "   - Handle the `Year(s)` Column:\n",
    "     - Since the `Year(s)` column might contain ranges (e.g., \"2019–2020\"), you'll need to extract the relevant year(s) information for analysis\n",
    "     - If the Year(s) column contains ranges, you might want to extract the first year for simplicity\n",
    "     - Check the transformed Year column\n",
    "\n",
    "\n"
   ]
  },
  {
   "cell_type": "markdown",
   "metadata": {},
   "source": [
    "## 8. Exploratory Data Analysis (EDA)\n",
    "   - Visualize the Top Grossing Artists:\n",
    "     - Start by identifying which artists have the highest total gross revenue\n",
    "     - Group by `artist` and sum the adjusted gross, then sort to find the top grossing artists\n",
    "     - Plot the results\n",
    "   - Revenue Distribution:\n",
    "     - Check how the adjusted gross revenue is distributed across the concerts\n",
    "     - Plot a histogram to visualize the distribution of adjusted gross revenue\n",
    "   - Trends Over Years:\n",
    "     - Analyze how adjusted gross revenues have changed over the years\n",
    "     - Plot the total adjusted gross per year\n",
    "\n",
    "\n"
   ]
  },
  {
   "cell_type": "markdown",
   "metadata": {},
   "source": [
    "## 9. Detailed Data Analysis\n",
    "   - Average Revenue per Artist:\n",
    "     - Take a closer look at the average adjusted gross revenue generated by each artist\n",
    "     - Compare average adjusted gross per concert by artist\n",
    "\n",
    "\n"
   ]
  },
  {
   "cell_type": "markdown",
   "metadata": {},
   "source": [
    "## 11. Conclude Your Analysis\n",
    "   - Summarize the insights you gained from your analysis\n",
    "      - For example, note which artist dominated the highest grossing concerts or whether any interesting trends were observed over the years\n",
    "\n",
    "\n"
   ]
  },
  {
   "cell_type": "markdown",
   "metadata": {},
   "source": [
    "## 12. Suggestions for Future Analysis\n",
    "   - Based on your findings, suggest areas for further exploration\n",
    "      - For instance, you might explore how the number of shows impacts gross revenue, or compare this dataset with similar data for male artists\n"
   ]
  }
 ],
 "metadata": {
  "language_info": {
   "name": "python"
  }
 },
 "nbformat": 4,
 "nbformat_minor": 2
}
