{
 "cells": [
  {
   "cell_type": "markdown",
   "metadata": {
    "vscode": {
     "languageId": "plaintext"
    }
   },
   "source": [
    "# Superhero Data Analysis Exercise\n",
    "## Introduction\n",
    "This notebook analyses a superhero dataset, as found via [Kaggle](https://www.kaggle.com/datasets/saadatkhalid/superhero-dataset).<br>\n",
    "The dataset contains information on the heroes' `Name`, `First Appearance`, `Origin`, and `Publisher`.\n",
    "\n",
    "We want to explore the data to answer the below questions:\n",
    "1. Which publishers have introduced the most superheroes?\n",
    "2. How are superheroes distributed across different origins?\n",
    "3. Do major publishers focus on certain origins more than independent publishers?"
   ]
  },
  {
   "cell_type": "markdown",
   "metadata": {},
   "source": [
    "## The Dataset"
   ]
  },
  {
   "cell_type": "code",
   "execution_count": 1,
   "metadata": {},
   "outputs": [],
   "source": [
    "import pandas as pd\n",
    "import matplotlib.pyplot as plt\n",
    "import seaborn as sns\n",
    "# from ydata_profiling import ProfileReport\n",
    "\n",
    "sns.set_style('whitegrid')"
   ]
  },
  {
   "cell_type": "code",
   "execution_count": 2,
   "metadata": {},
   "outputs": [
    {
     "data": {
      "application/vnd.microsoft.datawrangler.viewer.v0+json": {
       "columns": [
        {
         "name": "index",
         "rawType": "int64",
         "type": "integer"
        },
        {
         "name": "first_apperance",
         "rawType": "object",
         "type": "string"
        },
        {
         "name": "name",
         "rawType": "object",
         "type": "string"
        },
        {
         "name": "origin",
         "rawType": "object",
         "type": "string"
        },
        {
         "name": "publisher",
         "rawType": "object",
         "type": "string"
        }
       ],
       "conversionMethod": "pd.DataFrame",
       "ref": "3e73e944-ccf0-4f77-a81f-ac42c91e9f23",
       "rows": [
        [
         "0",
         "The Legion of Super-Heroes",
         "Lightning Lad",
         "Alien",
         "DC Comics"
        ],
        [
         "1",
         "The Menace of Dream Girl!",
         "Dream Girl",
         "Alien",
         "DC Comics"
        ],
        [
         "2",
         "The War Between Supergirl and The Supermen Emergency Squad! / Supergirl's Three Super Girl-Friends!",
         "Brainiac 5",
         "Alien",
         "DC Comics"
        ],
        [
         "3",
         "Hercules in the 20th Century!",
         "Invisible Kid",
         "Human",
         "DC Comics"
        ],
        [
         "4",
         "The War Between Supergirl and The Supermen Emergency Squad! / Supergirl's Three Super Girl-Friends!",
         "Phantom Girl",
         "Alien",
         "DC Comics"
        ],
        [
         "5",
         "The War Between Supergirl and The Supermen Emergency Squad! / Supergirl's Three Super Girl-Friends!",
         "Sun Boy",
         "Radiation",
         "DC Comics"
        ],
        [
         "6",
         "Lana Lang and the Legion of Super-Heroes!",
         "Thom Kallor",
         "Alien",
         "DC Comics"
        ],
        [
         "7",
         "Escape of the Fatal Five!; Mocked By The Master!",
         "Shadow Lass",
         "Alien",
         "DC Comics"
        ],
        [
         "8",
         "The War Between Supergirl and The Supermen Emergency Squad! / Supergirl's Three Super Girl-Friends!",
         "Duplicate Girl",
         "Alien",
         "DC Comics"
        ],
        [
         "9",
         "The Confession of Superboy!",
         "Element Lad",
         "Alien",
         "DC Comics"
        ]
       ],
       "shape": {
        "columns": 4,
        "rows": 10
       }
      },
      "text/html": [
       "<div>\n",
       "<style scoped>\n",
       "    .dataframe tbody tr th:only-of-type {\n",
       "        vertical-align: middle;\n",
       "    }\n",
       "\n",
       "    .dataframe tbody tr th {\n",
       "        vertical-align: top;\n",
       "    }\n",
       "\n",
       "    .dataframe thead th {\n",
       "        text-align: right;\n",
       "    }\n",
       "</style>\n",
       "<table border=\"1\" class=\"dataframe\">\n",
       "  <thead>\n",
       "    <tr style=\"text-align: right;\">\n",
       "      <th></th>\n",
       "      <th>first_apperance</th>\n",
       "      <th>name</th>\n",
       "      <th>origin</th>\n",
       "      <th>publisher</th>\n",
       "    </tr>\n",
       "  </thead>\n",
       "  <tbody>\n",
       "    <tr>\n",
       "      <th>0</th>\n",
       "      <td>The Legion of Super-Heroes</td>\n",
       "      <td>Lightning Lad</td>\n",
       "      <td>Alien</td>\n",
       "      <td>DC Comics</td>\n",
       "    </tr>\n",
       "    <tr>\n",
       "      <th>1</th>\n",
       "      <td>The Menace of Dream Girl!</td>\n",
       "      <td>Dream Girl</td>\n",
       "      <td>Alien</td>\n",
       "      <td>DC Comics</td>\n",
       "    </tr>\n",
       "    <tr>\n",
       "      <th>2</th>\n",
       "      <td>The War Between Supergirl and The Supermen Eme...</td>\n",
       "      <td>Brainiac 5</td>\n",
       "      <td>Alien</td>\n",
       "      <td>DC Comics</td>\n",
       "    </tr>\n",
       "    <tr>\n",
       "      <th>3</th>\n",
       "      <td>Hercules in the 20th Century!</td>\n",
       "      <td>Invisible Kid</td>\n",
       "      <td>Human</td>\n",
       "      <td>DC Comics</td>\n",
       "    </tr>\n",
       "    <tr>\n",
       "      <th>4</th>\n",
       "      <td>The War Between Supergirl and The Supermen Eme...</td>\n",
       "      <td>Phantom Girl</td>\n",
       "      <td>Alien</td>\n",
       "      <td>DC Comics</td>\n",
       "    </tr>\n",
       "    <tr>\n",
       "      <th>5</th>\n",
       "      <td>The War Between Supergirl and The Supermen Eme...</td>\n",
       "      <td>Sun Boy</td>\n",
       "      <td>Radiation</td>\n",
       "      <td>DC Comics</td>\n",
       "    </tr>\n",
       "    <tr>\n",
       "      <th>6</th>\n",
       "      <td>Lana Lang and the Legion of Super-Heroes!</td>\n",
       "      <td>Thom Kallor</td>\n",
       "      <td>Alien</td>\n",
       "      <td>DC Comics</td>\n",
       "    </tr>\n",
       "    <tr>\n",
       "      <th>7</th>\n",
       "      <td>Escape of the Fatal Five!; Mocked By The Master!</td>\n",
       "      <td>Shadow Lass</td>\n",
       "      <td>Alien</td>\n",
       "      <td>DC Comics</td>\n",
       "    </tr>\n",
       "    <tr>\n",
       "      <th>8</th>\n",
       "      <td>The War Between Supergirl and The Supermen Eme...</td>\n",
       "      <td>Duplicate Girl</td>\n",
       "      <td>Alien</td>\n",
       "      <td>DC Comics</td>\n",
       "    </tr>\n",
       "    <tr>\n",
       "      <th>9</th>\n",
       "      <td>The Confession of Superboy!</td>\n",
       "      <td>Element Lad</td>\n",
       "      <td>Alien</td>\n",
       "      <td>DC Comics</td>\n",
       "    </tr>\n",
       "  </tbody>\n",
       "</table>\n",
       "</div>"
      ],
      "text/plain": [
       "                                     first_apperance            name  \\\n",
       "0                         The Legion of Super-Heroes   Lightning Lad   \n",
       "1                          The Menace of Dream Girl!      Dream Girl   \n",
       "2  The War Between Supergirl and The Supermen Eme...      Brainiac 5   \n",
       "3                      Hercules in the 20th Century!   Invisible Kid   \n",
       "4  The War Between Supergirl and The Supermen Eme...    Phantom Girl   \n",
       "5  The War Between Supergirl and The Supermen Eme...         Sun Boy   \n",
       "6          Lana Lang and the Legion of Super-Heroes!     Thom Kallor   \n",
       "7   Escape of the Fatal Five!; Mocked By The Master!     Shadow Lass   \n",
       "8  The War Between Supergirl and The Supermen Eme...  Duplicate Girl   \n",
       "9                        The Confession of Superboy!     Element Lad   \n",
       "\n",
       "      origin  publisher  \n",
       "0      Alien  DC Comics  \n",
       "1      Alien  DC Comics  \n",
       "2      Alien  DC Comics  \n",
       "3      Human  DC Comics  \n",
       "4      Alien  DC Comics  \n",
       "5  Radiation  DC Comics  \n",
       "6      Alien  DC Comics  \n",
       "7      Alien  DC Comics  \n",
       "8      Alien  DC Comics  \n",
       "9      Alien  DC Comics  "
      ]
     },
     "execution_count": 2,
     "metadata": {},
     "output_type": "execute_result"
    }
   ],
   "source": [
    "df = pd.read_csv(\"../data/superhero.csv\")\n",
    "df.rename(columns={\n",
    "    'first_appeared_in_issue':  'first_apperance'\n",
    "},inplace=True)\n",
    "df.head(10)"
   ]
  },
  {
   "cell_type": "markdown",
   "metadata": {},
   "source": [
    "## Data Structure\n",
    "### Datatypes"
   ]
  },
  {
   "cell_type": "code",
   "execution_count": 3,
   "metadata": {},
   "outputs": [
    {
     "name": "stdout",
     "output_type": "stream",
     "text": [
      "<class 'pandas.core.frame.DataFrame'>\n",
      "RangeIndex: 45224 entries, 0 to 45223\n",
      "Data columns (total 4 columns):\n",
      " #   Column           Non-Null Count  Dtype \n",
      "---  ------           --------------  ----- \n",
      " 0   first_apperance  35981 non-null  object\n",
      " 1   name             45224 non-null  object\n",
      " 2   origin           45224 non-null  object\n",
      " 3   publisher        45224 non-null  object\n",
      "dtypes: object(4)\n",
      "memory usage: 1.4+ MB\n"
     ]
    }
   ],
   "source": [
    "df.info()"
   ]
  },
  {
   "cell_type": "code",
   "execution_count": 4,
   "metadata": {},
   "outputs": [
    {
     "data": {
      "text/plain": [
       "(45224, 4)"
      ]
     },
     "execution_count": 4,
     "metadata": {},
     "output_type": "execute_result"
    }
   ],
   "source": [
    "df.shape"
   ]
  },
  {
   "cell_type": "markdown",
   "metadata": {},
   "source": [
    "### Missing values "
   ]
  },
  {
   "cell_type": "code",
   "execution_count": 5,
   "metadata": {},
   "outputs": [
    {
     "name": "stdout",
     "output_type": "stream",
     "text": [
      "NaN count per column using describe():\n",
      "first_apperance    9243\n",
      "name                  0\n",
      "origin                0\n",
      "publisher             0\n",
      "Name: count, dtype: object\n"
     ]
    }
   ],
   "source": [
    "non_nan_count = df.describe().loc['count']\n",
    "nan_count_using_describe = len(df) - non_nan_count\n",
    "print(\"NaN count per column using describe():\")\n",
    "print(nan_count_using_describe)"
   ]
  },
  {
   "cell_type": "markdown",
   "metadata": {},
   "source": [
    "### Descriptive statistics\n",
    "\n"
   ]
  },
  {
   "cell_type": "code",
   "execution_count": 6,
   "metadata": {},
   "outputs": [
    {
     "data": {
      "application/vnd.microsoft.datawrangler.viewer.v0+json": {
       "columns": [
        {
         "name": "index",
         "rawType": "object",
         "type": "string"
        },
        {
         "name": "first_apperance",
         "rawType": "object",
         "type": "unknown"
        },
        {
         "name": "name",
         "rawType": "object",
         "type": "unknown"
        },
        {
         "name": "origin",
         "rawType": "object",
         "type": "unknown"
        },
        {
         "name": "publisher",
         "rawType": "object",
         "type": "unknown"
        }
       ],
       "conversionMethod": "pd.DataFrame",
       "ref": "488ddde3-5eb4-4297-9f7c-9e9a0497798e",
       "rows": [
        [
         "count",
         "35981",
         "45224",
         "45224",
         "45224"
        ],
        [
         "unique",
         "17125",
         "40342",
         "10",
         "580"
        ],
        [
         "top",
         "Vol. 1",
         "Mirage",
         "Human",
         "Marvel"
        ],
        [
         "freq",
         "245",
         "11",
         "27561",
         "10921"
        ]
       ],
       "shape": {
        "columns": 4,
        "rows": 4
       }
      },
      "text/html": [
       "<div>\n",
       "<style scoped>\n",
       "    .dataframe tbody tr th:only-of-type {\n",
       "        vertical-align: middle;\n",
       "    }\n",
       "\n",
       "    .dataframe tbody tr th {\n",
       "        vertical-align: top;\n",
       "    }\n",
       "\n",
       "    .dataframe thead th {\n",
       "        text-align: right;\n",
       "    }\n",
       "</style>\n",
       "<table border=\"1\" class=\"dataframe\">\n",
       "  <thead>\n",
       "    <tr style=\"text-align: right;\">\n",
       "      <th></th>\n",
       "      <th>first_apperance</th>\n",
       "      <th>name</th>\n",
       "      <th>origin</th>\n",
       "      <th>publisher</th>\n",
       "    </tr>\n",
       "  </thead>\n",
       "  <tbody>\n",
       "    <tr>\n",
       "      <th>count</th>\n",
       "      <td>35981</td>\n",
       "      <td>45224</td>\n",
       "      <td>45224</td>\n",
       "      <td>45224</td>\n",
       "    </tr>\n",
       "    <tr>\n",
       "      <th>unique</th>\n",
       "      <td>17125</td>\n",
       "      <td>40342</td>\n",
       "      <td>10</td>\n",
       "      <td>580</td>\n",
       "    </tr>\n",
       "    <tr>\n",
       "      <th>top</th>\n",
       "      <td>Vol. 1</td>\n",
       "      <td>Mirage</td>\n",
       "      <td>Human</td>\n",
       "      <td>Marvel</td>\n",
       "    </tr>\n",
       "    <tr>\n",
       "      <th>freq</th>\n",
       "      <td>245</td>\n",
       "      <td>11</td>\n",
       "      <td>27561</td>\n",
       "      <td>10921</td>\n",
       "    </tr>\n",
       "  </tbody>\n",
       "</table>\n",
       "</div>"
      ],
      "text/plain": [
       "       first_apperance    name origin publisher\n",
       "count            35981   45224  45224     45224\n",
       "unique           17125   40342     10       580\n",
       "top             Vol. 1  Mirage  Human    Marvel\n",
       "freq               245      11  27561     10921"
      ]
     },
     "execution_count": 6,
     "metadata": {},
     "output_type": "execute_result"
    }
   ],
   "source": [
    "df.describe()"
   ]
  },
  {
   "cell_type": "markdown",
   "metadata": {},
   "source": [
    "## Data Cleaning\n",
    "### Missing Data\n",
    "**Identify and Handle Missing Data:**\n",
    "- Check for missing values and decide how to handle them\n",
    "- For this dataset, it might be reasonable to drop rows with missing data or to fill in missing values where appropriate\n",
    "\n",
    "Of the 45224 superheroes entries we have, 9243 are missing information about thier first appearance.<br>\n",
    "The information does exist but retrieving the it would be time consuming. "
   ]
  },
  {
   "cell_type": "code",
   "execution_count": 7,
   "metadata": {},
   "outputs": [
    {
     "name": "stdout",
     "output_type": "stream",
     "text": [
      "<class 'pandas.core.frame.DataFrame'>\n",
      "Index: 35981 entries, 0 to 45223\n",
      "Data columns (total 4 columns):\n",
      " #   Column           Non-Null Count  Dtype \n",
      "---  ------           --------------  ----- \n",
      " 0   first_apperance  35981 non-null  object\n",
      " 1   name             35981 non-null  object\n",
      " 2   origin           35981 non-null  object\n",
      " 3   publisher        35981 non-null  object\n",
      "dtypes: object(4)\n",
      "memory usage: 1.4+ MB\n"
     ]
    }
   ],
   "source": [
    "df.dropna(how='any', inplace=True)\n",
    "df.info()"
   ]
  },
  {
   "cell_type": "code",
   "execution_count": 8,
   "metadata": {},
   "outputs": [
    {
     "data": {
      "application/vnd.microsoft.datawrangler.viewer.v0+json": {
       "columns": [
        {
         "name": "index",
         "rawType": "object",
         "type": "string"
        },
        {
         "name": "first_apperance",
         "rawType": "object",
         "type": "unknown"
        },
        {
         "name": "name",
         "rawType": "object",
         "type": "unknown"
        },
        {
         "name": "origin",
         "rawType": "object",
         "type": "unknown"
        },
        {
         "name": "publisher",
         "rawType": "object",
         "type": "unknown"
        }
       ],
       "conversionMethod": "pd.DataFrame",
       "ref": "3be882fe-701d-41c7-8f9b-dd7949da02e7",
       "rows": [
        [
         "count",
         "35981",
         "35981",
         "35981",
         "35981"
        ],
        [
         "unique",
         "17125",
         "32730",
         "10",
         "449"
        ],
        [
         "top",
         "Vol. 1",
         "Michael",
         "Human",
         "Marvel"
        ],
        [
         "freq",
         "245",
         "8",
         "21711",
         "10141"
        ]
       ],
       "shape": {
        "columns": 4,
        "rows": 4
       }
      },
      "text/html": [
       "<div>\n",
       "<style scoped>\n",
       "    .dataframe tbody tr th:only-of-type {\n",
       "        vertical-align: middle;\n",
       "    }\n",
       "\n",
       "    .dataframe tbody tr th {\n",
       "        vertical-align: top;\n",
       "    }\n",
       "\n",
       "    .dataframe thead th {\n",
       "        text-align: right;\n",
       "    }\n",
       "</style>\n",
       "<table border=\"1\" class=\"dataframe\">\n",
       "  <thead>\n",
       "    <tr style=\"text-align: right;\">\n",
       "      <th></th>\n",
       "      <th>first_apperance</th>\n",
       "      <th>name</th>\n",
       "      <th>origin</th>\n",
       "      <th>publisher</th>\n",
       "    </tr>\n",
       "  </thead>\n",
       "  <tbody>\n",
       "    <tr>\n",
       "      <th>count</th>\n",
       "      <td>35981</td>\n",
       "      <td>35981</td>\n",
       "      <td>35981</td>\n",
       "      <td>35981</td>\n",
       "    </tr>\n",
       "    <tr>\n",
       "      <th>unique</th>\n",
       "      <td>17125</td>\n",
       "      <td>32730</td>\n",
       "      <td>10</td>\n",
       "      <td>449</td>\n",
       "    </tr>\n",
       "    <tr>\n",
       "      <th>top</th>\n",
       "      <td>Vol. 1</td>\n",
       "      <td>Michael</td>\n",
       "      <td>Human</td>\n",
       "      <td>Marvel</td>\n",
       "    </tr>\n",
       "    <tr>\n",
       "      <th>freq</th>\n",
       "      <td>245</td>\n",
       "      <td>8</td>\n",
       "      <td>21711</td>\n",
       "      <td>10141</td>\n",
       "    </tr>\n",
       "  </tbody>\n",
       "</table>\n",
       "</div>"
      ],
      "text/plain": [
       "       first_apperance     name origin publisher\n",
       "count            35981    35981  35981     35981\n",
       "unique           17125    32730     10       449\n",
       "top             Vol. 1  Michael  Human    Marvel\n",
       "freq               245        8  21711     10141"
      ]
     },
     "execution_count": 8,
     "metadata": {},
     "output_type": "execute_result"
    }
   ],
   "source": [
    "df.describe()"
   ]
  },
  {
   "cell_type": "markdown",
   "metadata": {},
   "source": [
    "### Consistency in Data\n",
    "**Ensure Consistency in Text Data:**\n",
    "- Verify the 'publisher' and 'origin' columns for consistency in different cells\n",
    "\n",
    "Of the 35981 entries, we have 32730 unique entries.<br>\n",
    "This means that 3251 superheroes share the same name.<br>\n",
    "Using a mask we see the below:"
   ]
  },
  {
   "cell_type": "code",
   "execution_count": 9,
   "metadata": {},
   "outputs": [
    {
     "data": {
      "application/vnd.microsoft.datawrangler.viewer.v0+json": {
       "columns": [
        {
         "name": "index",
         "rawType": "int64",
         "type": "integer"
        },
        {
         "name": "first_apperance",
         "rawType": "object",
         "type": "string"
        },
        {
         "name": "name",
         "rawType": "object",
         "type": "string"
        },
        {
         "name": "origin",
         "rawType": "object",
         "type": "string"
        },
        {
         "name": "publisher",
         "rawType": "object",
         "type": "string"
        }
       ],
       "conversionMethod": "pd.DataFrame",
       "ref": "f8915c5f-7ad9-4512-bbb0-4d2e7d821c90",
       "rows": [
        [
         "24451",
         "Pyre Part 3",
         "Abel",
         "Cyborg",
         "Aspen MLT"
        ],
        [
         "27071",
         "Of Birth, Death And The Confused, Painful Bit In Between",
         "Aberdeen Angus",
         "Other",
         "Marvel"
        ],
        [
         "18431",
         "King David",
         "Abigail",
         "Human",
         "In the Public Domain"
        ],
        [
         "35670",
         "Volume 1",
         "Abigail",
         "Human",
         "Wildstorm"
        ],
        [
         "20111",
         "David and Goliath",
         "Abner",
         "Human",
         "In the Public Domain"
        ],
        [
         "26740",
         "Les \"Souris\" Dansent",
         "Abominable Snowman",
         "Animal",
         "DC Comics"
        ],
        [
         "20443",
         "I Challenged...Groot! The Monster From Planet X!",
         "Abominable Snowman",
         "Other",
         "Marvel"
        ],
        [
         "10063",
         "The Devil You Know",
         "Abraxas",
         "God/Eternal",
         "Marvel"
        ],
        [
         "8557",
         "Een nieuw begin...",
         "Abyss",
         "Mutant",
         "Marvel"
        ],
        [
         "39720",
         "Big Trouble",
         "Ace",
         "Human",
         "Amalgam Comics"
        ],
        [
         "26033",
         "Hitchhiker's Guide to the Lost Cities Part I",
         "Ace",
         "Human",
         "Antarctic Press"
        ],
        [
         "28567",
         "Monkey Business",
         "Ace",
         "Human",
         "IDW Publishing"
        ],
        [
         "5924",
         "From The Top",
         "Ace",
         "Human",
         "Marvel"
        ],
        [
         "23855",
         "Mastermind Excello/Heavy on Action - Light on Plot/The Man with the X-Ray Eyes/The Winning Hand/Monstro/You Say You Want An Evolution/Heartbreak Kid/Happy Ending/Positron/I Was the Guy in Spider-Man Armpit!",
         "Ace",
         "Human",
         "Marvel"
        ],
        [
         "27781",
         "Why-2K",
         "Acidia",
         "Alien",
         "Wildstorm"
        ],
        [
         "26816",
         "The Book of Rebirth",
         "Adam",
         "Alien",
         "DC Comics"
        ],
        [
         "24511",
         "Part One",
         "Adam",
         "Other",
         "Marvel"
        ],
        [
         "43676",
         "Life Blood",
         "Adara",
         "God/Eternal",
         "DC Comics"
        ],
        [
         "43744",
         "The Burning Age, Part One of Three",
         "Adept",
         "Human",
         "DC Comics"
        ],
        [
         "43200",
         "Book One: \"Judgment in Infinity!\"",
         "Adjudicator",
         "Alien",
         "DC Comics"
        ],
        [
         "42044",
         "Dead-End Kids, Part 3",
         "Adjudicator",
         "Human",
         "Marvel"
        ],
        [
         "31061",
         "Anger Management",
         "Adonis",
         "Human",
         "DC Comics"
        ],
        [
         "20478",
         "Fountain Of Death",
         "Adonis",
         "God/Eternal",
         "In the Public Domain"
        ],
        [
         "39492",
         "Jack 'N' Apes",
         "Aesop",
         "Animal",
         "Vertigo"
        ],
        [
         "29517",
         "Gang War!",
         "Afterburner",
         "Mutant",
         "Marvel"
        ],
        [
         "29533",
         "Glory Days",
         "Afterlife",
         "Other",
         "Lone Star Press"
        ],
        [
         "14026",
         "Personality Conflict",
         "Agamemnon",
         "God/Eternal",
         "Marvel"
        ],
        [
         "17106",
         "Bitter Orange!",
         "Agent Orange",
         "Human",
         "DC Comics"
        ],
        [
         "6492",
         "Sodom and Modem (Part 1)",
         "Agent Orange",
         "Human",
         "Wildstorm"
        ],
        [
         "28452",
         "Star Wars",
         "Agent Smith",
         "Robot",
         "Titan Books"
        ],
        [
         "25167",
         "Battleground Manhattan",
         "Agni",
         "Mutant",
         "DC Comics"
        ],
        [
         "29202",
         "Crossroads",
         "Agony",
         "God/Eternal",
         "Chaos! Comics"
        ],
        [
         "36081",
         "The End Has Just Begun",
         "Agony",
         "Other",
         "Marvel"
        ],
        [
         "28721",
         "The Devil You Know",
         "Agony",
         "Other",
         "Vertigo"
        ],
        [
         "29004",
         "Wolves at the Gate, Part Two",
         "Aiko",
         "Human",
         "Dark Horse Comics"
        ],
        [
         "35701",
         "The Elements Of Evil - Part One",
         "Air",
         "Other",
         "Valiant"
        ],
        [
         "8636",
         "The Machine",
         "Airborne",
         "Mutant",
         "Dark Horse Comics"
        ],
        [
         "34366",
         "Looking Forward",
         "Airborne",
         "Human",
         "Marvel"
        ],
        [
         "44727",
         "Bloom",
         "Aisha",
         "God/Eternal",
         "Play Press"
        ],
        [
         "42662",
         "Scab, Part One (of Three): Secrets and Lies",
         "Aisha",
         "Human",
         "Vertigo"
        ],
        [
         "29642",
         "Thrashed, Part Two",
         "Aja",
         "Human",
         "Marvel"
        ],
        [
         "34041",
         "Darkfire Delusions",
         "Ajax",
         "Human",
         "Dabel Brothers Productions"
        ],
        [
         "11271",
         "In Absentia",
         "Ajax",
         "Human",
         "Marvel"
        ],
        [
         "40937",
         "Hit And Myth",
         "Ajax",
         "Human",
         "Marvel"
        ],
        [
         "23582",
         "Of Course You Realize This Means War!",
         "Akhenaten",
         "God/Eternal",
         "Marvel"
        ],
        [
         "13614",
         "Book 1",
         "Albert",
         "Human",
         "Dark Horse Comics"
        ],
        [
         "38151",
         "Fear The Hunters, Pt. 2",
         "Albert",
         "Human",
         "Image"
        ],
        [
         "13094",
         "The Book of Law, Chapter Three of Five: Pfaultz/The Road To You, Being There: Part Three",
         "Albert",
         "Human",
         "Vertigo"
        ],
        [
         "22958",
         "Haunted, Part 1",
         "Albert",
         "Human",
         "Vertigo"
        ],
        [
         "11045",
         "Volume 2: From \"Kubla Khan\" to the Brontë Sisters to The Picture of Dorian Gray",
         "Albion",
         "Human",
         "In the Public Domain"
        ]
       ],
       "shape": {
        "columns": 4,
        "rows": 3251
       }
      },
      "text/html": [
       "<div>\n",
       "<style scoped>\n",
       "    .dataframe tbody tr th:only-of-type {\n",
       "        vertical-align: middle;\n",
       "    }\n",
       "\n",
       "    .dataframe tbody tr th {\n",
       "        vertical-align: top;\n",
       "    }\n",
       "\n",
       "    .dataframe thead th {\n",
       "        text-align: right;\n",
       "    }\n",
       "</style>\n",
       "<table border=\"1\" class=\"dataframe\">\n",
       "  <thead>\n",
       "    <tr style=\"text-align: right;\">\n",
       "      <th></th>\n",
       "      <th>first_apperance</th>\n",
       "      <th>name</th>\n",
       "      <th>origin</th>\n",
       "      <th>publisher</th>\n",
       "    </tr>\n",
       "  </thead>\n",
       "  <tbody>\n",
       "    <tr>\n",
       "      <th>24451</th>\n",
       "      <td>Pyre Part 3</td>\n",
       "      <td>Abel</td>\n",
       "      <td>Cyborg</td>\n",
       "      <td>Aspen MLT</td>\n",
       "    </tr>\n",
       "    <tr>\n",
       "      <th>27071</th>\n",
       "      <td>Of Birth, Death And The Confused, Painful Bit ...</td>\n",
       "      <td>Aberdeen Angus</td>\n",
       "      <td>Other</td>\n",
       "      <td>Marvel</td>\n",
       "    </tr>\n",
       "    <tr>\n",
       "      <th>18431</th>\n",
       "      <td>King David</td>\n",
       "      <td>Abigail</td>\n",
       "      <td>Human</td>\n",
       "      <td>In the Public Domain</td>\n",
       "    </tr>\n",
       "    <tr>\n",
       "      <th>35670</th>\n",
       "      <td>Volume 1</td>\n",
       "      <td>Abigail</td>\n",
       "      <td>Human</td>\n",
       "      <td>Wildstorm</td>\n",
       "    </tr>\n",
       "    <tr>\n",
       "      <th>20111</th>\n",
       "      <td>David and Goliath</td>\n",
       "      <td>Abner</td>\n",
       "      <td>Human</td>\n",
       "      <td>In the Public Domain</td>\n",
       "    </tr>\n",
       "    <tr>\n",
       "      <th>...</th>\n",
       "      <td>...</td>\n",
       "      <td>...</td>\n",
       "      <td>...</td>\n",
       "      <td>...</td>\n",
       "    </tr>\n",
       "    <tr>\n",
       "      <th>24533</th>\n",
       "      <td>Training Day(Part 2)</td>\n",
       "      <td>Zog</td>\n",
       "      <td>Human</td>\n",
       "      <td>Image</td>\n",
       "    </tr>\n",
       "    <tr>\n",
       "      <th>22435</th>\n",
       "      <td>Vengeance of Bane</td>\n",
       "      <td>Zombie</td>\n",
       "      <td>Human</td>\n",
       "      <td>DC Comics</td>\n",
       "    </tr>\n",
       "    <tr>\n",
       "      <th>31983</th>\n",
       "      <td>The Storm That Shook Japan; Operation: C.H.A.S...</td>\n",
       "      <td>Zon</td>\n",
       "      <td>Animal</td>\n",
       "      <td>DC Comics</td>\n",
       "    </tr>\n",
       "    <tr>\n",
       "      <th>14079</th>\n",
       "      <td>Devil's Lot; Meat Machine Part 1</td>\n",
       "      <td>Zora</td>\n",
       "      <td>Human</td>\n",
       "      <td>Dark Horse Comics</td>\n",
       "    </tr>\n",
       "    <tr>\n",
       "      <th>30925</th>\n",
       "      <td>Nova</td>\n",
       "      <td>Zorr</td>\n",
       "      <td>Alien</td>\n",
       "      <td>Marvel</td>\n",
       "    </tr>\n",
       "  </tbody>\n",
       "</table>\n",
       "<p>3251 rows × 4 columns</p>\n",
       "</div>"
      ],
      "text/plain": [
       "                                         first_apperance            name  \\\n",
       "24451                                        Pyre Part 3            Abel   \n",
       "27071  Of Birth, Death And The Confused, Painful Bit ...  Aberdeen Angus   \n",
       "18431                                         King David         Abigail   \n",
       "35670                                           Volume 1         Abigail   \n",
       "20111                                  David and Goliath           Abner   \n",
       "...                                                  ...             ...   \n",
       "24533                               Training Day(Part 2)             Zog   \n",
       "22435                                  Vengeance of Bane          Zombie   \n",
       "31983  The Storm That Shook Japan; Operation: C.H.A.S...             Zon   \n",
       "14079                   Devil's Lot; Meat Machine Part 1            Zora   \n",
       "30925                                               Nova            Zorr   \n",
       "\n",
       "       origin             publisher  \n",
       "24451  Cyborg             Aspen MLT  \n",
       "27071   Other                Marvel  \n",
       "18431   Human  In the Public Domain  \n",
       "35670   Human             Wildstorm  \n",
       "20111   Human  In the Public Domain  \n",
       "...       ...                   ...  \n",
       "24533   Human                 Image  \n",
       "22435   Human             DC Comics  \n",
       "31983  Animal             DC Comics  \n",
       "14079   Human     Dark Horse Comics  \n",
       "30925   Alien                Marvel  \n",
       "\n",
       "[3251 rows x 4 columns]"
      ]
     },
     "execution_count": 9,
     "metadata": {},
     "output_type": "execute_result"
    }
   ],
   "source": [
    "df[df.duplicated('name')].sort_values(by=['name', 'publisher','origin'])"
   ]
  },
  {
   "cell_type": "markdown",
   "metadata": {},
   "source": [
    "## 5. **Data Transformation**\n",
    "   - **Categorize Publishers:**\n",
    "     - To analyze the influence of major versus independent publishers, categorize the publishers accordingly\n",
    "     - Identify major publishers based on their frequency in the dataset\n",
    "     - Create a new column `publisher_category`\n",
    "     - Assign `major` to major publishers and `independent` to others\n",
    "\n",
    "\n"
   ]
  },
  {
   "cell_type": "markdown",
   "metadata": {},
   "source": [
    "## 6. **Exploratory Data Analysis (EDA)**\n",
    "   - **Visualize the Distribution of Superhero Origins:**\n",
    "     - Use a bar plot to visualize the distribution of superhero origins\n",
    "   - **Analyze Publisher Trends Over Time:**\n",
    "     - If the `first_appeared_in_issue` column allows, explore how different publishers have introduced superheroes over time\n",
    "\n",
    "\n"
   ]
  },
  {
   "cell_type": "code",
   "execution_count": 10,
   "metadata": {},
   "outputs": [],
   "source": [
    "# profile = ProfileReport(df, title='Superhero Data Analysis')\n",
    "# profile.to_notebook_iframe()"
   ]
  },
  {
   "cell_type": "markdown",
   "metadata": {},
   "source": [
    "## 7. **Detailed Data Analysis**\n",
    "   - **Publisher Dominance:**\n",
    "     - Analyze which publishers have introduced the most superheroes using a bar plot\n",
    "   - **Relationship Between Origin and Publisher:**\n",
    "     - Explore whether certain publishers are associated with specific origins using a heatmap\n",
    "\n",
    "\n"
   ]
  },
  {
   "cell_type": "markdown",
   "metadata": {},
   "source": [
    "## 8. **Hypothesis Testing**\n",
    "    - For instance, test whether major publishers are more likely to introduce superheroes from certain origins compared to independent publishers\n",
    "\n",
    "\n"
   ]
  },
  {
   "cell_type": "markdown",
   "metadata": {},
   "source": [
    "## 9. **Conclude Your Analysis**\n",
    "   - Summarize the key findings from your analysis\n",
    "     ```markdown\n",
    "     # Example of summarizing conclusions\n",
    "     # \"The analysis revealed that major publishers dominate the superhero landscape, introducing the majority of superheroes with a preference for certain origins. Independent publishers contribute a diverse set of origins, though in smaller numbers.\"\n",
    "     ```\n"
   ]
  },
  {
   "cell_type": "markdown",
   "metadata": {},
   "source": [
    "\n",
    "## 10. **Suggestions for Future Analysis**\n",
    "   - Suggest further areas to explore, such as examining trends in superhero characteristics over time or how different origins relate to the success of the superheroes\n",
    "     ```markdown\n",
    "     # Example of suggesting further analysis\n",
    "     # \"Future analysis could explore how the characteristics of superheroes (such as powers, alliances) have evolved over time, or examine the correlation between a superhero's origin and their success or longevity in popular culture.\"\n",
    "     ```\n"
   ]
  }
 ],
 "metadata": {
  "kernelspec": {
   "display_name": ".venv",
   "language": "python",
   "name": "python3"
  },
  "language_info": {
   "codemirror_mode": {
    "name": "ipython",
    "version": 3
   },
   "file_extension": ".py",
   "mimetype": "text/x-python",
   "name": "python",
   "nbconvert_exporter": "python",
   "pygments_lexer": "ipython3",
   "version": "3.9.6"
  }
 },
 "nbformat": 4,
 "nbformat_minor": 2
}
