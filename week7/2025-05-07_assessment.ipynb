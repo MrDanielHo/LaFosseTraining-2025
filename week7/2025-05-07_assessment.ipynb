{
 "cells": [
  {
   "cell_type": "markdown",
   "metadata": {},
   "source": [
    "# Assessment III - Python for Data Analysis\n",
    "\n",
    "For this assessment you'll have 1 dataset to work with: `employee_data.csv`, which contains information about employees, including some missing values and inconsistencies.\n",
    "\n",
    "When you finish it, please send your `ipynb` file to Monia.\n",
    "\n",
    "- You **should not** communicate with your colleagues\n",
    "- You **can** use Google and/or your notes\n",
    "- You **have** 2 hours to complete this assessment\n",
    "\n",
    "<br>\n",
    "\n",
    "---\n"
   ]
  },
  {
   "cell_type": "markdown",
   "metadata": {},
   "source": [
    "\n",
    "## Data Cleaning with Pandas\n",
    "\n",
    "### Load the dataset into a Pandas DataFrame"
   ]
  },
  {
   "cell_type": "code",
   "execution_count": 1,
   "metadata": {},
   "outputs": [],
   "source": [
    "# Import Modules\n",
    "import pandas as pd\n",
    "import matplotlib.pyplot as plt\n",
    "import seaborn as sns"
   ]
  },
  {
   "cell_type": "code",
   "execution_count": 2,
   "metadata": {},
   "outputs": [
    {
     "data": {
      "application/vnd.microsoft.datawrangler.viewer.v0+json": {
       "columns": [
        {
         "name": "index",
         "rawType": "int64",
         "type": "integer"
        },
        {
         "name": "Employee ID",
         "rawType": "int64",
         "type": "integer"
        },
        {
         "name": "Name",
         "rawType": "object",
         "type": "string"
        },
        {
         "name": "Department",
         "rawType": "object",
         "type": "string"
        },
        {
         "name": "Salary",
         "rawType": "float64",
         "type": "float"
        },
        {
         "name": "Joining Date",
         "rawType": "object",
         "type": "string"
        },
        {
         "name": "Years of Experience",
         "rawType": "int64",
         "type": "integer"
        }
       ],
       "conversionMethod": "pd.DataFrame",
       "ref": "653b3407-78bd-41f8-88f6-d74d1ce9db52",
       "rows": [
        [
         "0",
         "1",
         "Employee 1",
         "IT",
         null,
         "2020-01-15",
         "2"
        ],
        [
         "1",
         "2",
         "Employee 2",
         "HR",
         "55000.0",
         "2019-02-20",
         "3"
        ],
        [
         "2",
         "3",
         "Employee 3",
         "Finance",
         "72000.0",
         "2018-03-10",
         "4"
        ],
        [
         "3",
         "4",
         "Employee 4",
         "Marketing",
         null,
         "2021-04-25",
         "1"
        ],
        [
         "4",
         "5",
         "Employee 5",
         "Sales",
         "48000.0",
         "2017-05-30",
         "5"
        ]
       ],
       "shape": {
        "columns": 6,
        "rows": 5
       }
      },
      "text/html": [
       "<div>\n",
       "<style scoped>\n",
       "    .dataframe tbody tr th:only-of-type {\n",
       "        vertical-align: middle;\n",
       "    }\n",
       "\n",
       "    .dataframe tbody tr th {\n",
       "        vertical-align: top;\n",
       "    }\n",
       "\n",
       "    .dataframe thead th {\n",
       "        text-align: right;\n",
       "    }\n",
       "</style>\n",
       "<table border=\"1\" class=\"dataframe\">\n",
       "  <thead>\n",
       "    <tr style=\"text-align: right;\">\n",
       "      <th></th>\n",
       "      <th>Employee ID</th>\n",
       "      <th>Name</th>\n",
       "      <th>Department</th>\n",
       "      <th>Salary</th>\n",
       "      <th>Joining Date</th>\n",
       "      <th>Years of Experience</th>\n",
       "    </tr>\n",
       "  </thead>\n",
       "  <tbody>\n",
       "    <tr>\n",
       "      <th>0</th>\n",
       "      <td>1</td>\n",
       "      <td>Employee 1</td>\n",
       "      <td>IT</td>\n",
       "      <td>NaN</td>\n",
       "      <td>2020-01-15</td>\n",
       "      <td>2</td>\n",
       "    </tr>\n",
       "    <tr>\n",
       "      <th>1</th>\n",
       "      <td>2</td>\n",
       "      <td>Employee 2</td>\n",
       "      <td>HR</td>\n",
       "      <td>55000.0</td>\n",
       "      <td>2019-02-20</td>\n",
       "      <td>3</td>\n",
       "    </tr>\n",
       "    <tr>\n",
       "      <th>2</th>\n",
       "      <td>3</td>\n",
       "      <td>Employee 3</td>\n",
       "      <td>Finance</td>\n",
       "      <td>72000.0</td>\n",
       "      <td>2018-03-10</td>\n",
       "      <td>4</td>\n",
       "    </tr>\n",
       "    <tr>\n",
       "      <th>3</th>\n",
       "      <td>4</td>\n",
       "      <td>Employee 4</td>\n",
       "      <td>Marketing</td>\n",
       "      <td>NaN</td>\n",
       "      <td>2021-04-25</td>\n",
       "      <td>1</td>\n",
       "    </tr>\n",
       "    <tr>\n",
       "      <th>4</th>\n",
       "      <td>5</td>\n",
       "      <td>Employee 5</td>\n",
       "      <td>Sales</td>\n",
       "      <td>48000.0</td>\n",
       "      <td>2017-05-30</td>\n",
       "      <td>5</td>\n",
       "    </tr>\n",
       "  </tbody>\n",
       "</table>\n",
       "</div>"
      ],
      "text/plain": [
       "   Employee ID        Name Department   Salary Joining Date  \\\n",
       "0            1  Employee 1         IT      NaN   2020-01-15   \n",
       "1            2  Employee 2         HR  55000.0   2019-02-20   \n",
       "2            3  Employee 3    Finance  72000.0   2018-03-10   \n",
       "3            4  Employee 4  Marketing      NaN   2021-04-25   \n",
       "4            5  Employee 5      Sales  48000.0   2017-05-30   \n",
       "\n",
       "   Years of Experience  \n",
       "0                    2  \n",
       "1                    3  \n",
       "2                    4  \n",
       "3                    1  \n",
       "4                    5  "
      ]
     },
     "execution_count": 2,
     "metadata": {},
     "output_type": "execute_result"
    }
   ],
   "source": [
    "# Load the dataset\n",
    "df = pd.read_csv('../data/employee_data.csv')\n",
    "\n",
    "# Display the first 5 rows\n",
    "df.head()"
   ]
  },
  {
   "cell_type": "code",
   "execution_count": 3,
   "metadata": {},
   "outputs": [],
   "source": [
    "# Rename Employee ID as ID\n",
    "df.rename(columns={'Employee ID': 'ID'}, inplace=True)\n",
    "df.set_index('ID', inplace=True) \n"
   ]
  },
  {
   "cell_type": "code",
   "execution_count": 4,
   "metadata": {},
   "outputs": [
    {
     "data": {
      "application/vnd.microsoft.datawrangler.viewer.v0+json": {
       "columns": [
        {
         "name": "index",
         "rawType": "object",
         "type": "string"
        },
        {
         "name": "Salary",
         "rawType": "float64",
         "type": "float"
        },
        {
         "name": "Years of Experience",
         "rawType": "float64",
         "type": "float"
        }
       ],
       "conversionMethod": "pd.DataFrame",
       "ref": "6a8a6325-aade-4e9f-9038-207a732e18a3",
       "rows": [
        [
         "count",
         "15.0",
         "20.0"
        ],
        [
         "mean",
         "56533.333333333336",
         "3.5"
        ],
        [
         "std",
         "8279.636522962888",
         "1.538967528127731"
        ],
        [
         "min",
         "47000.0",
         "1.0"
        ],
        [
         "25%",
         "49500.0",
         "2.0"
        ],
        [
         "50%",
         "53000.0",
         "3.5"
        ],
        [
         "75%",
         "63000.0",
         "5.0"
        ],
        [
         "max",
         "72000.0",
         "6.0"
        ]
       ],
       "shape": {
        "columns": 2,
        "rows": 8
       }
      },
      "text/html": [
       "<div>\n",
       "<style scoped>\n",
       "    .dataframe tbody tr th:only-of-type {\n",
       "        vertical-align: middle;\n",
       "    }\n",
       "\n",
       "    .dataframe tbody tr th {\n",
       "        vertical-align: top;\n",
       "    }\n",
       "\n",
       "    .dataframe thead th {\n",
       "        text-align: right;\n",
       "    }\n",
       "</style>\n",
       "<table border=\"1\" class=\"dataframe\">\n",
       "  <thead>\n",
       "    <tr style=\"text-align: right;\">\n",
       "      <th></th>\n",
       "      <th>Salary</th>\n",
       "      <th>Years of Experience</th>\n",
       "    </tr>\n",
       "  </thead>\n",
       "  <tbody>\n",
       "    <tr>\n",
       "      <th>count</th>\n",
       "      <td>15.000000</td>\n",
       "      <td>20.000000</td>\n",
       "    </tr>\n",
       "    <tr>\n",
       "      <th>mean</th>\n",
       "      <td>56533.333333</td>\n",
       "      <td>3.500000</td>\n",
       "    </tr>\n",
       "    <tr>\n",
       "      <th>std</th>\n",
       "      <td>8279.636523</td>\n",
       "      <td>1.538968</td>\n",
       "    </tr>\n",
       "    <tr>\n",
       "      <th>min</th>\n",
       "      <td>47000.000000</td>\n",
       "      <td>1.000000</td>\n",
       "    </tr>\n",
       "    <tr>\n",
       "      <th>25%</th>\n",
       "      <td>49500.000000</td>\n",
       "      <td>2.000000</td>\n",
       "    </tr>\n",
       "    <tr>\n",
       "      <th>50%</th>\n",
       "      <td>53000.000000</td>\n",
       "      <td>3.500000</td>\n",
       "    </tr>\n",
       "    <tr>\n",
       "      <th>75%</th>\n",
       "      <td>63000.000000</td>\n",
       "      <td>5.000000</td>\n",
       "    </tr>\n",
       "    <tr>\n",
       "      <th>max</th>\n",
       "      <td>72000.000000</td>\n",
       "      <td>6.000000</td>\n",
       "    </tr>\n",
       "  </tbody>\n",
       "</table>\n",
       "</div>"
      ],
      "text/plain": [
       "             Salary  Years of Experience\n",
       "count     15.000000            20.000000\n",
       "mean   56533.333333             3.500000\n",
       "std     8279.636523             1.538968\n",
       "min    47000.000000             1.000000\n",
       "25%    49500.000000             2.000000\n",
       "50%    53000.000000             3.500000\n",
       "75%    63000.000000             5.000000\n",
       "max    72000.000000             6.000000"
      ]
     },
     "execution_count": 4,
     "metadata": {},
     "output_type": "execute_result"
    }
   ],
   "source": [
    "df.describe()"
   ]
  },
  {
   "cell_type": "code",
   "execution_count": 5,
   "metadata": {},
   "outputs": [
    {
     "data": {
      "application/vnd.microsoft.datawrangler.viewer.v0+json": {
       "columns": [
        {
         "name": "index",
         "rawType": "object",
         "type": "string"
        },
        {
         "name": "Name",
         "rawType": "object",
         "type": "unknown"
        },
        {
         "name": "Department",
         "rawType": "object",
         "type": "unknown"
        },
        {
         "name": "Joining Date",
         "rawType": "object",
         "type": "unknown"
        }
       ],
       "conversionMethod": "pd.DataFrame",
       "ref": "22dd76ac-2e64-47ca-a4e6-a1b40d726975",
       "rows": [
        [
         "count",
         "20",
         "20",
         "20"
        ],
        [
         "unique",
         "20",
         "5",
         "20"
        ],
        [
         "top",
         "Employee 1",
         "IT",
         "2020-01-15"
        ],
        [
         "freq",
         "1",
         "4",
         "1"
        ]
       ],
       "shape": {
        "columns": 3,
        "rows": 4
       }
      },
      "text/html": [
       "<div>\n",
       "<style scoped>\n",
       "    .dataframe tbody tr th:only-of-type {\n",
       "        vertical-align: middle;\n",
       "    }\n",
       "\n",
       "    .dataframe tbody tr th {\n",
       "        vertical-align: top;\n",
       "    }\n",
       "\n",
       "    .dataframe thead th {\n",
       "        text-align: right;\n",
       "    }\n",
       "</style>\n",
       "<table border=\"1\" class=\"dataframe\">\n",
       "  <thead>\n",
       "    <tr style=\"text-align: right;\">\n",
       "      <th></th>\n",
       "      <th>Name</th>\n",
       "      <th>Department</th>\n",
       "      <th>Joining Date</th>\n",
       "    </tr>\n",
       "  </thead>\n",
       "  <tbody>\n",
       "    <tr>\n",
       "      <th>count</th>\n",
       "      <td>20</td>\n",
       "      <td>20</td>\n",
       "      <td>20</td>\n",
       "    </tr>\n",
       "    <tr>\n",
       "      <th>unique</th>\n",
       "      <td>20</td>\n",
       "      <td>5</td>\n",
       "      <td>20</td>\n",
       "    </tr>\n",
       "    <tr>\n",
       "      <th>top</th>\n",
       "      <td>Employee 1</td>\n",
       "      <td>IT</td>\n",
       "      <td>2020-01-15</td>\n",
       "    </tr>\n",
       "    <tr>\n",
       "      <th>freq</th>\n",
       "      <td>1</td>\n",
       "      <td>4</td>\n",
       "      <td>1</td>\n",
       "    </tr>\n",
       "  </tbody>\n",
       "</table>\n",
       "</div>"
      ],
      "text/plain": [
       "              Name Department Joining Date\n",
       "count           20         20           20\n",
       "unique          20          5           20\n",
       "top     Employee 1         IT   2020-01-15\n",
       "freq             1          4            1"
      ]
     },
     "execution_count": 5,
     "metadata": {},
     "output_type": "execute_result"
    }
   ],
   "source": [
    "df.describe(include='O')"
   ]
  },
  {
   "cell_type": "code",
   "execution_count": 6,
   "metadata": {},
   "outputs": [
    {
     "name": "stdout",
     "output_type": "stream",
     "text": [
      "<class 'pandas.core.frame.DataFrame'>\n",
      "Index: 20 entries, 1 to 20\n",
      "Data columns (total 5 columns):\n",
      " #   Column               Non-Null Count  Dtype  \n",
      "---  ------               --------------  -----  \n",
      " 0   Name                 20 non-null     object \n",
      " 1   Department           20 non-null     object \n",
      " 2   Salary               15 non-null     float64\n",
      " 3   Joining Date         20 non-null     object \n",
      " 4   Years of Experience  20 non-null     int64  \n",
      "dtypes: float64(1), int64(1), object(3)\n",
      "memory usage: 960.0+ bytes\n"
     ]
    }
   ],
   "source": [
    "df.info()"
   ]
  },
  {
   "cell_type": "code",
   "execution_count": 7,
   "metadata": {},
   "outputs": [
    {
     "data": {
      "text/plain": [
       "(20, 5)"
      ]
     },
     "execution_count": 7,
     "metadata": {},
     "output_type": "execute_result"
    }
   ],
   "source": [
    "df.shape"
   ]
  },
  {
   "cell_type": "markdown",
   "metadata": {},
   "source": [
    "### Identify and handle any missing values:\n",
    "#### Drop rows where more than two columns are missing data\n"
   ]
  },
  {
   "cell_type": "code",
   "execution_count": 8,
   "metadata": {},
   "outputs": [
    {
     "data": {
      "application/vnd.microsoft.datawrangler.viewer.v0+json": {
       "columns": [
        {
         "name": "ID",
         "rawType": "int64",
         "type": "integer"
        },
        {
         "name": "Name",
         "rawType": "object",
         "type": "string"
        },
        {
         "name": "Department",
         "rawType": "object",
         "type": "string"
        },
        {
         "name": "Salary",
         "rawType": "float64",
         "type": "float"
        },
        {
         "name": "Joining Date",
         "rawType": "object",
         "type": "string"
        },
        {
         "name": "Years of Experience",
         "rawType": "int64",
         "type": "integer"
        }
       ],
       "conversionMethod": "pd.DataFrame",
       "ref": "16816045-09f2-45f0-864a-5e029a7a1efb",
       "rows": [
        [
         "1",
         "Employee 1",
         "IT",
         null,
         "2020-01-15",
         "2"
        ],
        [
         "2",
         "Employee 2",
         "HR",
         "55000.0",
         "2019-02-20",
         "3"
        ],
        [
         "3",
         "Employee 3",
         "Finance",
         "72000.0",
         "2018-03-10",
         "4"
        ],
        [
         "4",
         "Employee 4",
         "Marketing",
         null,
         "2021-04-25",
         "1"
        ],
        [
         "5",
         "Employee 5",
         "Sales",
         "48000.0",
         "2017-05-30",
         "5"
        ],
        [
         "6",
         "Employee 6",
         "IT",
         "52000.0",
         "2016-06-05",
         "6"
        ],
        [
         "7",
         "Employee 7",
         "HR",
         "60000.0",
         "2020-07-18",
         "2"
        ],
        [
         "8",
         "Employee 8",
         "Finance",
         "67000.0",
         "2019-08-22",
         "3"
        ],
        [
         "9",
         "Employee 9",
         "Marketing",
         "49000.0",
         "2018-09-14",
         "4"
        ],
        [
         "10",
         "Employee 10",
         "Sales",
         "53000.0",
         "2017-10-19",
         "5"
        ],
        [
         "11",
         "Employee 11",
         "IT",
         null,
         "2020-11-02",
         "2"
        ],
        [
         "12",
         "Employee 12",
         "HR",
         "68000.0",
         "2019-12-08",
         "3"
        ],
        [
         "13",
         "Employee 13",
         "Finance",
         "50000.0",
         "2018-01-23",
         "4"
        ],
        [
         "14",
         "Employee 14",
         "Marketing",
         null,
         "2021-02-27",
         "1"
        ],
        [
         "15",
         "Employee 15",
         "Sales",
         "47000.0",
         "2017-03-12",
         "5"
        ],
        [
         "16",
         "Employee 16",
         "IT",
         "61000.0",
         "2020-04-15",
         "6"
        ],
        [
         "17",
         "Employee 17",
         "HR",
         "65000.0",
         "2019-05-28",
         "2"
        ],
        [
         "18",
         "Employee 18",
         "Finance",
         "49000.0",
         "2018-06-07",
         "3"
        ],
        [
         "19",
         "Employee 19",
         "Marketing",
         null,
         "2021-07-19",
         "4"
        ],
        [
         "20",
         "Employee 20",
         "Sales",
         "52000.0",
         "2017-08-23",
         "5"
        ]
       ],
       "shape": {
        "columns": 5,
        "rows": 20
       }
      },
      "text/html": [
       "<div>\n",
       "<style scoped>\n",
       "    .dataframe tbody tr th:only-of-type {\n",
       "        vertical-align: middle;\n",
       "    }\n",
       "\n",
       "    .dataframe tbody tr th {\n",
       "        vertical-align: top;\n",
       "    }\n",
       "\n",
       "    .dataframe thead th {\n",
       "        text-align: right;\n",
       "    }\n",
       "</style>\n",
       "<table border=\"1\" class=\"dataframe\">\n",
       "  <thead>\n",
       "    <tr style=\"text-align: right;\">\n",
       "      <th></th>\n",
       "      <th>Name</th>\n",
       "      <th>Department</th>\n",
       "      <th>Salary</th>\n",
       "      <th>Joining Date</th>\n",
       "      <th>Years of Experience</th>\n",
       "    </tr>\n",
       "    <tr>\n",
       "      <th>ID</th>\n",
       "      <th></th>\n",
       "      <th></th>\n",
       "      <th></th>\n",
       "      <th></th>\n",
       "      <th></th>\n",
       "    </tr>\n",
       "  </thead>\n",
       "  <tbody>\n",
       "    <tr>\n",
       "      <th>1</th>\n",
       "      <td>Employee 1</td>\n",
       "      <td>IT</td>\n",
       "      <td>NaN</td>\n",
       "      <td>2020-01-15</td>\n",
       "      <td>2</td>\n",
       "    </tr>\n",
       "    <tr>\n",
       "      <th>2</th>\n",
       "      <td>Employee 2</td>\n",
       "      <td>HR</td>\n",
       "      <td>55000.0</td>\n",
       "      <td>2019-02-20</td>\n",
       "      <td>3</td>\n",
       "    </tr>\n",
       "    <tr>\n",
       "      <th>3</th>\n",
       "      <td>Employee 3</td>\n",
       "      <td>Finance</td>\n",
       "      <td>72000.0</td>\n",
       "      <td>2018-03-10</td>\n",
       "      <td>4</td>\n",
       "    </tr>\n",
       "    <tr>\n",
       "      <th>4</th>\n",
       "      <td>Employee 4</td>\n",
       "      <td>Marketing</td>\n",
       "      <td>NaN</td>\n",
       "      <td>2021-04-25</td>\n",
       "      <td>1</td>\n",
       "    </tr>\n",
       "    <tr>\n",
       "      <th>5</th>\n",
       "      <td>Employee 5</td>\n",
       "      <td>Sales</td>\n",
       "      <td>48000.0</td>\n",
       "      <td>2017-05-30</td>\n",
       "      <td>5</td>\n",
       "    </tr>\n",
       "    <tr>\n",
       "      <th>6</th>\n",
       "      <td>Employee 6</td>\n",
       "      <td>IT</td>\n",
       "      <td>52000.0</td>\n",
       "      <td>2016-06-05</td>\n",
       "      <td>6</td>\n",
       "    </tr>\n",
       "    <tr>\n",
       "      <th>7</th>\n",
       "      <td>Employee 7</td>\n",
       "      <td>HR</td>\n",
       "      <td>60000.0</td>\n",
       "      <td>2020-07-18</td>\n",
       "      <td>2</td>\n",
       "    </tr>\n",
       "    <tr>\n",
       "      <th>8</th>\n",
       "      <td>Employee 8</td>\n",
       "      <td>Finance</td>\n",
       "      <td>67000.0</td>\n",
       "      <td>2019-08-22</td>\n",
       "      <td>3</td>\n",
       "    </tr>\n",
       "    <tr>\n",
       "      <th>9</th>\n",
       "      <td>Employee 9</td>\n",
       "      <td>Marketing</td>\n",
       "      <td>49000.0</td>\n",
       "      <td>2018-09-14</td>\n",
       "      <td>4</td>\n",
       "    </tr>\n",
       "    <tr>\n",
       "      <th>10</th>\n",
       "      <td>Employee 10</td>\n",
       "      <td>Sales</td>\n",
       "      <td>53000.0</td>\n",
       "      <td>2017-10-19</td>\n",
       "      <td>5</td>\n",
       "    </tr>\n",
       "    <tr>\n",
       "      <th>11</th>\n",
       "      <td>Employee 11</td>\n",
       "      <td>IT</td>\n",
       "      <td>NaN</td>\n",
       "      <td>2020-11-02</td>\n",
       "      <td>2</td>\n",
       "    </tr>\n",
       "    <tr>\n",
       "      <th>12</th>\n",
       "      <td>Employee 12</td>\n",
       "      <td>HR</td>\n",
       "      <td>68000.0</td>\n",
       "      <td>2019-12-08</td>\n",
       "      <td>3</td>\n",
       "    </tr>\n",
       "    <tr>\n",
       "      <th>13</th>\n",
       "      <td>Employee 13</td>\n",
       "      <td>Finance</td>\n",
       "      <td>50000.0</td>\n",
       "      <td>2018-01-23</td>\n",
       "      <td>4</td>\n",
       "    </tr>\n",
       "    <tr>\n",
       "      <th>14</th>\n",
       "      <td>Employee 14</td>\n",
       "      <td>Marketing</td>\n",
       "      <td>NaN</td>\n",
       "      <td>2021-02-27</td>\n",
       "      <td>1</td>\n",
       "    </tr>\n",
       "    <tr>\n",
       "      <th>15</th>\n",
       "      <td>Employee 15</td>\n",
       "      <td>Sales</td>\n",
       "      <td>47000.0</td>\n",
       "      <td>2017-03-12</td>\n",
       "      <td>5</td>\n",
       "    </tr>\n",
       "    <tr>\n",
       "      <th>16</th>\n",
       "      <td>Employee 16</td>\n",
       "      <td>IT</td>\n",
       "      <td>61000.0</td>\n",
       "      <td>2020-04-15</td>\n",
       "      <td>6</td>\n",
       "    </tr>\n",
       "    <tr>\n",
       "      <th>17</th>\n",
       "      <td>Employee 17</td>\n",
       "      <td>HR</td>\n",
       "      <td>65000.0</td>\n",
       "      <td>2019-05-28</td>\n",
       "      <td>2</td>\n",
       "    </tr>\n",
       "    <tr>\n",
       "      <th>18</th>\n",
       "      <td>Employee 18</td>\n",
       "      <td>Finance</td>\n",
       "      <td>49000.0</td>\n",
       "      <td>2018-06-07</td>\n",
       "      <td>3</td>\n",
       "    </tr>\n",
       "    <tr>\n",
       "      <th>19</th>\n",
       "      <td>Employee 19</td>\n",
       "      <td>Marketing</td>\n",
       "      <td>NaN</td>\n",
       "      <td>2021-07-19</td>\n",
       "      <td>4</td>\n",
       "    </tr>\n",
       "    <tr>\n",
       "      <th>20</th>\n",
       "      <td>Employee 20</td>\n",
       "      <td>Sales</td>\n",
       "      <td>52000.0</td>\n",
       "      <td>2017-08-23</td>\n",
       "      <td>5</td>\n",
       "    </tr>\n",
       "  </tbody>\n",
       "</table>\n",
       "</div>"
      ],
      "text/plain": [
       "           Name Department   Salary Joining Date  Years of Experience\n",
       "ID                                                                   \n",
       "1    Employee 1         IT      NaN   2020-01-15                    2\n",
       "2    Employee 2         HR  55000.0   2019-02-20                    3\n",
       "3    Employee 3    Finance  72000.0   2018-03-10                    4\n",
       "4    Employee 4  Marketing      NaN   2021-04-25                    1\n",
       "5    Employee 5      Sales  48000.0   2017-05-30                    5\n",
       "6    Employee 6         IT  52000.0   2016-06-05                    6\n",
       "7    Employee 7         HR  60000.0   2020-07-18                    2\n",
       "8    Employee 8    Finance  67000.0   2019-08-22                    3\n",
       "9    Employee 9  Marketing  49000.0   2018-09-14                    4\n",
       "10  Employee 10      Sales  53000.0   2017-10-19                    5\n",
       "11  Employee 11         IT      NaN   2020-11-02                    2\n",
       "12  Employee 12         HR  68000.0   2019-12-08                    3\n",
       "13  Employee 13    Finance  50000.0   2018-01-23                    4\n",
       "14  Employee 14  Marketing      NaN   2021-02-27                    1\n",
       "15  Employee 15      Sales  47000.0   2017-03-12                    5\n",
       "16  Employee 16         IT  61000.0   2020-04-15                    6\n",
       "17  Employee 17         HR  65000.0   2019-05-28                    2\n",
       "18  Employee 18    Finance  49000.0   2018-06-07                    3\n",
       "19  Employee 19  Marketing      NaN   2021-07-19                    4\n",
       "20  Employee 20      Sales  52000.0   2017-08-23                    5"
      ]
     },
     "execution_count": 8,
     "metadata": {},
     "output_type": "execute_result"
    }
   ],
   "source": [
    "df.dropna(axis=0, thresh=2)"
   ]
  },
  {
   "cell_type": "markdown",
   "metadata": {},
   "source": [
    "#### Fill missing values in the `Salary` column with the average salary\n"
   ]
  },
  {
   "cell_type": "code",
   "execution_count": 9,
   "metadata": {},
   "outputs": [],
   "source": [
    "df['Salary'] = df['Salary'].fillna(df['Salary'].mean()).round(-2).apply(pd.to_numeric)\n"
   ]
  },
  {
   "cell_type": "markdown",
   "metadata": {},
   "source": [
    "### Standardize the format of the Department column"
   ]
  },
  {
   "cell_type": "code",
   "execution_count": 10,
   "metadata": {},
   "outputs": [
    {
     "data": {
      "text/plain": [
       "['FINANCE', 'HR', 'IT', 'MARKETING', 'SALES']"
      ]
     },
     "execution_count": 10,
     "metadata": {},
     "output_type": "execute_result"
    }
   ],
   "source": [
    "df['Department'] = df['Department'].str.upper().str.strip()\n",
    "sorted(df['Department'].unique())"
   ]
  },
  {
   "cell_type": "markdown",
   "metadata": {},
   "source": [
    "### Standardise Joining Date"
   ]
  },
  {
   "cell_type": "code",
   "execution_count": 11,
   "metadata": {},
   "outputs": [],
   "source": [
    "df['Joining Date'] = pd.to_datetime(df['Joining Date']).dt.strftime('%Y-%m-%d')"
   ]
  },
  {
   "cell_type": "code",
   "execution_count": 12,
   "metadata": {},
   "outputs": [
    {
     "data": {
      "application/vnd.microsoft.datawrangler.viewer.v0+json": {
       "columns": [
        {
         "name": "ID",
         "rawType": "int64",
         "type": "integer"
        },
        {
         "name": "Name",
         "rawType": "object",
         "type": "string"
        },
        {
         "name": "Department",
         "rawType": "object",
         "type": "string"
        },
        {
         "name": "Salary",
         "rawType": "float64",
         "type": "float"
        },
        {
         "name": "Joining Date",
         "rawType": "object",
         "type": "string"
        },
        {
         "name": "Years of Experience",
         "rawType": "int64",
         "type": "integer"
        }
       ],
       "conversionMethod": "pd.DataFrame",
       "ref": "0fa18fe3-8b9f-437c-bbb9-f40973a54bf7",
       "rows": [
        [
         "1",
         "Employee 1",
         "IT",
         "56500.0",
         "2020-01-15",
         "2"
        ],
        [
         "2",
         "Employee 2",
         "HR",
         "55000.0",
         "2019-02-20",
         "3"
        ],
        [
         "3",
         "Employee 3",
         "FINANCE",
         "72000.0",
         "2018-03-10",
         "4"
        ],
        [
         "4",
         "Employee 4",
         "MARKETING",
         "56500.0",
         "2021-04-25",
         "1"
        ],
        [
         "5",
         "Employee 5",
         "SALES",
         "48000.0",
         "2017-05-30",
         "5"
        ],
        [
         "6",
         "Employee 6",
         "IT",
         "52000.0",
         "2016-06-05",
         "6"
        ],
        [
         "7",
         "Employee 7",
         "HR",
         "60000.0",
         "2020-07-18",
         "2"
        ],
        [
         "8",
         "Employee 8",
         "FINANCE",
         "67000.0",
         "2019-08-22",
         "3"
        ],
        [
         "9",
         "Employee 9",
         "MARKETING",
         "49000.0",
         "2018-09-14",
         "4"
        ],
        [
         "10",
         "Employee 10",
         "SALES",
         "53000.0",
         "2017-10-19",
         "5"
        ],
        [
         "11",
         "Employee 11",
         "IT",
         "56500.0",
         "2020-11-02",
         "2"
        ],
        [
         "12",
         "Employee 12",
         "HR",
         "68000.0",
         "2019-12-08",
         "3"
        ],
        [
         "13",
         "Employee 13",
         "FINANCE",
         "50000.0",
         "2018-01-23",
         "4"
        ],
        [
         "14",
         "Employee 14",
         "MARKETING",
         "56500.0",
         "2021-02-27",
         "1"
        ],
        [
         "15",
         "Employee 15",
         "SALES",
         "47000.0",
         "2017-03-12",
         "5"
        ],
        [
         "16",
         "Employee 16",
         "IT",
         "61000.0",
         "2020-04-15",
         "6"
        ],
        [
         "17",
         "Employee 17",
         "HR",
         "65000.0",
         "2019-05-28",
         "2"
        ],
        [
         "18",
         "Employee 18",
         "FINANCE",
         "49000.0",
         "2018-06-07",
         "3"
        ],
        [
         "19",
         "Employee 19",
         "MARKETING",
         "56500.0",
         "2021-07-19",
         "4"
        ],
        [
         "20",
         "Employee 20",
         "SALES",
         "52000.0",
         "2017-08-23",
         "5"
        ]
       ],
       "shape": {
        "columns": 5,
        "rows": 20
       }
      },
      "text/html": [
       "<div>\n",
       "<style scoped>\n",
       "    .dataframe tbody tr th:only-of-type {\n",
       "        vertical-align: middle;\n",
       "    }\n",
       "\n",
       "    .dataframe tbody tr th {\n",
       "        vertical-align: top;\n",
       "    }\n",
       "\n",
       "    .dataframe thead th {\n",
       "        text-align: right;\n",
       "    }\n",
       "</style>\n",
       "<table border=\"1\" class=\"dataframe\">\n",
       "  <thead>\n",
       "    <tr style=\"text-align: right;\">\n",
       "      <th></th>\n",
       "      <th>Name</th>\n",
       "      <th>Department</th>\n",
       "      <th>Salary</th>\n",
       "      <th>Joining Date</th>\n",
       "      <th>Years of Experience</th>\n",
       "    </tr>\n",
       "    <tr>\n",
       "      <th>ID</th>\n",
       "      <th></th>\n",
       "      <th></th>\n",
       "      <th></th>\n",
       "      <th></th>\n",
       "      <th></th>\n",
       "    </tr>\n",
       "  </thead>\n",
       "  <tbody>\n",
       "    <tr>\n",
       "      <th>1</th>\n",
       "      <td>Employee 1</td>\n",
       "      <td>IT</td>\n",
       "      <td>56500.0</td>\n",
       "      <td>2020-01-15</td>\n",
       "      <td>2</td>\n",
       "    </tr>\n",
       "    <tr>\n",
       "      <th>2</th>\n",
       "      <td>Employee 2</td>\n",
       "      <td>HR</td>\n",
       "      <td>55000.0</td>\n",
       "      <td>2019-02-20</td>\n",
       "      <td>3</td>\n",
       "    </tr>\n",
       "    <tr>\n",
       "      <th>3</th>\n",
       "      <td>Employee 3</td>\n",
       "      <td>FINANCE</td>\n",
       "      <td>72000.0</td>\n",
       "      <td>2018-03-10</td>\n",
       "      <td>4</td>\n",
       "    </tr>\n",
       "    <tr>\n",
       "      <th>4</th>\n",
       "      <td>Employee 4</td>\n",
       "      <td>MARKETING</td>\n",
       "      <td>56500.0</td>\n",
       "      <td>2021-04-25</td>\n",
       "      <td>1</td>\n",
       "    </tr>\n",
       "    <tr>\n",
       "      <th>5</th>\n",
       "      <td>Employee 5</td>\n",
       "      <td>SALES</td>\n",
       "      <td>48000.0</td>\n",
       "      <td>2017-05-30</td>\n",
       "      <td>5</td>\n",
       "    </tr>\n",
       "    <tr>\n",
       "      <th>6</th>\n",
       "      <td>Employee 6</td>\n",
       "      <td>IT</td>\n",
       "      <td>52000.0</td>\n",
       "      <td>2016-06-05</td>\n",
       "      <td>6</td>\n",
       "    </tr>\n",
       "    <tr>\n",
       "      <th>7</th>\n",
       "      <td>Employee 7</td>\n",
       "      <td>HR</td>\n",
       "      <td>60000.0</td>\n",
       "      <td>2020-07-18</td>\n",
       "      <td>2</td>\n",
       "    </tr>\n",
       "    <tr>\n",
       "      <th>8</th>\n",
       "      <td>Employee 8</td>\n",
       "      <td>FINANCE</td>\n",
       "      <td>67000.0</td>\n",
       "      <td>2019-08-22</td>\n",
       "      <td>3</td>\n",
       "    </tr>\n",
       "    <tr>\n",
       "      <th>9</th>\n",
       "      <td>Employee 9</td>\n",
       "      <td>MARKETING</td>\n",
       "      <td>49000.0</td>\n",
       "      <td>2018-09-14</td>\n",
       "      <td>4</td>\n",
       "    </tr>\n",
       "    <tr>\n",
       "      <th>10</th>\n",
       "      <td>Employee 10</td>\n",
       "      <td>SALES</td>\n",
       "      <td>53000.0</td>\n",
       "      <td>2017-10-19</td>\n",
       "      <td>5</td>\n",
       "    </tr>\n",
       "    <tr>\n",
       "      <th>11</th>\n",
       "      <td>Employee 11</td>\n",
       "      <td>IT</td>\n",
       "      <td>56500.0</td>\n",
       "      <td>2020-11-02</td>\n",
       "      <td>2</td>\n",
       "    </tr>\n",
       "    <tr>\n",
       "      <th>12</th>\n",
       "      <td>Employee 12</td>\n",
       "      <td>HR</td>\n",
       "      <td>68000.0</td>\n",
       "      <td>2019-12-08</td>\n",
       "      <td>3</td>\n",
       "    </tr>\n",
       "    <tr>\n",
       "      <th>13</th>\n",
       "      <td>Employee 13</td>\n",
       "      <td>FINANCE</td>\n",
       "      <td>50000.0</td>\n",
       "      <td>2018-01-23</td>\n",
       "      <td>4</td>\n",
       "    </tr>\n",
       "    <tr>\n",
       "      <th>14</th>\n",
       "      <td>Employee 14</td>\n",
       "      <td>MARKETING</td>\n",
       "      <td>56500.0</td>\n",
       "      <td>2021-02-27</td>\n",
       "      <td>1</td>\n",
       "    </tr>\n",
       "    <tr>\n",
       "      <th>15</th>\n",
       "      <td>Employee 15</td>\n",
       "      <td>SALES</td>\n",
       "      <td>47000.0</td>\n",
       "      <td>2017-03-12</td>\n",
       "      <td>5</td>\n",
       "    </tr>\n",
       "    <tr>\n",
       "      <th>16</th>\n",
       "      <td>Employee 16</td>\n",
       "      <td>IT</td>\n",
       "      <td>61000.0</td>\n",
       "      <td>2020-04-15</td>\n",
       "      <td>6</td>\n",
       "    </tr>\n",
       "    <tr>\n",
       "      <th>17</th>\n",
       "      <td>Employee 17</td>\n",
       "      <td>HR</td>\n",
       "      <td>65000.0</td>\n",
       "      <td>2019-05-28</td>\n",
       "      <td>2</td>\n",
       "    </tr>\n",
       "    <tr>\n",
       "      <th>18</th>\n",
       "      <td>Employee 18</td>\n",
       "      <td>FINANCE</td>\n",
       "      <td>49000.0</td>\n",
       "      <td>2018-06-07</td>\n",
       "      <td>3</td>\n",
       "    </tr>\n",
       "    <tr>\n",
       "      <th>19</th>\n",
       "      <td>Employee 19</td>\n",
       "      <td>MARKETING</td>\n",
       "      <td>56500.0</td>\n",
       "      <td>2021-07-19</td>\n",
       "      <td>4</td>\n",
       "    </tr>\n",
       "    <tr>\n",
       "      <th>20</th>\n",
       "      <td>Employee 20</td>\n",
       "      <td>SALES</td>\n",
       "      <td>52000.0</td>\n",
       "      <td>2017-08-23</td>\n",
       "      <td>5</td>\n",
       "    </tr>\n",
       "  </tbody>\n",
       "</table>\n",
       "</div>"
      ],
      "text/plain": [
       "           Name Department   Salary Joining Date  Years of Experience\n",
       "ID                                                                   \n",
       "1    Employee 1         IT  56500.0   2020-01-15                    2\n",
       "2    Employee 2         HR  55000.0   2019-02-20                    3\n",
       "3    Employee 3    FINANCE  72000.0   2018-03-10                    4\n",
       "4    Employee 4  MARKETING  56500.0   2021-04-25                    1\n",
       "5    Employee 5      SALES  48000.0   2017-05-30                    5\n",
       "6    Employee 6         IT  52000.0   2016-06-05                    6\n",
       "7    Employee 7         HR  60000.0   2020-07-18                    2\n",
       "8    Employee 8    FINANCE  67000.0   2019-08-22                    3\n",
       "9    Employee 9  MARKETING  49000.0   2018-09-14                    4\n",
       "10  Employee 10      SALES  53000.0   2017-10-19                    5\n",
       "11  Employee 11         IT  56500.0   2020-11-02                    2\n",
       "12  Employee 12         HR  68000.0   2019-12-08                    3\n",
       "13  Employee 13    FINANCE  50000.0   2018-01-23                    4\n",
       "14  Employee 14  MARKETING  56500.0   2021-02-27                    1\n",
       "15  Employee 15      SALES  47000.0   2017-03-12                    5\n",
       "16  Employee 16         IT  61000.0   2020-04-15                    6\n",
       "17  Employee 17         HR  65000.0   2019-05-28                    2\n",
       "18  Employee 18    FINANCE  49000.0   2018-06-07                    3\n",
       "19  Employee 19  MARKETING  56500.0   2021-07-19                    4\n",
       "20  Employee 20      SALES  52000.0   2017-08-23                    5"
      ]
     },
     "execution_count": 12,
     "metadata": {},
     "output_type": "execute_result"
    }
   ],
   "source": [
    "df"
   ]
  },
  {
   "cell_type": "markdown",
   "metadata": {},
   "source": [
    "### Save the cleaned data to a new CSV file, `cleaned_employee_data.csv`\n"
   ]
  },
  {
   "cell_type": "code",
   "execution_count": 13,
   "metadata": {},
   "outputs": [],
   "source": [
    "df.to_csv('../data/cleaned_employee_data.csv', sep=',', encoding='utf-8', index=True, header=True)"
   ]
  },
  {
   "cell_type": "markdown",
   "metadata": {},
   "source": [
    "\n",
    "---\n"
   ]
  },
  {
   "cell_type": "markdown",
   "metadata": {},
   "source": [
    "\n",
    "## Data Transformation with Pandas\n",
    "\n",
    "Using the cleaned dataset `cleaned_employee_data.csv`, perform the following transformations:\n"
   ]
  },
  {
   "cell_type": "code",
   "execution_count": 14,
   "metadata": {},
   "outputs": [
    {
     "data": {
      "application/vnd.microsoft.datawrangler.viewer.v0+json": {
       "columns": [
        {
         "name": "ID",
         "rawType": "int64",
         "type": "integer"
        },
        {
         "name": "Name",
         "rawType": "object",
         "type": "string"
        },
        {
         "name": "Department",
         "rawType": "object",
         "type": "string"
        },
        {
         "name": "Salary",
         "rawType": "float64",
         "type": "float"
        },
        {
         "name": "Joining Date",
         "rawType": "object",
         "type": "string"
        },
        {
         "name": "Years of Experience",
         "rawType": "int64",
         "type": "integer"
        }
       ],
       "conversionMethod": "pd.DataFrame",
       "ref": "c728a56e-1cc6-4e7a-95ca-d3304147441f",
       "rows": [
        [
         "1",
         "Employee 1",
         "IT",
         "56500.0",
         "2020-01-15",
         "2"
        ],
        [
         "2",
         "Employee 2",
         "HR",
         "55000.0",
         "2019-02-20",
         "3"
        ],
        [
         "3",
         "Employee 3",
         "FINANCE",
         "72000.0",
         "2018-03-10",
         "4"
        ],
        [
         "4",
         "Employee 4",
         "MARKETING",
         "56500.0",
         "2021-04-25",
         "1"
        ],
        [
         "5",
         "Employee 5",
         "SALES",
         "48000.0",
         "2017-05-30",
         "5"
        ]
       ],
       "shape": {
        "columns": 5,
        "rows": 5
       }
      },
      "text/html": [
       "<div>\n",
       "<style scoped>\n",
       "    .dataframe tbody tr th:only-of-type {\n",
       "        vertical-align: middle;\n",
       "    }\n",
       "\n",
       "    .dataframe tbody tr th {\n",
       "        vertical-align: top;\n",
       "    }\n",
       "\n",
       "    .dataframe thead th {\n",
       "        text-align: right;\n",
       "    }\n",
       "</style>\n",
       "<table border=\"1\" class=\"dataframe\">\n",
       "  <thead>\n",
       "    <tr style=\"text-align: right;\">\n",
       "      <th></th>\n",
       "      <th>Name</th>\n",
       "      <th>Department</th>\n",
       "      <th>Salary</th>\n",
       "      <th>Joining Date</th>\n",
       "      <th>Years of Experience</th>\n",
       "    </tr>\n",
       "    <tr>\n",
       "      <th>ID</th>\n",
       "      <th></th>\n",
       "      <th></th>\n",
       "      <th></th>\n",
       "      <th></th>\n",
       "      <th></th>\n",
       "    </tr>\n",
       "  </thead>\n",
       "  <tbody>\n",
       "    <tr>\n",
       "      <th>1</th>\n",
       "      <td>Employee 1</td>\n",
       "      <td>IT</td>\n",
       "      <td>56500.0</td>\n",
       "      <td>2020-01-15</td>\n",
       "      <td>2</td>\n",
       "    </tr>\n",
       "    <tr>\n",
       "      <th>2</th>\n",
       "      <td>Employee 2</td>\n",
       "      <td>HR</td>\n",
       "      <td>55000.0</td>\n",
       "      <td>2019-02-20</td>\n",
       "      <td>3</td>\n",
       "    </tr>\n",
       "    <tr>\n",
       "      <th>3</th>\n",
       "      <td>Employee 3</td>\n",
       "      <td>FINANCE</td>\n",
       "      <td>72000.0</td>\n",
       "      <td>2018-03-10</td>\n",
       "      <td>4</td>\n",
       "    </tr>\n",
       "    <tr>\n",
       "      <th>4</th>\n",
       "      <td>Employee 4</td>\n",
       "      <td>MARKETING</td>\n",
       "      <td>56500.0</td>\n",
       "      <td>2021-04-25</td>\n",
       "      <td>1</td>\n",
       "    </tr>\n",
       "    <tr>\n",
       "      <th>5</th>\n",
       "      <td>Employee 5</td>\n",
       "      <td>SALES</td>\n",
       "      <td>48000.0</td>\n",
       "      <td>2017-05-30</td>\n",
       "      <td>5</td>\n",
       "    </tr>\n",
       "  </tbody>\n",
       "</table>\n",
       "</div>"
      ],
      "text/plain": [
       "          Name Department   Salary Joining Date  Years of Experience\n",
       "ID                                                                  \n",
       "1   Employee 1         IT  56500.0   2020-01-15                    2\n",
       "2   Employee 2         HR  55000.0   2019-02-20                    3\n",
       "3   Employee 3    FINANCE  72000.0   2018-03-10                    4\n",
       "4   Employee 4  MARKETING  56500.0   2021-04-25                    1\n",
       "5   Employee 5      SALES  48000.0   2017-05-30                    5"
      ]
     },
     "execution_count": 14,
     "metadata": {},
     "output_type": "execute_result"
    }
   ],
   "source": [
    "# Reassign the dataframe to use the cleaned dataset\n",
    "df = pd.read_csv('../data/cleaned_employee_data.csv', index_col=0)\n",
    "\n",
    "# Display the first 5 rows\n",
    "df.head()"
   ]
  },
  {
   "cell_type": "markdown",
   "metadata": {},
   "source": [
    "### Create a new column, `Annual Bonus`, which is 7.5% of the Salary\n"
   ]
  },
  {
   "cell_type": "code",
   "execution_count": 15,
   "metadata": {},
   "outputs": [
    {
     "data": {
      "application/vnd.microsoft.datawrangler.viewer.v0+json": {
       "columns": [
        {
         "name": "ID",
         "rawType": "int64",
         "type": "integer"
        },
        {
         "name": "Name",
         "rawType": "object",
         "type": "string"
        },
        {
         "name": "Department",
         "rawType": "object",
         "type": "string"
        },
        {
         "name": "Salary",
         "rawType": "float64",
         "type": "float"
        },
        {
         "name": "Joining Date",
         "rawType": "object",
         "type": "string"
        },
        {
         "name": "Years of Experience",
         "rawType": "int64",
         "type": "integer"
        },
        {
         "name": "Annual Bonus",
         "rawType": "float64",
         "type": "float"
        }
       ],
       "conversionMethod": "pd.DataFrame",
       "ref": "8d454b35-3545-4015-93a1-1d00f1717a7c",
       "rows": [
        [
         "1",
         "Employee 1",
         "IT",
         "56500.0",
         "2020-01-15",
         "2",
         "4237.5"
        ],
        [
         "2",
         "Employee 2",
         "HR",
         "55000.0",
         "2019-02-20",
         "3",
         "4125.0"
        ],
        [
         "3",
         "Employee 3",
         "FINANCE",
         "72000.0",
         "2018-03-10",
         "4",
         "5400.0"
        ],
        [
         "4",
         "Employee 4",
         "MARKETING",
         "56500.0",
         "2021-04-25",
         "1",
         "4237.5"
        ],
        [
         "5",
         "Employee 5",
         "SALES",
         "48000.0",
         "2017-05-30",
         "5",
         "3600.0"
        ],
        [
         "6",
         "Employee 6",
         "IT",
         "52000.0",
         "2016-06-05",
         "6",
         "3900.0"
        ],
        [
         "7",
         "Employee 7",
         "HR",
         "60000.0",
         "2020-07-18",
         "2",
         "4500.0"
        ],
        [
         "8",
         "Employee 8",
         "FINANCE",
         "67000.0",
         "2019-08-22",
         "3",
         "5025.0"
        ],
        [
         "9",
         "Employee 9",
         "MARKETING",
         "49000.0",
         "2018-09-14",
         "4",
         "3675.0"
        ],
        [
         "10",
         "Employee 10",
         "SALES",
         "53000.0",
         "2017-10-19",
         "5",
         "3975.0"
        ],
        [
         "11",
         "Employee 11",
         "IT",
         "56500.0",
         "2020-11-02",
         "2",
         "4237.5"
        ],
        [
         "12",
         "Employee 12",
         "HR",
         "68000.0",
         "2019-12-08",
         "3",
         "5100.0"
        ],
        [
         "13",
         "Employee 13",
         "FINANCE",
         "50000.0",
         "2018-01-23",
         "4",
         "3750.0"
        ],
        [
         "14",
         "Employee 14",
         "MARKETING",
         "56500.0",
         "2021-02-27",
         "1",
         "4237.5"
        ],
        [
         "15",
         "Employee 15",
         "SALES",
         "47000.0",
         "2017-03-12",
         "5",
         "3525.0"
        ],
        [
         "16",
         "Employee 16",
         "IT",
         "61000.0",
         "2020-04-15",
         "6",
         "4575.0"
        ],
        [
         "17",
         "Employee 17",
         "HR",
         "65000.0",
         "2019-05-28",
         "2",
         "4875.0"
        ],
        [
         "18",
         "Employee 18",
         "FINANCE",
         "49000.0",
         "2018-06-07",
         "3",
         "3675.0"
        ],
        [
         "19",
         "Employee 19",
         "MARKETING",
         "56500.0",
         "2021-07-19",
         "4",
         "4237.5"
        ],
        [
         "20",
         "Employee 20",
         "SALES",
         "52000.0",
         "2017-08-23",
         "5",
         "3900.0"
        ]
       ],
       "shape": {
        "columns": 6,
        "rows": 20
       }
      },
      "text/html": [
       "<div>\n",
       "<style scoped>\n",
       "    .dataframe tbody tr th:only-of-type {\n",
       "        vertical-align: middle;\n",
       "    }\n",
       "\n",
       "    .dataframe tbody tr th {\n",
       "        vertical-align: top;\n",
       "    }\n",
       "\n",
       "    .dataframe thead th {\n",
       "        text-align: right;\n",
       "    }\n",
       "</style>\n",
       "<table border=\"1\" class=\"dataframe\">\n",
       "  <thead>\n",
       "    <tr style=\"text-align: right;\">\n",
       "      <th></th>\n",
       "      <th>Name</th>\n",
       "      <th>Department</th>\n",
       "      <th>Salary</th>\n",
       "      <th>Joining Date</th>\n",
       "      <th>Years of Experience</th>\n",
       "      <th>Annual Bonus</th>\n",
       "    </tr>\n",
       "    <tr>\n",
       "      <th>ID</th>\n",
       "      <th></th>\n",
       "      <th></th>\n",
       "      <th></th>\n",
       "      <th></th>\n",
       "      <th></th>\n",
       "      <th></th>\n",
       "    </tr>\n",
       "  </thead>\n",
       "  <tbody>\n",
       "    <tr>\n",
       "      <th>1</th>\n",
       "      <td>Employee 1</td>\n",
       "      <td>IT</td>\n",
       "      <td>56500.0</td>\n",
       "      <td>2020-01-15</td>\n",
       "      <td>2</td>\n",
       "      <td>4237.5</td>\n",
       "    </tr>\n",
       "    <tr>\n",
       "      <th>2</th>\n",
       "      <td>Employee 2</td>\n",
       "      <td>HR</td>\n",
       "      <td>55000.0</td>\n",
       "      <td>2019-02-20</td>\n",
       "      <td>3</td>\n",
       "      <td>4125.0</td>\n",
       "    </tr>\n",
       "    <tr>\n",
       "      <th>3</th>\n",
       "      <td>Employee 3</td>\n",
       "      <td>FINANCE</td>\n",
       "      <td>72000.0</td>\n",
       "      <td>2018-03-10</td>\n",
       "      <td>4</td>\n",
       "      <td>5400.0</td>\n",
       "    </tr>\n",
       "    <tr>\n",
       "      <th>4</th>\n",
       "      <td>Employee 4</td>\n",
       "      <td>MARKETING</td>\n",
       "      <td>56500.0</td>\n",
       "      <td>2021-04-25</td>\n",
       "      <td>1</td>\n",
       "      <td>4237.5</td>\n",
       "    </tr>\n",
       "    <tr>\n",
       "      <th>5</th>\n",
       "      <td>Employee 5</td>\n",
       "      <td>SALES</td>\n",
       "      <td>48000.0</td>\n",
       "      <td>2017-05-30</td>\n",
       "      <td>5</td>\n",
       "      <td>3600.0</td>\n",
       "    </tr>\n",
       "    <tr>\n",
       "      <th>6</th>\n",
       "      <td>Employee 6</td>\n",
       "      <td>IT</td>\n",
       "      <td>52000.0</td>\n",
       "      <td>2016-06-05</td>\n",
       "      <td>6</td>\n",
       "      <td>3900.0</td>\n",
       "    </tr>\n",
       "    <tr>\n",
       "      <th>7</th>\n",
       "      <td>Employee 7</td>\n",
       "      <td>HR</td>\n",
       "      <td>60000.0</td>\n",
       "      <td>2020-07-18</td>\n",
       "      <td>2</td>\n",
       "      <td>4500.0</td>\n",
       "    </tr>\n",
       "    <tr>\n",
       "      <th>8</th>\n",
       "      <td>Employee 8</td>\n",
       "      <td>FINANCE</td>\n",
       "      <td>67000.0</td>\n",
       "      <td>2019-08-22</td>\n",
       "      <td>3</td>\n",
       "      <td>5025.0</td>\n",
       "    </tr>\n",
       "    <tr>\n",
       "      <th>9</th>\n",
       "      <td>Employee 9</td>\n",
       "      <td>MARKETING</td>\n",
       "      <td>49000.0</td>\n",
       "      <td>2018-09-14</td>\n",
       "      <td>4</td>\n",
       "      <td>3675.0</td>\n",
       "    </tr>\n",
       "    <tr>\n",
       "      <th>10</th>\n",
       "      <td>Employee 10</td>\n",
       "      <td>SALES</td>\n",
       "      <td>53000.0</td>\n",
       "      <td>2017-10-19</td>\n",
       "      <td>5</td>\n",
       "      <td>3975.0</td>\n",
       "    </tr>\n",
       "    <tr>\n",
       "      <th>11</th>\n",
       "      <td>Employee 11</td>\n",
       "      <td>IT</td>\n",
       "      <td>56500.0</td>\n",
       "      <td>2020-11-02</td>\n",
       "      <td>2</td>\n",
       "      <td>4237.5</td>\n",
       "    </tr>\n",
       "    <tr>\n",
       "      <th>12</th>\n",
       "      <td>Employee 12</td>\n",
       "      <td>HR</td>\n",
       "      <td>68000.0</td>\n",
       "      <td>2019-12-08</td>\n",
       "      <td>3</td>\n",
       "      <td>5100.0</td>\n",
       "    </tr>\n",
       "    <tr>\n",
       "      <th>13</th>\n",
       "      <td>Employee 13</td>\n",
       "      <td>FINANCE</td>\n",
       "      <td>50000.0</td>\n",
       "      <td>2018-01-23</td>\n",
       "      <td>4</td>\n",
       "      <td>3750.0</td>\n",
       "    </tr>\n",
       "    <tr>\n",
       "      <th>14</th>\n",
       "      <td>Employee 14</td>\n",
       "      <td>MARKETING</td>\n",
       "      <td>56500.0</td>\n",
       "      <td>2021-02-27</td>\n",
       "      <td>1</td>\n",
       "      <td>4237.5</td>\n",
       "    </tr>\n",
       "    <tr>\n",
       "      <th>15</th>\n",
       "      <td>Employee 15</td>\n",
       "      <td>SALES</td>\n",
       "      <td>47000.0</td>\n",
       "      <td>2017-03-12</td>\n",
       "      <td>5</td>\n",
       "      <td>3525.0</td>\n",
       "    </tr>\n",
       "    <tr>\n",
       "      <th>16</th>\n",
       "      <td>Employee 16</td>\n",
       "      <td>IT</td>\n",
       "      <td>61000.0</td>\n",
       "      <td>2020-04-15</td>\n",
       "      <td>6</td>\n",
       "      <td>4575.0</td>\n",
       "    </tr>\n",
       "    <tr>\n",
       "      <th>17</th>\n",
       "      <td>Employee 17</td>\n",
       "      <td>HR</td>\n",
       "      <td>65000.0</td>\n",
       "      <td>2019-05-28</td>\n",
       "      <td>2</td>\n",
       "      <td>4875.0</td>\n",
       "    </tr>\n",
       "    <tr>\n",
       "      <th>18</th>\n",
       "      <td>Employee 18</td>\n",
       "      <td>FINANCE</td>\n",
       "      <td>49000.0</td>\n",
       "      <td>2018-06-07</td>\n",
       "      <td>3</td>\n",
       "      <td>3675.0</td>\n",
       "    </tr>\n",
       "    <tr>\n",
       "      <th>19</th>\n",
       "      <td>Employee 19</td>\n",
       "      <td>MARKETING</td>\n",
       "      <td>56500.0</td>\n",
       "      <td>2021-07-19</td>\n",
       "      <td>4</td>\n",
       "      <td>4237.5</td>\n",
       "    </tr>\n",
       "    <tr>\n",
       "      <th>20</th>\n",
       "      <td>Employee 20</td>\n",
       "      <td>SALES</td>\n",
       "      <td>52000.0</td>\n",
       "      <td>2017-08-23</td>\n",
       "      <td>5</td>\n",
       "      <td>3900.0</td>\n",
       "    </tr>\n",
       "  </tbody>\n",
       "</table>\n",
       "</div>"
      ],
      "text/plain": [
       "           Name Department   Salary Joining Date  Years of Experience  \\\n",
       "ID                                                                      \n",
       "1    Employee 1         IT  56500.0   2020-01-15                    2   \n",
       "2    Employee 2         HR  55000.0   2019-02-20                    3   \n",
       "3    Employee 3    FINANCE  72000.0   2018-03-10                    4   \n",
       "4    Employee 4  MARKETING  56500.0   2021-04-25                    1   \n",
       "5    Employee 5      SALES  48000.0   2017-05-30                    5   \n",
       "6    Employee 6         IT  52000.0   2016-06-05                    6   \n",
       "7    Employee 7         HR  60000.0   2020-07-18                    2   \n",
       "8    Employee 8    FINANCE  67000.0   2019-08-22                    3   \n",
       "9    Employee 9  MARKETING  49000.0   2018-09-14                    4   \n",
       "10  Employee 10      SALES  53000.0   2017-10-19                    5   \n",
       "11  Employee 11         IT  56500.0   2020-11-02                    2   \n",
       "12  Employee 12         HR  68000.0   2019-12-08                    3   \n",
       "13  Employee 13    FINANCE  50000.0   2018-01-23                    4   \n",
       "14  Employee 14  MARKETING  56500.0   2021-02-27                    1   \n",
       "15  Employee 15      SALES  47000.0   2017-03-12                    5   \n",
       "16  Employee 16         IT  61000.0   2020-04-15                    6   \n",
       "17  Employee 17         HR  65000.0   2019-05-28                    2   \n",
       "18  Employee 18    FINANCE  49000.0   2018-06-07                    3   \n",
       "19  Employee 19  MARKETING  56500.0   2021-07-19                    4   \n",
       "20  Employee 20      SALES  52000.0   2017-08-23                    5   \n",
       "\n",
       "    Annual Bonus  \n",
       "ID                \n",
       "1         4237.5  \n",
       "2         4125.0  \n",
       "3         5400.0  \n",
       "4         4237.5  \n",
       "5         3600.0  \n",
       "6         3900.0  \n",
       "7         4500.0  \n",
       "8         5025.0  \n",
       "9         3675.0  \n",
       "10        3975.0  \n",
       "11        4237.5  \n",
       "12        5100.0  \n",
       "13        3750.0  \n",
       "14        4237.5  \n",
       "15        3525.0  \n",
       "16        4575.0  \n",
       "17        4875.0  \n",
       "18        3675.0  \n",
       "19        4237.5  \n",
       "20        3900.0  "
      ]
     },
     "execution_count": 15,
     "metadata": {},
     "output_type": "execute_result"
    }
   ],
   "source": [
    "df['Annual Bonus'] = df['Salary'] * 0.075\n",
    "df.head(20)"
   ]
  },
  {
   "cell_type": "markdown",
   "metadata": {},
   "source": [
    "### Filter the dataset to include only employees from the `IT` and `HR` departments\n"
   ]
  },
  {
   "cell_type": "code",
   "execution_count": 16,
   "metadata": {},
   "outputs": [
    {
     "data": {
      "application/vnd.microsoft.datawrangler.viewer.v0+json": {
       "columns": [
        {
         "name": "ID",
         "rawType": "int64",
         "type": "integer"
        },
        {
         "name": "Name",
         "rawType": "object",
         "type": "string"
        },
        {
         "name": "Department",
         "rawType": "object",
         "type": "string"
        },
        {
         "name": "Salary",
         "rawType": "float64",
         "type": "float"
        },
        {
         "name": "Joining Date",
         "rawType": "object",
         "type": "string"
        },
        {
         "name": "Years of Experience",
         "rawType": "int64",
         "type": "integer"
        },
        {
         "name": "Annual Bonus",
         "rawType": "float64",
         "type": "float"
        }
       ],
       "conversionMethod": "pd.DataFrame",
       "ref": "d0cbd813-e1e7-44bc-93eb-3c2ee1802300",
       "rows": [
        [
         "1",
         "Employee 1",
         "IT",
         "56500.0",
         "2020-01-15",
         "2",
         "4237.5"
        ],
        [
         "2",
         "Employee 2",
         "HR",
         "55000.0",
         "2019-02-20",
         "3",
         "4125.0"
        ],
        [
         "6",
         "Employee 6",
         "IT",
         "52000.0",
         "2016-06-05",
         "6",
         "3900.0"
        ],
        [
         "7",
         "Employee 7",
         "HR",
         "60000.0",
         "2020-07-18",
         "2",
         "4500.0"
        ],
        [
         "11",
         "Employee 11",
         "IT",
         "56500.0",
         "2020-11-02",
         "2",
         "4237.5"
        ],
        [
         "12",
         "Employee 12",
         "HR",
         "68000.0",
         "2019-12-08",
         "3",
         "5100.0"
        ],
        [
         "16",
         "Employee 16",
         "IT",
         "61000.0",
         "2020-04-15",
         "6",
         "4575.0"
        ],
        [
         "17",
         "Employee 17",
         "HR",
         "65000.0",
         "2019-05-28",
         "2",
         "4875.0"
        ]
       ],
       "shape": {
        "columns": 6,
        "rows": 8
       }
      },
      "text/html": [
       "<div>\n",
       "<style scoped>\n",
       "    .dataframe tbody tr th:only-of-type {\n",
       "        vertical-align: middle;\n",
       "    }\n",
       "\n",
       "    .dataframe tbody tr th {\n",
       "        vertical-align: top;\n",
       "    }\n",
       "\n",
       "    .dataframe thead th {\n",
       "        text-align: right;\n",
       "    }\n",
       "</style>\n",
       "<table border=\"1\" class=\"dataframe\">\n",
       "  <thead>\n",
       "    <tr style=\"text-align: right;\">\n",
       "      <th></th>\n",
       "      <th>Name</th>\n",
       "      <th>Department</th>\n",
       "      <th>Salary</th>\n",
       "      <th>Joining Date</th>\n",
       "      <th>Years of Experience</th>\n",
       "      <th>Annual Bonus</th>\n",
       "    </tr>\n",
       "    <tr>\n",
       "      <th>ID</th>\n",
       "      <th></th>\n",
       "      <th></th>\n",
       "      <th></th>\n",
       "      <th></th>\n",
       "      <th></th>\n",
       "      <th></th>\n",
       "    </tr>\n",
       "  </thead>\n",
       "  <tbody>\n",
       "    <tr>\n",
       "      <th>1</th>\n",
       "      <td>Employee 1</td>\n",
       "      <td>IT</td>\n",
       "      <td>56500.0</td>\n",
       "      <td>2020-01-15</td>\n",
       "      <td>2</td>\n",
       "      <td>4237.5</td>\n",
       "    </tr>\n",
       "    <tr>\n",
       "      <th>2</th>\n",
       "      <td>Employee 2</td>\n",
       "      <td>HR</td>\n",
       "      <td>55000.0</td>\n",
       "      <td>2019-02-20</td>\n",
       "      <td>3</td>\n",
       "      <td>4125.0</td>\n",
       "    </tr>\n",
       "    <tr>\n",
       "      <th>6</th>\n",
       "      <td>Employee 6</td>\n",
       "      <td>IT</td>\n",
       "      <td>52000.0</td>\n",
       "      <td>2016-06-05</td>\n",
       "      <td>6</td>\n",
       "      <td>3900.0</td>\n",
       "    </tr>\n",
       "    <tr>\n",
       "      <th>7</th>\n",
       "      <td>Employee 7</td>\n",
       "      <td>HR</td>\n",
       "      <td>60000.0</td>\n",
       "      <td>2020-07-18</td>\n",
       "      <td>2</td>\n",
       "      <td>4500.0</td>\n",
       "    </tr>\n",
       "    <tr>\n",
       "      <th>11</th>\n",
       "      <td>Employee 11</td>\n",
       "      <td>IT</td>\n",
       "      <td>56500.0</td>\n",
       "      <td>2020-11-02</td>\n",
       "      <td>2</td>\n",
       "      <td>4237.5</td>\n",
       "    </tr>\n",
       "    <tr>\n",
       "      <th>12</th>\n",
       "      <td>Employee 12</td>\n",
       "      <td>HR</td>\n",
       "      <td>68000.0</td>\n",
       "      <td>2019-12-08</td>\n",
       "      <td>3</td>\n",
       "      <td>5100.0</td>\n",
       "    </tr>\n",
       "    <tr>\n",
       "      <th>16</th>\n",
       "      <td>Employee 16</td>\n",
       "      <td>IT</td>\n",
       "      <td>61000.0</td>\n",
       "      <td>2020-04-15</td>\n",
       "      <td>6</td>\n",
       "      <td>4575.0</td>\n",
       "    </tr>\n",
       "    <tr>\n",
       "      <th>17</th>\n",
       "      <td>Employee 17</td>\n",
       "      <td>HR</td>\n",
       "      <td>65000.0</td>\n",
       "      <td>2019-05-28</td>\n",
       "      <td>2</td>\n",
       "      <td>4875.0</td>\n",
       "    </tr>\n",
       "  </tbody>\n",
       "</table>\n",
       "</div>"
      ],
      "text/plain": [
       "           Name Department   Salary Joining Date  Years of Experience  \\\n",
       "ID                                                                      \n",
       "1    Employee 1         IT  56500.0   2020-01-15                    2   \n",
       "2    Employee 2         HR  55000.0   2019-02-20                    3   \n",
       "6    Employee 6         IT  52000.0   2016-06-05                    6   \n",
       "7    Employee 7         HR  60000.0   2020-07-18                    2   \n",
       "11  Employee 11         IT  56500.0   2020-11-02                    2   \n",
       "12  Employee 12         HR  68000.0   2019-12-08                    3   \n",
       "16  Employee 16         IT  61000.0   2020-04-15                    6   \n",
       "17  Employee 17         HR  65000.0   2019-05-28                    2   \n",
       "\n",
       "    Annual Bonus  \n",
       "ID                \n",
       "1         4237.5  \n",
       "2         4125.0  \n",
       "6         3900.0  \n",
       "7         4500.0  \n",
       "11        4237.5  \n",
       "12        5100.0  \n",
       "16        4575.0  \n",
       "17        4875.0  "
      ]
     },
     "execution_count": 16,
     "metadata": {},
     "output_type": "execute_result"
    }
   ],
   "source": [
    "it_hr_mask = (df['Department'] == 'IT') | (df['Department'] == 'HR')\n",
    "df_it_hr = df[it_hr_mask]\n",
    "df_it_hr.head(10)"
   ]
  },
  {
   "cell_type": "markdown",
   "metadata": {},
   "source": [
    "### Group the data by `Department` and calculate the average `Salary` and `Annual Bonus` for each department\n"
   ]
  },
  {
   "cell_type": "code",
   "execution_count": 17,
   "metadata": {},
   "outputs": [
    {
     "data": {
      "text/plain": [
       "Department\n",
       "HR           62000.0\n",
       "FINANCE      59500.0\n",
       "IT           56500.0\n",
       "MARKETING    54625.0\n",
       "SALES        50000.0\n",
       "Name: Salary, dtype: float64"
      ]
     },
     "execution_count": 17,
     "metadata": {},
     "output_type": "execute_result"
    }
   ],
   "source": [
    "department_avg_salary = df.groupby('Department')['Salary'].mean().sort_values(ascending=False)\n",
    "department_avg_salary \n"
   ]
  },
  {
   "cell_type": "code",
   "execution_count": 18,
   "metadata": {},
   "outputs": [
    {
     "data": {
      "text/plain": [
       "Department\n",
       "HR           4650.000\n",
       "FINANCE      4462.500\n",
       "IT           4237.500\n",
       "MARKETING    4096.875\n",
       "SALES        3750.000\n",
       "Name: Annual Bonus, dtype: float64"
      ]
     },
     "execution_count": 18,
     "metadata": {},
     "output_type": "execute_result"
    }
   ],
   "source": [
    "department_avg_bonus = df.groupby('Department')['Annual Bonus'].mean().sort_values(ascending=False)\n",
    "department_avg_bonus "
   ]
  },
  {
   "cell_type": "markdown",
   "metadata": {},
   "source": [
    "### Sort the dataset by `Annual Bonus` in descending order\n"
   ]
  },
  {
   "cell_type": "code",
   "execution_count": 19,
   "metadata": {},
   "outputs": [
    {
     "data": {
      "application/vnd.microsoft.datawrangler.viewer.v0+json": {
       "columns": [
        {
         "name": "ID",
         "rawType": "int64",
         "type": "integer"
        },
        {
         "name": "Name",
         "rawType": "object",
         "type": "string"
        },
        {
         "name": "Department",
         "rawType": "object",
         "type": "string"
        },
        {
         "name": "Salary",
         "rawType": "float64",
         "type": "float"
        },
        {
         "name": "Joining Date",
         "rawType": "object",
         "type": "string"
        },
        {
         "name": "Years of Experience",
         "rawType": "int64",
         "type": "integer"
        },
        {
         "name": "Annual Bonus",
         "rawType": "float64",
         "type": "float"
        }
       ],
       "conversionMethod": "pd.DataFrame",
       "ref": "cc5709bb-10d4-4ed2-8e81-ee020f1d4b0a",
       "rows": [
        [
         "3",
         "Employee 3",
         "FINANCE",
         "72000.0",
         "2018-03-10",
         "4",
         "5400.0"
        ],
        [
         "12",
         "Employee 12",
         "HR",
         "68000.0",
         "2019-12-08",
         "3",
         "5100.0"
        ],
        [
         "8",
         "Employee 8",
         "FINANCE",
         "67000.0",
         "2019-08-22",
         "3",
         "5025.0"
        ],
        [
         "17",
         "Employee 17",
         "HR",
         "65000.0",
         "2019-05-28",
         "2",
         "4875.0"
        ],
        [
         "16",
         "Employee 16",
         "IT",
         "61000.0",
         "2020-04-15",
         "6",
         "4575.0"
        ],
        [
         "7",
         "Employee 7",
         "HR",
         "60000.0",
         "2020-07-18",
         "2",
         "4500.0"
        ],
        [
         "1",
         "Employee 1",
         "IT",
         "56500.0",
         "2020-01-15",
         "2",
         "4237.5"
        ],
        [
         "4",
         "Employee 4",
         "MARKETING",
         "56500.0",
         "2021-04-25",
         "1",
         "4237.5"
        ],
        [
         "14",
         "Employee 14",
         "MARKETING",
         "56500.0",
         "2021-02-27",
         "1",
         "4237.5"
        ],
        [
         "19",
         "Employee 19",
         "MARKETING",
         "56500.0",
         "2021-07-19",
         "4",
         "4237.5"
        ],
        [
         "11",
         "Employee 11",
         "IT",
         "56500.0",
         "2020-11-02",
         "2",
         "4237.5"
        ],
        [
         "2",
         "Employee 2",
         "HR",
         "55000.0",
         "2019-02-20",
         "3",
         "4125.0"
        ],
        [
         "10",
         "Employee 10",
         "SALES",
         "53000.0",
         "2017-10-19",
         "5",
         "3975.0"
        ],
        [
         "20",
         "Employee 20",
         "SALES",
         "52000.0",
         "2017-08-23",
         "5",
         "3900.0"
        ],
        [
         "6",
         "Employee 6",
         "IT",
         "52000.0",
         "2016-06-05",
         "6",
         "3900.0"
        ],
        [
         "13",
         "Employee 13",
         "FINANCE",
         "50000.0",
         "2018-01-23",
         "4",
         "3750.0"
        ],
        [
         "18",
         "Employee 18",
         "FINANCE",
         "49000.0",
         "2018-06-07",
         "3",
         "3675.0"
        ],
        [
         "9",
         "Employee 9",
         "MARKETING",
         "49000.0",
         "2018-09-14",
         "4",
         "3675.0"
        ],
        [
         "5",
         "Employee 5",
         "SALES",
         "48000.0",
         "2017-05-30",
         "5",
         "3600.0"
        ],
        [
         "15",
         "Employee 15",
         "SALES",
         "47000.0",
         "2017-03-12",
         "5",
         "3525.0"
        ]
       ],
       "shape": {
        "columns": 6,
        "rows": 20
       }
      },
      "text/html": [
       "<div>\n",
       "<style scoped>\n",
       "    .dataframe tbody tr th:only-of-type {\n",
       "        vertical-align: middle;\n",
       "    }\n",
       "\n",
       "    .dataframe tbody tr th {\n",
       "        vertical-align: top;\n",
       "    }\n",
       "\n",
       "    .dataframe thead th {\n",
       "        text-align: right;\n",
       "    }\n",
       "</style>\n",
       "<table border=\"1\" class=\"dataframe\">\n",
       "  <thead>\n",
       "    <tr style=\"text-align: right;\">\n",
       "      <th></th>\n",
       "      <th>Name</th>\n",
       "      <th>Department</th>\n",
       "      <th>Salary</th>\n",
       "      <th>Joining Date</th>\n",
       "      <th>Years of Experience</th>\n",
       "      <th>Annual Bonus</th>\n",
       "    </tr>\n",
       "    <tr>\n",
       "      <th>ID</th>\n",
       "      <th></th>\n",
       "      <th></th>\n",
       "      <th></th>\n",
       "      <th></th>\n",
       "      <th></th>\n",
       "      <th></th>\n",
       "    </tr>\n",
       "  </thead>\n",
       "  <tbody>\n",
       "    <tr>\n",
       "      <th>3</th>\n",
       "      <td>Employee 3</td>\n",
       "      <td>FINANCE</td>\n",
       "      <td>72000.0</td>\n",
       "      <td>2018-03-10</td>\n",
       "      <td>4</td>\n",
       "      <td>5400.0</td>\n",
       "    </tr>\n",
       "    <tr>\n",
       "      <th>12</th>\n",
       "      <td>Employee 12</td>\n",
       "      <td>HR</td>\n",
       "      <td>68000.0</td>\n",
       "      <td>2019-12-08</td>\n",
       "      <td>3</td>\n",
       "      <td>5100.0</td>\n",
       "    </tr>\n",
       "    <tr>\n",
       "      <th>8</th>\n",
       "      <td>Employee 8</td>\n",
       "      <td>FINANCE</td>\n",
       "      <td>67000.0</td>\n",
       "      <td>2019-08-22</td>\n",
       "      <td>3</td>\n",
       "      <td>5025.0</td>\n",
       "    </tr>\n",
       "    <tr>\n",
       "      <th>17</th>\n",
       "      <td>Employee 17</td>\n",
       "      <td>HR</td>\n",
       "      <td>65000.0</td>\n",
       "      <td>2019-05-28</td>\n",
       "      <td>2</td>\n",
       "      <td>4875.0</td>\n",
       "    </tr>\n",
       "    <tr>\n",
       "      <th>16</th>\n",
       "      <td>Employee 16</td>\n",
       "      <td>IT</td>\n",
       "      <td>61000.0</td>\n",
       "      <td>2020-04-15</td>\n",
       "      <td>6</td>\n",
       "      <td>4575.0</td>\n",
       "    </tr>\n",
       "    <tr>\n",
       "      <th>7</th>\n",
       "      <td>Employee 7</td>\n",
       "      <td>HR</td>\n",
       "      <td>60000.0</td>\n",
       "      <td>2020-07-18</td>\n",
       "      <td>2</td>\n",
       "      <td>4500.0</td>\n",
       "    </tr>\n",
       "    <tr>\n",
       "      <th>1</th>\n",
       "      <td>Employee 1</td>\n",
       "      <td>IT</td>\n",
       "      <td>56500.0</td>\n",
       "      <td>2020-01-15</td>\n",
       "      <td>2</td>\n",
       "      <td>4237.5</td>\n",
       "    </tr>\n",
       "    <tr>\n",
       "      <th>4</th>\n",
       "      <td>Employee 4</td>\n",
       "      <td>MARKETING</td>\n",
       "      <td>56500.0</td>\n",
       "      <td>2021-04-25</td>\n",
       "      <td>1</td>\n",
       "      <td>4237.5</td>\n",
       "    </tr>\n",
       "    <tr>\n",
       "      <th>14</th>\n",
       "      <td>Employee 14</td>\n",
       "      <td>MARKETING</td>\n",
       "      <td>56500.0</td>\n",
       "      <td>2021-02-27</td>\n",
       "      <td>1</td>\n",
       "      <td>4237.5</td>\n",
       "    </tr>\n",
       "    <tr>\n",
       "      <th>19</th>\n",
       "      <td>Employee 19</td>\n",
       "      <td>MARKETING</td>\n",
       "      <td>56500.0</td>\n",
       "      <td>2021-07-19</td>\n",
       "      <td>4</td>\n",
       "      <td>4237.5</td>\n",
       "    </tr>\n",
       "    <tr>\n",
       "      <th>11</th>\n",
       "      <td>Employee 11</td>\n",
       "      <td>IT</td>\n",
       "      <td>56500.0</td>\n",
       "      <td>2020-11-02</td>\n",
       "      <td>2</td>\n",
       "      <td>4237.5</td>\n",
       "    </tr>\n",
       "    <tr>\n",
       "      <th>2</th>\n",
       "      <td>Employee 2</td>\n",
       "      <td>HR</td>\n",
       "      <td>55000.0</td>\n",
       "      <td>2019-02-20</td>\n",
       "      <td>3</td>\n",
       "      <td>4125.0</td>\n",
       "    </tr>\n",
       "    <tr>\n",
       "      <th>10</th>\n",
       "      <td>Employee 10</td>\n",
       "      <td>SALES</td>\n",
       "      <td>53000.0</td>\n",
       "      <td>2017-10-19</td>\n",
       "      <td>5</td>\n",
       "      <td>3975.0</td>\n",
       "    </tr>\n",
       "    <tr>\n",
       "      <th>20</th>\n",
       "      <td>Employee 20</td>\n",
       "      <td>SALES</td>\n",
       "      <td>52000.0</td>\n",
       "      <td>2017-08-23</td>\n",
       "      <td>5</td>\n",
       "      <td>3900.0</td>\n",
       "    </tr>\n",
       "    <tr>\n",
       "      <th>6</th>\n",
       "      <td>Employee 6</td>\n",
       "      <td>IT</td>\n",
       "      <td>52000.0</td>\n",
       "      <td>2016-06-05</td>\n",
       "      <td>6</td>\n",
       "      <td>3900.0</td>\n",
       "    </tr>\n",
       "    <tr>\n",
       "      <th>13</th>\n",
       "      <td>Employee 13</td>\n",
       "      <td>FINANCE</td>\n",
       "      <td>50000.0</td>\n",
       "      <td>2018-01-23</td>\n",
       "      <td>4</td>\n",
       "      <td>3750.0</td>\n",
       "    </tr>\n",
       "    <tr>\n",
       "      <th>18</th>\n",
       "      <td>Employee 18</td>\n",
       "      <td>FINANCE</td>\n",
       "      <td>49000.0</td>\n",
       "      <td>2018-06-07</td>\n",
       "      <td>3</td>\n",
       "      <td>3675.0</td>\n",
       "    </tr>\n",
       "    <tr>\n",
       "      <th>9</th>\n",
       "      <td>Employee 9</td>\n",
       "      <td>MARKETING</td>\n",
       "      <td>49000.0</td>\n",
       "      <td>2018-09-14</td>\n",
       "      <td>4</td>\n",
       "      <td>3675.0</td>\n",
       "    </tr>\n",
       "    <tr>\n",
       "      <th>5</th>\n",
       "      <td>Employee 5</td>\n",
       "      <td>SALES</td>\n",
       "      <td>48000.0</td>\n",
       "      <td>2017-05-30</td>\n",
       "      <td>5</td>\n",
       "      <td>3600.0</td>\n",
       "    </tr>\n",
       "    <tr>\n",
       "      <th>15</th>\n",
       "      <td>Employee 15</td>\n",
       "      <td>SALES</td>\n",
       "      <td>47000.0</td>\n",
       "      <td>2017-03-12</td>\n",
       "      <td>5</td>\n",
       "      <td>3525.0</td>\n",
       "    </tr>\n",
       "  </tbody>\n",
       "</table>\n",
       "</div>"
      ],
      "text/plain": [
       "           Name Department   Salary Joining Date  Years of Experience  \\\n",
       "ID                                                                      \n",
       "3    Employee 3    FINANCE  72000.0   2018-03-10                    4   \n",
       "12  Employee 12         HR  68000.0   2019-12-08                    3   \n",
       "8    Employee 8    FINANCE  67000.0   2019-08-22                    3   \n",
       "17  Employee 17         HR  65000.0   2019-05-28                    2   \n",
       "16  Employee 16         IT  61000.0   2020-04-15                    6   \n",
       "7    Employee 7         HR  60000.0   2020-07-18                    2   \n",
       "1    Employee 1         IT  56500.0   2020-01-15                    2   \n",
       "4    Employee 4  MARKETING  56500.0   2021-04-25                    1   \n",
       "14  Employee 14  MARKETING  56500.0   2021-02-27                    1   \n",
       "19  Employee 19  MARKETING  56500.0   2021-07-19                    4   \n",
       "11  Employee 11         IT  56500.0   2020-11-02                    2   \n",
       "2    Employee 2         HR  55000.0   2019-02-20                    3   \n",
       "10  Employee 10      SALES  53000.0   2017-10-19                    5   \n",
       "20  Employee 20      SALES  52000.0   2017-08-23                    5   \n",
       "6    Employee 6         IT  52000.0   2016-06-05                    6   \n",
       "13  Employee 13    FINANCE  50000.0   2018-01-23                    4   \n",
       "18  Employee 18    FINANCE  49000.0   2018-06-07                    3   \n",
       "9    Employee 9  MARKETING  49000.0   2018-09-14                    4   \n",
       "5    Employee 5      SALES  48000.0   2017-05-30                    5   \n",
       "15  Employee 15      SALES  47000.0   2017-03-12                    5   \n",
       "\n",
       "    Annual Bonus  \n",
       "ID                \n",
       "3         5400.0  \n",
       "12        5100.0  \n",
       "8         5025.0  \n",
       "17        4875.0  \n",
       "16        4575.0  \n",
       "7         4500.0  \n",
       "1         4237.5  \n",
       "4         4237.5  \n",
       "14        4237.5  \n",
       "19        4237.5  \n",
       "11        4237.5  \n",
       "2         4125.0  \n",
       "10        3975.0  \n",
       "20        3900.0  \n",
       "6         3900.0  \n",
       "13        3750.0  \n",
       "18        3675.0  \n",
       "9         3675.0  \n",
       "5         3600.0  \n",
       "15        3525.0  "
      ]
     },
     "execution_count": 19,
     "metadata": {},
     "output_type": "execute_result"
    }
   ],
   "source": [
    "annual_bonus = df.sort_values(by='Annual Bonus', ascending=False)\n",
    "annual_bonus"
   ]
  },
  {
   "cell_type": "markdown",
   "metadata": {},
   "source": [
    "\n",
    "---\n"
   ]
  },
  {
   "cell_type": "markdown",
   "metadata": {},
   "source": [
    "\n",
    "## Data Visualization with Pandas\n",
    "\n",
    "Using the cleaned dataset `cleaned_employee_data.csv`, create the following graphs using `Seaborn` and `Matplotlib`:\n",
    "\n",
    "### Line Plot\n"
   ]
  },
  {
   "cell_type": "code",
   "execution_count": 20,
   "metadata": {},
   "outputs": [
    {
     "data": {
      "text/plain": [
       "<Axes: title={'center': 'A line graph showing the Salaries against Joining Date'}, xlabel='Joining Date'>"
      ]
     },
     "execution_count": 20,
     "metadata": {},
     "output_type": "execute_result"
    },
    {
     "data": {
      "image/png": "[encoded data removed]",
      "text/plain": [
       "<Figure size 640x480 with 1 Axes>"
      ]
     },
     "metadata": {},
     "output_type": "display_data"
    }
   ],
   "source": [
    "df.plot(x='Joining Date', y='Salary', kind='line', marker='*', title='A line graph showing the Salaries against Joining Date')"
   ]
  },
  {
   "cell_type": "markdown",
   "metadata": {},
   "source": [
    "### Bar Plot\n"
   ]
  },
  {
   "cell_type": "code",
   "execution_count": 21,
   "metadata": {},
   "outputs": [
    {
     "data": {
      "image/png": "[encoded data removed]",
      "text/plain": [
       "<Figure size 1000x600 with 1 Axes>"
      ]
     },
     "metadata": {},
     "output_type": "display_data"
    }
   ],
   "source": [
    "plt.figure(figsize=(10,6))\n",
    "sns.barplot(x=department_avg_salary.index,\n",
    "            y=department_avg_salary.values,\n",
    "            color='pink',\n",
    "            edgecolor='skyblue')\n",
    "plt.title('A bar graph showing the Average Salary per Department')\n",
    "plt.xlabel('Department')\n",
    "plt.ylabel('Average Salary')\n",
    "plt.show()"
   ]
  },
  {
   "cell_type": "markdown",
   "metadata": {},
   "source": [
    "### Histogram\n"
   ]
  },
  {
   "cell_type": "code",
   "execution_count": 22,
   "metadata": {},
   "outputs": [
    {
     "data": {
      "image/png": "[encoded data removed]",
      "text/plain": [
       "<Figure size 1000x600 with 1 Axes>"
      ]
     },
     "metadata": {},
     "output_type": "display_data"
    }
   ],
   "source": [
    "plt.figure(figsize=(10,6))\n",
    "sns.histplot(df['Salary'],\n",
    "         bins=10,\n",
    "         kde=True,\n",
    "         color='teal',\n",
    "         edgecolor='red')\n",
    "plt.title('A histogram showing the distribution of Salary')\n",
    "plt.xlabel('Salary')\n",
    "plt.ylabel('Frequency')\n",
    "plt.show()"
   ]
  },
  {
   "cell_type": "markdown",
   "metadata": {},
   "source": [
    "### Scatter Plot\n"
   ]
  },
  {
   "cell_type": "code",
   "execution_count": 23,
   "metadata": {},
   "outputs": [
    {
     "data": {
      "image/png": "[encoded data removed]",
      "text/plain": [
       "<Figure size 640x480 with 1 Axes>"
      ]
     },
     "metadata": {},
     "output_type": "display_data"
    }
   ],
   "source": [
    "sns.regplot(x='Years of Experience',\n",
    "                y='Salary',\n",
    "                data=df,\n",
    "                color='seagreen')\n",
    "plt.title('A scatterplot showing the relationship between Salary and Years of Experience including a line of best fit')\n",
    "plt.xlabel('Experience / Year')\n",
    "plt.ylabel('Salary / £')\n",
    "plt.show()"
   ]
  },
  {
   "cell_type": "markdown",
   "metadata": {},
   "source": [
    "### Heatmap"
   ]
  },
  {
   "cell_type": "code",
   "execution_count": 24,
   "metadata": {},
   "outputs": [
    {
     "data": {
      "image/png": "[encoded data removed]",
      "text/plain": [
       "<Figure size 640x480 with 2 Axes>"
      ]
     },
     "metadata": {},
     "output_type": "display_data"
    }
   ],
   "source": [
    "\n",
    "\n",
    "result = df.pivot(index='Joining Date', \n",
    "                  columns='Department', \n",
    "                  values='Salary')\n",
    "\n",
    "sns.heatmap(result, \n",
    "            # annot=True,  \n",
    "            cmap='viridis')\n",
    "plt.title('A heatmap showing the relationship between Salary and Years of Experience')\n",
    "plt.show()"
   ]
  }
 ],
 "metadata": {
  "kernelspec": {
   "display_name": ".venv",
   "language": "python",
   "name": "python3"
  },
  "language_info": {
   "codemirror_mode": {
    "name": "ipython",
    "version": 3
   },
   "file_extension": ".py",
   "mimetype": "text/x-python",
   "name": "python",
   "nbconvert_exporter": "python",
   "pygments_lexer": "ipython3",
   "version": "3.9.6"
  }
 },
 "nbformat": 4,
 "nbformat_minor": 2
}
