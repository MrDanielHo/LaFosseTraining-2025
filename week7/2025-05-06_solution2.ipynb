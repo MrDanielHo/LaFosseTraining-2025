{
 "cells": [
  {
   "cell_type": "markdown",
   "metadata": {},
   "source": [
    "# Steps for Analyzing the \"Highest Grossing Concerts by Women\" Dataset\n",
    "\n"
   ]
  },
  {
   "cell_type": "markdown",
   "metadata": {},
   "source": [
    "## 1. Write an Introduction\n",
    "   - Start your analysis by writing an introduction that provides context for the data. Your introduction should include:\n",
    "     - A description of the dataset: Mention that this dataset contains information about the highest-grossing concerts by female artists, including details like the artist's name, tour title, gross revenue (both actual and adjusted for 2022 dollars), the number of shows, and the average gross per show.\n",
    "     - 3-5 key questions or hypotheses you want to explore. Examples might include:\n",
    "       1. Which female artist has the highest grossing tours?\n",
    "       2. How does the adjusted gross compare across different tours?\n",
    "       3. Are there any patterns in the average gross per show across different artists?\n",
    "       4. Do artists with more shows tend to have higher overall gross revenue?\n",
    "\n"
   ]
  },
  {
   "cell_type": "markdown",
   "metadata": {},
   "source": [
    "## 2. Load the Dataset\n",
    "   - Load the dataset into your Python environment to begin the analysis:\n",
    "     ```python\n",
    "     import pandas as pd\n",
    "\n",
    "     # Load the dataset\n",
    "     df = pd.read_csv('../data/highest-female-artist-gross-concert.csv')\n",
    "\n",
    "     # To solve encoding issue with column names with empty spaces\n",
    "     df.rename(lambda col: col.replace('\\xa0', ' '), axis='columns', inplace=True) \n",
    "\n",
    "     # Display the first few rows to understand the structure\n",
    "     df.head()\n",
    "     ```\n",
    "\n"
   ]
  },
  {
   "cell_type": "markdown",
   "metadata": {},
   "source": [
    "## 3. Understand the Data Structure\n",
    "   - Before diving into the analysis, you need to understand what you’re working with by examining the data types, looking for missing values, and getting a general overview:\n",
    "     ```python\n",
    "     # Check the data types and for any missing values\n",
    "     df.info()\n",
    "\n",
    "     # Get a summary of the data to understand basic statistics\n",
    "     df.describe(include='all')\n",
    "\n",
    "     # Check the column names to ensure you're working with the correct data\n",
    "     df.columns\n",
    "     ```\n",
    "\n"
   ]
  },
  {
   "cell_type": "markdown",
   "metadata": {},
   "source": [
    "## 4. Convert Financial Data to Numeric\n",
    "   - The financial columns such as `Actual gross`, `Adjusted gross (in 2022 dollars)`, and `Average gross` need to be cleaned of any non-numeric characters like dollar signs and commas, and then converted to numeric types:\n",
    "\n",
    "     ```python\n",
    "     # Remove any commas and dollar signs, then convert to numeric\n",
    "     df['Actual gross'] = df['Actual gross'].replace({r'\\$':'', r',':'', r'\\[.*?\\]':''}, regex=True).astype(float)\n",
    "     df['Adjusted gross (in 2022 dollars)'] = df['Adjusted gross (in 2022 dollars)'].replace({r'\\$': '', r',': '', r'\\[.*?\\]': ''}, regex=True).astype(float)\n",
    "     df['Average gross'] = df['Average gross'].replace({r'\\$': '', r',': '', r'\\[.*?\\]': ''}, regex=True).astype(float)\n",
    "\n",
    "     # Verify the conversion worked\n",
    "     df[['Actual gross', 'Adjusted gross (in 2022 dollars)', 'Average gross']].head()\n",
    "     ```\n",
    "\n"
   ]
  },
  {
   "cell_type": "markdown",
   "metadata": {},
   "source": [
    "## 5. Handle Missing Data\n",
    "   - Now that the financial data is properly formatted, handle any missing values:\n",
    "     ```python\n",
    "     # Check for missing values in each column\n",
    "     missing_values = df.isnull().sum()\n",
    "     print(missing_values[missing_values > 0])\n",
    "\n",
    "     # Decide on a strategy to handle missing values\n",
    "     # For example, you can fill missing numeric values with the mean of the column\n",
    "     df['Actual gross'] = df['Actual gross'].fillna(df['Actual gross'].mean())\n",
    "     df['Adjusted gross (in 2022 dollars)'] = df['Adjusted gross (in 2022 dollars)'].fillna(df['Adjusted gross (in 2022 dollars)'].mean())\n",
    "     df['Average gross'] = df['Average gross'].fillna(df['Average gross'].mean())\n",
    "\n",
    "     # For categorical data like 'Artist' or 'Tour title', you might fill with a placeholder\n",
    "     df['Artist'] = df['Artist'].fillna('Unknown')\n",
    "     df['Tour title'] = df['Tour title'].fillna('Unknown')\n",
    "     ```\n",
    "\n"
   ]
  },
  {
   "cell_type": "markdown",
   "metadata": {},
   "source": [
    "## 6. Ensure Consistency in Text Data\n",
    "   - Make sure all text data, like artist names, are consistent to avoid any issues during analysis:\n",
    "     ```python\n",
    "     # Standardize artist names to lowercase to avoid duplication due to case differences\n",
    "     df['Artist'] = df['Artist'].str.lower()\n",
    "\n",
    "     # Check for unique values in the artist column to ensure consistency\n",
    "     df['Artist'].unique()\n",
    "     ```\n",
    "\n"
   ]
  },
  {
   "cell_type": "markdown",
   "metadata": {},
   "source": [
    "## 7. Data Transformation\n",
    "   - Handle the `Year(s)` Column:\n",
    "     - Since the `Year(s)` column might contain ranges (e.g., \"2019–2020\"), you'll need to extract the relevant year(s) information for analysis:\n",
    "     ```python\n",
    "     # If the Year(s) column contains ranges, you might want to extract the first year for simplicity\n",
    "     df['Year'] = df['Year(s)'].str.split('–').str[0].astype(int)\n",
    "\n",
    "     # Check the transformed Year column\n",
    "     df[['Year(s)', 'Year']].head()\n",
    "     ```\n",
    "\n"
   ]
  },
  {
   "cell_type": "markdown",
   "metadata": {},
   "source": [
    "## 8. Exploratory Data Analysis (EDA)\n",
    "   - Visualize the Top Grossing Artists:\n",
    "     - Start by identifying which artists have the highest total gross revenue:\n",
    "     ```python\n",
    "     import matplotlib.pyplot as plt\n",
    "     import seaborn as sns\n",
    "\n",
    "     # Group by artist and sum the adjusted gross, then sort to find the top grossing artists\n",
    "     top_artists = df.groupby('Artist')['Adjusted gross (in 2022 dollars)'].sum().sort_values(ascending=False).head(10)\n",
    "\n",
    "     # Plot the results\n",
    "     plt.figure(figsize=(12, 6))\n",
    "     sns.barplot(x=top_artists.values, y=top_artists.index, palette='magma')\n",
    "     plt.title('Top 10 Highest Grossing Female Artists (Adjusted Gross)')\n",
    "     plt.xlabel('Total Adjusted Gross ($)')\n",
    "     plt.ylabel('Artist')\n",
    "     plt.show()\n",
    "     ```\n",
    "\n",
    "   - Revenue Distribution:\n",
    "     - Check how the adjusted gross revenue is distributed across the concerts:\n",
    "     ```python\n",
    "     # Plot a histogram to visualize the distribution of adjusted gross revenue\n",
    "     plt.figure(figsize=(10, 6))\n",
    "     sns.histplot(df['Adjusted gross (in 2022 dollars)'], kde=True)\n",
    "     plt.title('Distribution of Adjusted Gross Revenue')\n",
    "     plt.xlabel('Adjusted Gross ($)')\n",
    "     plt.ylabel('Frequency')\n",
    "     plt.show()\n",
    "     ```\n",
    "\n",
    "   - Trends Over Years:\n",
    "     - Analyze how adjusted gross revenues have changed over the years:\n",
    "     ```python\n",
    "     # Plot the total adjusted gross per year\n",
    "     yearly_revenue = df.groupby('Year')['Adjusted gross (in 2022 dollars)'].sum()\n",
    "\n",
    "     plt.figure(figsize=(12, 6))\n",
    "     sns.lineplot(x=yearly_revenue.index, y=yearly_revenue.values)\n",
    "     plt.title('Total Adjusted Gross Revenue Over the Years')\n",
    "     plt.xlabel('Year')\n",
    "     plt.ylabel('Total Adjusted Gross ($)')\n",
    "     plt.show()\n",
    "     ```\n",
    "\n"
   ]
  },
  {
   "cell_type": "markdown",
   "metadata": {},
   "source": [
    "## 9. Detailed Data Analysis\n",
    "   - Average Revenue per Artist:\n",
    "     - Take a closer look at the average adjusted gross revenue generated by each artist:\n",
    "     ```python\n",
    "     # Compare average adjusted gross per concert by artist\n",
    "     avg_revenue_by_artist = df.groupby('Artist')['Adjusted gross (in 2022 dollars)'].mean().sort_values(ascending=False).head(10)\n",
    "\n",
    "     plt.figure(figsize=(12, 6))\n",
    "     sns.barplot(x=avg_revenue_by_artist.values, y=avg_revenue_by_artist.index, palette='coolwarm')\n",
    "     plt.title('Top 10 Artists by Average Adjusted Gross Revenue')\n",
    "     plt.xlabel('Average Adjusted Gross ($)')\n",
    "     plt.ylabel('Artist')\n",
    "     plt.show()\n",
    "     ```\n",
    "\n",
    "\n"
   ]
  },
  {
   "cell_type": "markdown",
   "metadata": {},
   "source": [
    "## 11. Conclude Your Analysis\n",
    "   - Summarize the insights you gained from your analysis. For example, note which artist dominated the highest grossing concerts or whether any interesting trends were observed over the years.\n",
    "\n"
   ]
  },
  {
   "cell_type": "markdown",
   "metadata": {},
   "source": [
    "## 12. Suggestions for Future Analysis\n",
    "   - Based on your findings, suggest areas for further exploration. For instance, you might explore how the number of shows impacts gross revenue, or compare this dataset with similar data for male artists.\n",
    "\n",
    "---"
   ]
  }
 ],
 "metadata": {
  "language_info": {
   "name": "python"
  }
 },
 "nbformat": 4,
 "nbformat_minor": 2
}
