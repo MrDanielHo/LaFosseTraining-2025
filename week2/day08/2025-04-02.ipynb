{
 "cells": [
  {
   "cell_type": "markdown",
   "metadata": {},
   "source": [
    "# Interpersonal Skills\n",
    "## STAR technique\n"
   ]
  },
  {
   "cell_type": "markdown",
   "metadata": {},
   "source": [
    "\n",
    "## General Scenario-Based Interview Questions\n",
    "### Tell me about a time when you had to deal with a difficult customer or client. How did you handle the situation?\n",
    "Assesses customer service skills and conflict resolution\n",
    "\n"
   ]
  },
  {
   "cell_type": "markdown",
   "metadata": {},
   "source": [
    "\n",
    "### Describe a situation where you had to work under tight deadlines. How did you prioritise your tasks?\n",
    "Tests time management, prioritisation, and ability to work under pressure\n"
   ]
  },
  {
   "cell_type": "markdown",
   "metadata": {},
   "source": [
    "\n",
    "### Can you give an example of a time when you had to adapt to a significant change at work? How did you adjust?\n",
    "Tests flexibility and adaptability\n"
   ]
  },
  {
   "cell_type": "markdown",
   "metadata": {},
   "source": [
    "\n",
    "### Tell me about a time when you disagreed with a colleague or team member. How did you resolve the conflict?\n",
    "Assesses teamwork, communication, and conflict resolution\n"
   ]
  },
  {
   "cell_type": "markdown",
   "metadata": {},
   "source": [
    "\n",
    "### Describe a situation where you had to make an important decision without all the necessary information. How did you proceed?\n",
    "Tests decision-making skills, judgement, and problem-solving under uncertainty\n"
   ]
  },
  {
   "cell_type": "markdown",
   "metadata": {},
   "source": [
    "\n",
    "### Give an example of when you had to lead a project or team. How did you ensure its success?\n",
    "Assesses leadership, initiative, and project management skills\n"
   ]
  },
  {
   "cell_type": "markdown",
   "metadata": {},
   "source": [
    "\n",
    "### Tell me about a time when you took the initiative to improve a process or solve a problem in your workplace.\n",
    "Tests innovation, initiative, and problem-solving skills\n"
   ]
  },
  {
   "cell_type": "markdown",
   "metadata": {},
   "source": [
    "\n",
    "### Describe a time when you had to deal with a challenging team member. What did you do to address the situation?\n",
    "Assesses interpersonal skills and teamwork in difficult situations\n"
   ]
  },
  {
   "cell_type": "markdown",
   "metadata": {},
   "source": [
    "\n",
    "### Tell me about a time when you had to meet a goal or target with limited resources. How did you handle it?\n",
    "Tests resourcefulness, goal-setting, and problem-solving\n"
   ]
  },
  {
   "cell_type": "markdown",
   "metadata": {},
   "source": [
    "\n",
    "### Can you describe a scenario where you had to balance multiple competing priorities? How did you manage it?\n",
    "Assesses multitasking, prioritisation, and stress management skills\n"
   ]
  },
  {
   "cell_type": "markdown",
   "metadata": {},
   "source": [
    "\n",
    "### Tell me about a time when you had to deliver bad news to a colleague, boss, or client. How did you handle it?\n",
    "Tests communication, empathy, and professionalism in sensitive situations\n"
   ]
  },
  {
   "cell_type": "markdown",
   "metadata": {},
   "source": [
    "\n",
    "### Describe a situation where you worked on a project with tight budget constraints. How did you manage the budget?\n",
    "Assesses financial management, resourcefulness, and project management skills\n"
   ]
  },
  {
   "cell_type": "markdown",
   "metadata": {},
   "source": [
    "\n",
    "### Can you think of a time when you had to learn a new skill quickly to complete a project or task? How did you manage?\n",
    "Tests learning agility and the ability to acquire new skills under pressure\n"
   ]
  },
  {
   "cell_type": "markdown",
   "metadata": {},
   "source": [
    "\n",
    "### Tell me about a time when you received feedback that you didn’t agree with. How did you handle it?\n",
    "Assesses openness to feedback, self-awareness, and professionalism\n"
   ]
  },
  {
   "cell_type": "markdown",
   "metadata": {},
   "source": [
    "\n",
    "### Describe a situation where you had to deal with an unexpected obstacle that impacted your work. How did you overcome it?\n",
    "Tests problem-solving, resilience, and creativity in overcoming challenges\n"
   ]
  },
  {
   "cell_type": "markdown",
   "metadata": {},
   "source": [
    "\n",
    "### Can you give an example of a time when you helped someone else succeed? What steps did you take to support them?\n",
    "Assesses teamwork, mentorship, and collaboration skills\n"
   ]
  },
  {
   "cell_type": "markdown",
   "metadata": {},
   "source": [
    "\n",
    "### Tell me about a time when you had to make a quick decision with little or no guidance. How did you approach the situation?\n",
    "Tests decisiveness and confidence in decision-making under pressure\n"
   ]
  },
  {
   "cell_type": "markdown",
   "metadata": {},
   "source": [
    "\n",
    "### Describe a time when you felt overwhelmed at work. How did you handle it?\n",
    "Assesses stress management, coping strategies, and prioritisation\n"
   ]
  },
  {
   "cell_type": "markdown",
   "metadata": {},
   "source": [
    "\n",
    "### Tell me about a time when you had to convince others to accept your point of view. How did you approach it?\n",
    "Tests persuasion, communication, and negotiation skills\n"
   ]
  },
  {
   "cell_type": "markdown",
   "metadata": {},
   "source": [
    "\n",
    "### Can you provide an example of when you had to complete a task or project with minimal supervision? How did you ensure it was done successfully?\n",
    "Assesses independence, initiative, and accountability\n"
   ]
  },
  {
   "cell_type": "markdown",
   "metadata": {},
   "source": [
    "\n",
    "### Tell me about a time when you had to collaborate with people from different departments or teams. How did you ensure smooth communication and cooperation?\n",
    "Tests cross-functional collaboration, communication, and teamwork skills\n"
   ]
  },
  {
   "cell_type": "markdown",
   "metadata": {},
   "source": [
    "\n",
    "### Describe a time when you made an error at work. How did you handle the situation, and what did you learn from it?\n",
    "Tests accountability, problem-solving, and learning from mistakes\n"
   ]
  },
  {
   "cell_type": "markdown",
   "metadata": {},
   "source": [
    "\n",
    "### Tell me about a time when you were given a project with unclear instructions. How did you proceed?\n",
    "Tests your ability to seek clarity, problem-solve, and manage uncertainty\n"
   ]
  },
  {
   "cell_type": "markdown",
   "metadata": {},
   "source": [
    "\n",
    "### Describe a situation where you were under high pressure with a tight timeline. How did you maintain quality and meet the deadline?\n",
    "Tests time management, stress tolerance, and maintaining quality under pressure\n"
   ]
  },
  {
   "cell_type": "markdown",
   "metadata": {},
   "source": [
    "\n",
    "### Can you share an example of a time when you had to quickly shift priorities in the middle of a project? How did you manage the change?\n",
    "Tests adaptability, flexibility, and project management under changing conditions"
   ]
  }
 ],
 "metadata": {
  "language_info": {
   "name": "python"
  }
 },
 "nbformat": 4,
 "nbformat_minor": 2
}
