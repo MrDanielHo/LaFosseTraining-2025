{
 "cells": [
  {
   "cell_type": "markdown",
   "metadata": {},
   "source": [
    "## Python Exercises I\n",
    "- Complete the following exercises"
   ]
  },
  {
   "cell_type": "markdown",
   "metadata": {},
   "source": [
    "### ☑️ Variable assignment and data types"
   ]
  },
  {
   "cell_type": "markdown",
   "metadata": {},
   "source": [
    "Assign some **values** of different **types** to some **variables**"
   ]
  },
  {
   "cell_type": "code",
   "execution_count": 70,
   "metadata": {},
   "outputs": [],
   "source": [
    "country = \"United Kingdom\"\n",
    "capital = \"London\"\n",
    "language = \"English\"\n",
    "currency = \"Pound Stirling\"\n",
    "population = 68300000\n",
    "area = 244376\n",
    "phone_code = '+44'\n",
    "royal_family = 'Windsor'"
   ]
  },
  {
   "cell_type": "markdown",
   "metadata": {},
   "source": [
    "Check each one of the variables data types"
   ]
  },
  {
   "cell_type": "code",
   "execution_count": 71,
   "metadata": {},
   "outputs": [
    {
     "name": "stdout",
     "output_type": "stream",
     "text": [
      "\n",
      "variable country: United Kingdom / datatype: <class 'str'>\n",
      "variable capital: London / datatype: <class 'str'>\n",
      "variable language: English / datatype: <class 'str'>\n",
      "variable currency: Pound Stirling / datatype: <class 'str'>\n",
      "variable population: 68300000 / datatype: <class 'int'>\n",
      "variable area: 244376 / datatype: <class 'int'>\n",
      "variable phone_code: +44 / datatype: <class 'str'>\n",
      "variable royal_family: Windsor / datatype: <class 'str'>\n",
      "\n"
     ]
    }
   ],
   "source": [
    "# Add your code here\n",
    "print(f'''\n",
    "variable country: {country} / datatype: {type(country)}\n",
    "variable capital: {capital} / datatype: {type(capital)}\n",
    "variable language: {language} / datatype: {type(language)}\n",
    "variable currency: {currency} / datatype: {type(currency)}\n",
    "variable population: {population} / datatype: {type(population)}\n",
    "variable area: {area} / datatype: {type(area)}\n",
    "variable phone_code: {phone_code} / datatype: {type(phone_code)}\n",
    "variable royal_family: {royal_family} / datatype: {type(royal_family)}\n",
    "''')\n",
    "\n"
   ]
  },
  {
   "cell_type": "markdown",
   "metadata": {},
   "source": [
    "Create two variables with your name and surname, then concatenate then to read `Hello (name) (surname), hope you are having a lovely day`. Use two concatenation methods"
   ]
  },
  {
   "cell_type": "code",
   "execution_count": 72,
   "metadata": {},
   "outputs": [
    {
     "name": "stdout",
     "output_type": "stream",
     "text": [
      "Hello firstname familyname, hope you are having a lovely day\n"
     ]
    }
   ],
   "source": [
    "# Add your code here\n",
    "name = 'firstname'\n",
    "surname = 'familyname'\n",
    "print(f'Hello {name} {surname}, hope you are having a lovely day')"
   ]
  },
  {
   "cell_type": "markdown",
   "metadata": {},
   "source": [
    "Create two variables with both boolean values, then print both variables and their data types"
   ]
  },
  {
   "cell_type": "code",
   "execution_count": 73,
   "metadata": {},
   "outputs": [
    {
     "name": "stdout",
     "output_type": "stream",
     "text": [
      "\n",
      "variable falsey is False / type is <class 'bool'>\n",
      "variable not_not_true is True / type is <class 'bool'>\n",
      "\n"
     ]
    }
   ],
   "source": [
    "# Add your code here\n",
    "falsey = False\n",
    "not_not_true = True\n",
    "print(f'''\n",
    "variable falsey is {falsey} / type is {type(falsey)}\n",
    "variable not_not_true is {not_not_true} / type is {type(not_not_true)}\n",
    "''')\n"
   ]
  },
  {
   "cell_type": "markdown",
   "metadata": {},
   "source": [
    "Create a variable called `text` and assign it the string \"Python is fun!\". Use string indexing to assign the first word \"Python\" to a new variable called `first_word`. Print `first_word`"
   ]
  },
  {
   "cell_type": "code",
   "execution_count": 74,
   "metadata": {},
   "outputs": [
    {
     "data": {
      "text/plain": [
       "'Python'"
      ]
     },
     "execution_count": 74,
     "metadata": {},
     "output_type": "execute_result"
    }
   ],
   "source": [
    "# Add your code here\n",
    "text = 'Python is fun!'\n",
    "first_word = text.split(' ',1)[0]\n",
    "first_word"
   ]
  },
  {
   "cell_type": "markdown",
   "metadata": {},
   "source": [
    "Create a variable called `is_raining` and assign the value \"False\" as a string (not a boolean). Use the `bool()` function to convert it to a boolean and assign it to a new variable called `is_raining_bool`. Print both variables"
   ]
  },
  {
   "cell_type": "code",
   "execution_count": 75,
   "metadata": {},
   "outputs": [
    {
     "name": "stdout",
     "output_type": "stream",
     "text": [
      "It is raining: False and it continues is_raining_bool: True\n"
     ]
    }
   ],
   "source": [
    "# Add your code here\n",
    "is_raining = \"False\"\n",
    "is_raining_bool = bool(is_raining)\n",
    "print(f'It is raining: {is_raining} and it continues is_raining_bool: {is_raining_bool}')"
   ]
  },
  {
   "cell_type": "markdown",
   "metadata": {},
   "source": [
    "Assign the integer 100 to a variable called `number` and the string \"100\" to a variable called `number_str`. Use the `int()` function to convert `number_str` to an integer and check if both `number` and `number_str` are equal"
   ]
  },
  {
   "cell_type": "code",
   "execution_count": 76,
   "metadata": {},
   "outputs": [
    {
     "data": {
      "text/plain": [
       "True"
      ]
     },
     "execution_count": 76,
     "metadata": {},
     "output_type": "execute_result"
    }
   ],
   "source": [
    "# Add your code here\n",
    "number = 100\n",
    "number_str = \"100\"\n",
    "number == int(number_str)"
   ]
  },
  {
   "cell_type": "markdown",
   "metadata": {},
   "source": [
    "Create a variable called `x` and assign the value 15. Create a second variable `y` and assign it the value of x. Change the value of `x` to 20. Print both `x` and `y`"
   ]
  },
  {
   "cell_type": "code",
   "execution_count": 77,
   "metadata": {},
   "outputs": [
    {
     "name": "stdout",
     "output_type": "stream",
     "text": [
      "The value of x = 20, the value of y = 15\n"
     ]
    }
   ],
   "source": [
    "# Add your code here\n",
    "x = 15\n",
    "y = x\n",
    "x = 20\n",
    "print(f'The value of x = {x}, the value of y = {y}')\n"
   ]
  },
  {
   "cell_type": "markdown",
   "metadata": {},
   "source": [
    "Create a variable called `sentence` and assign the value \"Learning Python is fun!\". Use the `len()` function to find the length of the string and store it in a variable called `sentence_length`. Print both variables"
   ]
  },
  {
   "cell_type": "code",
   "execution_count": 78,
   "metadata": {},
   "outputs": [
    {
     "name": "stdout",
     "output_type": "stream",
     "text": [
      "\n",
      "        text = Python is fun!\n",
      "        text length = 14\n",
      "      \n"
     ]
    }
   ],
   "source": [
    "# Add your code here\n",
    "print(f'''\n",
    "        text = {text}\n",
    "        text length = {len(text)}\n",
    "      ''')"
   ]
  },
  {
   "cell_type": "markdown",
   "metadata": {},
   "source": [
    "Create a variable called `pi` and assign the value 3.14159. Convert this value to a string and assign it to a new variable `pi_str`. Concatenate \"The value of pi is \" with `pi_str` and print the result"
   ]
  },
  {
   "cell_type": "code",
   "execution_count": 79,
   "metadata": {},
   "outputs": [
    {
     "name": "stdout",
     "output_type": "stream",
     "text": [
      "The value of pi is 3.14159\n"
     ]
    }
   ],
   "source": [
    "# Add your code here\n",
    "pi = 3.14159\n",
    "pi_str = str(pi)\n",
    "print(f'The value of pi is {pi_str}')\n"
   ]
  },
  {
   "cell_type": "markdown",
   "metadata": {},
   "source": [
    "Create a variable called `number` and assign the value 1000. Use the `str()` function to convert it into a string and store it in a variable called `number_str`. Use string slicing to get the first two characters of `number_str` and print the result"
   ]
  },
  {
   "cell_type": "code",
   "execution_count": 80,
   "metadata": {},
   "outputs": [
    {
     "name": "stdout",
     "output_type": "stream",
     "text": [
      "1 and 0\n"
     ]
    }
   ],
   "source": [
    "# Add your code here\n",
    "number = 1000\n",
    "number_str = str(number)\n",
    "print(f'{number_str[0]} and {number_str[1]}')\n"
   ]
  },
  {
   "cell_type": "markdown",
   "metadata": {},
   "source": [
    "### ☑️ Basic arithmetic and operators"
   ]
  },
  {
   "cell_type": "markdown",
   "metadata": {},
   "source": [
    "Assign the result of `population` / `area` calculation to a new variable called `density`:"
   ]
  },
  {
   "cell_type": "code",
   "execution_count": 81,
   "metadata": {},
   "outputs": [
    {
     "name": "stdout",
     "output_type": "stream",
     "text": [
      "The density of the UK is 279.4873473663535\n"
     ]
    }
   ],
   "source": [
    "# Add your code here\n",
    "density = population / area\n",
    "print(f'The density of the UK is {density}')"
   ]
  },
  {
   "cell_type": "markdown",
   "metadata": {},
   "source": [
    "Convert 28 degrees celsius to degrees in fahrenheit, save both degrees in different variables\n",
    "\n",
    "To convert Celsius to Fahrenheit, multiply the Celsius temperature by 1.8 and then add 32. For example, to convert 25°C to Fahrenheit: (25 × 1.8) + 32 = 77°F."
   ]
  },
  {
   "cell_type": "code",
   "execution_count": 82,
   "metadata": {},
   "outputs": [
    {
     "name": "stdout",
     "output_type": "stream",
     "text": [
      "28°C is 82.4°F\n"
     ]
    }
   ],
   "source": [
    "# Your code here\n",
    "temp_celcius = 28\n",
    "temp_fahrenheit = temp_celcius * 1.8 + 32\n",
    "\n",
    "print(f'{temp_celcius}°C is {temp_fahrenheit}°F')"
   ]
  },
  {
   "cell_type": "markdown",
   "metadata": {},
   "source": [
    "Create to variables `a = 57` and `b = x`, they should have a sum of 124"
   ]
  },
  {
   "cell_type": "code",
   "execution_count": 83,
   "metadata": {},
   "outputs": [
    {
     "data": {
      "text/plain": [
       "77"
      ]
     },
     "execution_count": 83,
     "metadata": {},
     "output_type": "execute_result"
    }
   ],
   "source": [
    "# Your code here\n",
    "a = 57\n",
    "b = x\n",
    "a + b\n"
   ]
  },
  {
   "cell_type": "markdown",
   "metadata": {},
   "source": [
    "Create four variables to store the values of addition, subtraction, multiplication and division between `a` and `b`, and print the results"
   ]
  },
  {
   "cell_type": "code",
   "execution_count": 84,
   "metadata": {},
   "outputs": [
    {
     "name": "stdout",
     "output_type": "stream",
     "text": [
      "\n",
      "a has the value 9 / b has the valie 7\n",
      "a + b = 16\n",
      "a - b = 2\n",
      "a * b = 63\n",
      "a / b = 1.2857142857142858\n",
      "\n"
     ]
    }
   ],
   "source": [
    "a = 9\n",
    "b = 7\n",
    "\n",
    "# Add your code here\n",
    "ab_add = a+b\n",
    "ab_sub = a-b\n",
    "ab_mul = a*b\n",
    "ab_div = a/b\n",
    "\n",
    "print(f'''\n",
    "a has the value {a} / b has the valie {b}\n",
    "a + b = {ab_add}\n",
    "a - b = {ab_sub}\n",
    "a * b = {ab_mul}\n",
    "a / b = {ab_div}\n",
    "''')\n"
   ]
  },
  {
   "cell_type": "markdown",
   "metadata": {},
   "source": [
    "### ☑️ Data structure (lists, dictionaries, sets, tuples)"
   ]
  },
  {
   "cell_type": "markdown",
   "metadata": {},
   "source": [
    "Create a list with 10 cities, then use indexing to select the first 4 cities and assign it to a new variable"
   ]
  },
  {
   "cell_type": "code",
   "execution_count": 85,
   "metadata": {},
   "outputs": [
    {
     "name": "stdout",
     "output_type": "stream",
     "text": [
      "['London', 'Manchester', 'Leicester', 'Blackpool']\n"
     ]
    }
   ],
   "source": [
    "# Add your code here\n",
    "cities = ['London', \n",
    "          'Manchester', \n",
    "          'Leicester', \n",
    "          'Blackpool',\n",
    "          'Birmingham',\n",
    "          'Edinbrough',\n",
    "          'Glasgow',\n",
    "          'Cardiff',\n",
    "          'Ipswich',\n",
    "          'Dublin'\n",
    "          ]\n",
    "city_list = cities[0:4]\n",
    "print(city_list)"
   ]
  },
  {
   "cell_type": "markdown",
   "metadata": {},
   "source": [
    "Create a list with 6 different car brands. Use slicing to replace the first two brands with 'Tesla' and 'Ford'"
   ]
  },
  {
   "cell_type": "code",
   "execution_count": 86,
   "metadata": {},
   "outputs": [
    {
     "data": {
      "text/plain": [
       "['Tesla', 'Ford', 'Audi', 'BMW', 'MG', 'BYD']"
      ]
     },
     "execution_count": 86,
     "metadata": {},
     "output_type": "execute_result"
    }
   ],
   "source": [
    "# Add your code here\n",
    "car_brands = ['Toyota',\n",
    "              'Mazda',\n",
    "              'Audi',\n",
    "              'BMW',\n",
    "              'MG',\n",
    "              'BYD'\n",
    "              ]\n",
    "\n",
    "car_brands[0:2] = ['Tesla', 'Ford']\n",
    "car_brands\n"
   ]
  },
  {
   "cell_type": "markdown",
   "metadata": {},
   "source": [
    "Create a list with 7 different countries. Reverse the order of the list and assign it to a new variable"
   ]
  },
  {
   "cell_type": "code",
   "execution_count": 87,
   "metadata": {},
   "outputs": [
    {
     "data": {
      "text/plain": [
       "['Australia', 'China', 'Brazil', 'Sweden', 'The Nederlands', 'Italy', 'Greece']"
      ]
     },
     "execution_count": 87,
     "metadata": {},
     "output_type": "execute_result"
    }
   ],
   "source": [
    "# Add your code here\n",
    "countries = ['Greece',\n",
    "             'Italy',\n",
    "             'The Nederlands',\n",
    "             'Sweden',\n",
    "             'Brazil',\n",
    "             'China',\n",
    "             'Australia']\n",
    "\n",
    "seirtnuoc = countries[::-1]\n",
    "seirtnuoc"
   ]
  },
  {
   "cell_type": "markdown",
   "metadata": {},
   "source": [
    "Create a list of 5 numbers. Add two more numbers to the list and remove the third one"
   ]
  },
  {
   "cell_type": "code",
   "execution_count": 88,
   "metadata": {},
   "outputs": [
    {
     "data": {
      "text/plain": [
       "[1, 3, 10, 50, 150, 321]"
      ]
     },
     "execution_count": 88,
     "metadata": {},
     "output_type": "execute_result"
    }
   ],
   "source": [
    "# Add your code here\n",
    "nummer_list = [1, 3, 5, 10, 50]\n",
    "nummer_list.extend((150, 321))\n",
    "del nummer_list[2]\n",
    "nummer_list "
   ]
  },
  {
   "cell_type": "markdown",
   "metadata": {},
   "source": [
    "Create a list with integers and floats, it should have duplicate number. Then convert it to a set to remove the duplicates and back to a list again"
   ]
  },
  {
   "cell_type": "code",
   "execution_count": 89,
   "metadata": {},
   "outputs": [
    {
     "data": {
      "text/plain": [
       "[1, 3, 100.15, 5.0, 100, 7, 9]"
      ]
     },
     "execution_count": 89,
     "metadata": {},
     "output_type": "execute_result"
    }
   ],
   "source": [
    "# Add your code here\n",
    "int_float_list = [1, 1, 3, 5.0, 5.0, 9, 7, 100.15, 100]\n",
    "int_float_list = set(int_float_list)\n",
    "int_float_list = list(int_float_list)\n",
    "int_float_list \n"
   ]
  },
  {
   "cell_type": "markdown",
   "metadata": {},
   "source": [
    "Create a dictionary with 5 country-capital pairs. Retrieve the capital of the 3rd country in the dictionary"
   ]
  },
  {
   "cell_type": "code",
   "execution_count": 90,
   "metadata": {},
   "outputs": [
    {
     "name": "stdout",
     "output_type": "stream",
     "text": [
      "The capital of France is Paris\n"
     ]
    }
   ],
   "source": [
    "# Add your code here\n",
    "country_cap_dict = {'Greece': 'Athens',\n",
    "                    'United States of America': 'Washington DC',\n",
    "                    'France': 'Paris',\n",
    "                    'Japan': 'Tokyo',\n",
    "                    'Thailand': 'Bangkok'}\n",
    "\n",
    "for key, value in country_cap_dict.items():\n",
    "  if key == list(country_cap_dict)[2]:\n",
    "    print(f'The capital of {key} is {value}')\n"
   ]
  },
  {
   "cell_type": "markdown",
   "metadata": {},
   "source": [
    "Create a dictionary with 3 animal names as keys and their lifespans as values. Add 2 more animals and its lifespan to the dictionary"
   ]
  },
  {
   "cell_type": "code",
   "execution_count": 91,
   "metadata": {},
   "outputs": [
    {
     "data": {
      "text/plain": [
       "{'Deer (Whitetail)': 23,\n",
       " 'Dog (Domestic)': 20,\n",
       " 'Donkey': 50,\n",
       " 'Dove': 12,\n",
       " 'Eagle (Golden)': 80}"
      ]
     },
     "execution_count": 91,
     "metadata": {},
     "output_type": "execute_result"
    }
   ],
   "source": [
    "# Add your code here\n",
    "animals = {'Deer (Whitetail)':23,\n",
    "           'Dog (Domestic)':20,\n",
    "           'Donkey':50,\n",
    "}\n",
    "animals.update({'Dove':12,'Eagle (Golden)':80})\n",
    "animals\n"
   ]
  },
  {
   "cell_type": "markdown",
   "metadata": {},
   "source": [
    "Create a dictionary that stores 4 people's names as keys and their favorite colors as values. Change the favorite color of one person"
   ]
  },
  {
   "cell_type": "code",
   "execution_count": 92,
   "metadata": {},
   "outputs": [
    {
     "data": {
      "text/plain": [
       "{'Stannis': 'red', 'Ned': 'yellow', 'Khal': 'orange', 'Margery': 'blue'}"
      ]
     },
     "execution_count": 92,
     "metadata": {},
     "output_type": "execute_result"
    }
   ],
   "source": [
    "# Add your code here\n",
    "people_dict = {'Stannis': 'red',\n",
    "               'Ned': 'yellow',\n",
    "               'Khal': 'green',\n",
    "               'Margery': 'blue'}\n",
    "people_dict.update({'Khal': 'orange'})\n",
    "people_dict"
   ]
  },
  {
   "cell_type": "markdown",
   "metadata": {},
   "source": [
    "Create a dictionary called `car` with brand, model, and year as keys, and assign values to those keys. Add a new key \"color\" with the value \"blue\" to the dictionary. Print the old and new dictionary versions"
   ]
  },
  {
   "cell_type": "code",
   "execution_count": 93,
   "metadata": {},
   "outputs": [
    {
     "data": {
      "text/plain": [
       "{'brand': 'Audi', 'model': 'S1', 'year': '2025', 'color': 'blue'}"
      ]
     },
     "execution_count": 93,
     "metadata": {},
     "output_type": "execute_result"
    }
   ],
   "source": [
    "# Add your code here\n",
    "car = {'brand': 'Audi',\n",
    "       'model': 'S1',\n",
    "       'year': '2025'}\n",
    "car.update({'color': 'blue'})\n",
    "car\n"
   ]
  },
  {
   "cell_type": "markdown",
   "metadata": {},
   "source": [
    "Create a dictionary called `book` with keys \"title\", \"author\", and \"year\". Use the `get()` method to access the value of \"author\" and print it"
   ]
  },
  {
   "cell_type": "code",
   "execution_count": 94,
   "metadata": {},
   "outputs": [
    {
     "data": {
      "text/plain": [
       "'George R R Martin'"
      ]
     },
     "execution_count": 94,
     "metadata": {},
     "output_type": "execute_result"
    }
   ],
   "source": [
    "# Add your code here\n",
    "book = {'title': 'Dance of Dragons',\n",
    "        'author': 'George R R Martin',\n",
    "        'year': 2011}\n",
    "\n",
    "book.get('author')"
   ]
  },
  {
   "cell_type": "markdown",
   "metadata": {},
   "source": [
    "Create a dictionary called `movie` with keys \"title\", \"director\", and \"year\". Use the `pop()` method to remove the \"director\" key from the dictionary. Print the dictionary before and after the removal"
   ]
  },
  {
   "cell_type": "code",
   "execution_count": 95,
   "metadata": {},
   "outputs": [
    {
     "data": {
      "text/plain": [
       "{'title': 'Wolf of Wall Street', 'year': 2013}"
      ]
     },
     "execution_count": 95,
     "metadata": {},
     "output_type": "execute_result"
    }
   ],
   "source": [
    "# Add your code here\n",
    "movie = {'title':'Wolf of Wall Street',\n",
    "         'director':'Martin Scorsese',\n",
    "         'year': 2013}\n",
    "movie.pop('director')\n",
    "movie\n"
   ]
  },
  {
   "cell_type": "markdown",
   "metadata": {},
   "source": [
    "Create a dictionary called `product` with keys \"name\", \"price\", and \"quantity\". Use bracket notation to print the value of \"price\""
   ]
  },
  {
   "cell_type": "code",
   "execution_count": 96,
   "metadata": {},
   "outputs": [
    {
     "data": {
      "text/plain": [
       "0.5"
      ]
     },
     "execution_count": 96,
     "metadata": {},
     "output_type": "execute_result"
    }
   ],
   "source": [
    "# Add your code here\n",
    "product = {'name': 'pencil',\n",
    "           'price': 0.50,\n",
    "           'quantity': 1000}\n",
    "product['price']"
   ]
  },
  {
   "cell_type": "markdown",
   "metadata": {},
   "source": [
    "Create a dictionary `fruit_prices` with keys \"apple\", \"banana\", and \"grape\". Use bracket notation to change the price of \"banana\" and print the updated dictionary"
   ]
  },
  {
   "cell_type": "code",
   "execution_count": 97,
   "metadata": {},
   "outputs": [
    {
     "data": {
      "text/plain": [
       "0.35"
      ]
     },
     "execution_count": 97,
     "metadata": {},
     "output_type": "execute_result"
    }
   ],
   "source": [
    "# Add your code here\n",
    "fruit_prices = {\"apple\": .30, \n",
    "                \"banana\": .25, \n",
    "                \"grape\": .10}\n",
    "fruit_prices['banana'] = .35\n",
    "fruit_prices['banana']\n"
   ]
  },
  {
   "cell_type": "markdown",
   "metadata": {},
   "source": [
    "Create a set with 5 different colours. Add one more colour to the set and remove an existing one"
   ]
  },
  {
   "cell_type": "code",
   "execution_count": 98,
   "metadata": {},
   "outputs": [
    {
     "data": {
      "text/plain": [
       "{'beige', 'black', 'cyan', 'grey', 'purple'}"
      ]
     },
     "execution_count": 98,
     "metadata": {},
     "output_type": "execute_result"
    }
   ],
   "source": [
    "# Add your code here\n",
    "color_set = {'purple', 'cyan', 'pink', 'beige', 'black'}\n",
    "color_set.add('grey')\n",
    "color_set.remove('pink')\n",
    "color_set"
   ]
  },
  {
   "cell_type": "markdown",
   "metadata": {},
   "source": [
    "Create a set with 6 random numbers. Remove one number from the set and print the updated set"
   ]
  },
  {
   "cell_type": "code",
   "execution_count": 99,
   "metadata": {},
   "outputs": [
    {
     "name": "stdout",
     "output_type": "stream",
     "text": [
      "We have the set {34, 81, 563, 21, 87, 58}\n",
      "We want to remove 563\n",
      "Leaving us with {34, 81, 21, 87, 58}\n"
     ]
    }
   ],
   "source": [
    "# Add your code here\n",
    "from random import randint\n",
    "pos_2 = randint(1,3000)\n",
    "ran_num = {randint(0,100),pos_2,randint(0,100),randint(0,100),randint(0,100),randint(0,100)}\n",
    "print(f'''We have the set {ran_num}\n",
    "We want to remove {pos_2}''')\n",
    "ran_num.remove(pos_2)\n",
    "print(f'Leaving us with {ran_num}')"
   ]
  },
  {
   "cell_type": "markdown",
   "metadata": {},
   "source": [
    "Create a set with 5 fruit names. Clear all the elements from the set and print the set after clearing it"
   ]
  },
  {
   "cell_type": "code",
   "execution_count": 100,
   "metadata": {},
   "outputs": [
    {
     "data": {
      "text/plain": [
       "set()"
      ]
     },
     "execution_count": 100,
     "metadata": {},
     "output_type": "execute_result"
    }
   ],
   "source": [
    "# Add your code here\n",
    "friut_set = {'Durian','Dragonfruit','Papaya','Lycee','Mangosteen'}\n",
    "friut_set.clear()\n",
    "friut_set"
   ]
  },
  {
   "cell_type": "markdown",
   "metadata": {},
   "source": [
    "Create a set with 5 colors. Try to add a duplicate color and print the set to see if the set changes"
   ]
  },
  {
   "cell_type": "code",
   "execution_count": 101,
   "metadata": {},
   "outputs": [
    {
     "data": {
      "text/plain": [
       "{'Aero (#73C4E5)',\n",
       " 'Alabaster (#EFECE0)',\n",
       " 'Flavescent (#FBED8F)',\n",
       " 'Middle Blue Purple (#8962AD)',\n",
       " 'Pastel Magenta (#F296BF)'}"
      ]
     },
     "execution_count": 101,
     "metadata": {},
     "output_type": "execute_result"
    }
   ],
   "source": [
    "# Add your code here\n",
    "colours = {'Middle Blue Purple (#8962AD)', 'Pastel Magenta (#F296BF)', 'Alabaster (#EFECE0)', 'Aero (#73C4E5)', 'Flavescent (#FBED8F)'}\n",
    "colours.update({'Pastel Magenta (#F296BF)'})\n",
    "colours\n"
   ]
  },
  {
   "cell_type": "markdown",
   "metadata": {},
   "source": [
    "Create a tuple with 5 floating-point numbers. Multiply the 3rd number by 2 and print the result"
   ]
  },
  {
   "cell_type": "code",
   "execution_count": 102,
   "metadata": {},
   "outputs": [
    {
     "name": "stdout",
     "output_type": "stream",
     "text": [
      "5.000001 * 2 = 10.000002\n"
     ]
    }
   ],
   "source": [
    "# Add your code here\n",
    "floating_tuple = (2.7984561, 8.96847561, 5.000001, 6.000005,789.456)\n",
    "print(f'{floating_tuple[2]} * 2 = {floating_tuple[2] * 2}')\n"
   ]
  },
  {
   "cell_type": "markdown",
   "metadata": {},
   "source": [
    "Create a tuple with 4 different cities. Convert the tuple to a list and append a new city to it"
   ]
  },
  {
   "cell_type": "code",
   "execution_count": 103,
   "metadata": {},
   "outputs": [
    {
     "data": {
      "text/plain": [
       "('Nice', 'Amsterdam', 'Beirut', 'Sydney', 'Barcelona')"
      ]
     },
     "execution_count": 103,
     "metadata": {},
     "output_type": "execute_result"
    }
   ],
   "source": [
    "# Add your code here\n",
    "city_tuple = ('Nice', 'Amsterdam', 'Beirut', 'Sydney')\n",
    "city_tuple = list(city_tuple)\n",
    "city_tuple.append('Barcelona')\n",
    "city_tuple = tuple(city_tuple)\n",
    "city_tuple"
   ]
  }
 ],
 "metadata": {
  "kernelspec": {
   "display_name": ".venv",
   "language": "python",
   "name": "python3"
  },
  "language_info": {
   "codemirror_mode": {
    "name": "ipython",
    "version": 3
   },
   "file_extension": ".py",
   "mimetype": "text/x-python",
   "name": "python",
   "nbconvert_exporter": "python",
   "pygments_lexer": "ipython3",
   "version": "3.9.6"
  }
 },
 "nbformat": 4,
 "nbformat_minor": 2
}
