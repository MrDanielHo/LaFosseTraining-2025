{
 "cells": [
  {
   "cell_type": "markdown",
   "id": "9dbcaeaa",
   "metadata": {
    "slideshow": {
     "slide_type": "slide"
    }
   },
   "source": [
    "# Intro to Pandas Exercise"
   ]
  },
  {
   "cell_type": "markdown",
   "id": "195610df",
   "metadata": {
    "slideshow": {
     "slide_type": "slide"
    }
   },
   "source": [
    "**First, let's import Pandas**"
   ]
  },
  {
   "cell_type": "code",
   "execution_count": 1,
   "id": "4e356023",
   "metadata": {
    "slideshow": {
     "slide_type": "slide"
    }
   },
   "outputs": [],
   "source": [
    "import pandas as pd"
   ]
  },
  {
   "cell_type": "code",
   "execution_count": 4,
   "id": "1b4ecddb",
   "metadata": {
    "slideshow": {
     "slide_type": "slide"
    }
   },
   "outputs": [],
   "source": [
    "df = pd.read_csv(\"diamonds.csv\")"
   ]
  },
  {
   "cell_type": "markdown",
   "id": "dce738ab",
   "metadata": {},
   "source": [
    "#### Display the first 7 and last 9 rows"
   ]
  },
  {
   "cell_type": "code",
   "execution_count": 5,
   "id": "baae2915",
   "metadata": {},
   "outputs": [
    {
     "data": {
      "application/vnd.microsoft.datawrangler.viewer.v0+json": {
       "columns": [
        {
         "name": "index",
         "rawType": "int64",
         "type": "integer"
        },
        {
         "name": "carat",
         "rawType": "float64",
         "type": "float"
        },
        {
         "name": "cut",
         "rawType": "object",
         "type": "string"
        },
        {
         "name": "color",
         "rawType": "object",
         "type": "string"
        },
        {
         "name": "clarity",
         "rawType": "object",
         "type": "string"
        },
        {
         "name": "depth",
         "rawType": "float64",
         "type": "float"
        },
        {
         "name": "table",
         "rawType": "float64",
         "type": "float"
        },
        {
         "name": "price",
         "rawType": "int64",
         "type": "integer"
        },
        {
         "name": "x",
         "rawType": "float64",
         "type": "float"
        },
        {
         "name": "y",
         "rawType": "float64",
         "type": "float"
        },
        {
         "name": "z",
         "rawType": "float64",
         "type": "float"
        }
       ],
       "conversionMethod": "pd.DataFrame",
       "ref": "2500ffbe-ca03-476a-bf6d-6eacfb9f8e21",
       "rows": [
        [
         "0",
         "0.23",
         "Ideal",
         "E",
         "SI2",
         "61.5",
         "55.0",
         "326",
         "3.95",
         "3.98",
         "2.43"
        ],
        [
         "1",
         "0.21",
         "Premium",
         "E",
         "SI1",
         "59.8",
         "61.0",
         "326",
         "3.89",
         "3.84",
         "2.31"
        ],
        [
         "2",
         "0.23",
         "Good",
         "E",
         "VS1",
         "56.9",
         "65.0",
         "327",
         "4.05",
         "4.07",
         "2.31"
        ],
        [
         "3",
         "0.29",
         "Premium",
         "I",
         "VS2",
         "62.4",
         "58.0",
         "334",
         "4.2",
         "4.23",
         "2.63"
        ],
        [
         "4",
         "0.31",
         "Good",
         "J",
         "SI2",
         "63.3",
         "58.0",
         "335",
         "4.34",
         "4.35",
         "2.75"
        ],
        [
         "5",
         "0.24",
         "Very Good",
         "J",
         "VVS2",
         "62.8",
         "57.0",
         "336",
         "3.94",
         "3.96",
         "2.48"
        ],
        [
         "6",
         "0.24",
         "Very Good",
         "I",
         "VVS1",
         "62.3",
         "57.0",
         "336",
         "3.95",
         "3.98",
         "2.47"
        ]
       ],
       "shape": {
        "columns": 10,
        "rows": 7
       }
      },
      "text/html": [
       "<div>\n",
       "<style scoped>\n",
       "    .dataframe tbody tr th:only-of-type {\n",
       "        vertical-align: middle;\n",
       "    }\n",
       "\n",
       "    .dataframe tbody tr th {\n",
       "        vertical-align: top;\n",
       "    }\n",
       "\n",
       "    .dataframe thead th {\n",
       "        text-align: right;\n",
       "    }\n",
       "</style>\n",
       "<table border=\"1\" class=\"dataframe\">\n",
       "  <thead>\n",
       "    <tr style=\"text-align: right;\">\n",
       "      <th></th>\n",
       "      <th>carat</th>\n",
       "      <th>cut</th>\n",
       "      <th>color</th>\n",
       "      <th>clarity</th>\n",
       "      <th>depth</th>\n",
       "      <th>table</th>\n",
       "      <th>price</th>\n",
       "      <th>x</th>\n",
       "      <th>y</th>\n",
       "      <th>z</th>\n",
       "    </tr>\n",
       "  </thead>\n",
       "  <tbody>\n",
       "    <tr>\n",
       "      <th>0</th>\n",
       "      <td>0.23</td>\n",
       "      <td>Ideal</td>\n",
       "      <td>E</td>\n",
       "      <td>SI2</td>\n",
       "      <td>61.5</td>\n",
       "      <td>55.0</td>\n",
       "      <td>326</td>\n",
       "      <td>3.95</td>\n",
       "      <td>3.98</td>\n",
       "      <td>2.43</td>\n",
       "    </tr>\n",
       "    <tr>\n",
       "      <th>1</th>\n",
       "      <td>0.21</td>\n",
       "      <td>Premium</td>\n",
       "      <td>E</td>\n",
       "      <td>SI1</td>\n",
       "      <td>59.8</td>\n",
       "      <td>61.0</td>\n",
       "      <td>326</td>\n",
       "      <td>3.89</td>\n",
       "      <td>3.84</td>\n",
       "      <td>2.31</td>\n",
       "    </tr>\n",
       "    <tr>\n",
       "      <th>2</th>\n",
       "      <td>0.23</td>\n",
       "      <td>Good</td>\n",
       "      <td>E</td>\n",
       "      <td>VS1</td>\n",
       "      <td>56.9</td>\n",
       "      <td>65.0</td>\n",
       "      <td>327</td>\n",
       "      <td>4.05</td>\n",
       "      <td>4.07</td>\n",
       "      <td>2.31</td>\n",
       "    </tr>\n",
       "    <tr>\n",
       "      <th>3</th>\n",
       "      <td>0.29</td>\n",
       "      <td>Premium</td>\n",
       "      <td>I</td>\n",
       "      <td>VS2</td>\n",
       "      <td>62.4</td>\n",
       "      <td>58.0</td>\n",
       "      <td>334</td>\n",
       "      <td>4.20</td>\n",
       "      <td>4.23</td>\n",
       "      <td>2.63</td>\n",
       "    </tr>\n",
       "    <tr>\n",
       "      <th>4</th>\n",
       "      <td>0.31</td>\n",
       "      <td>Good</td>\n",
       "      <td>J</td>\n",
       "      <td>SI2</td>\n",
       "      <td>63.3</td>\n",
       "      <td>58.0</td>\n",
       "      <td>335</td>\n",
       "      <td>4.34</td>\n",
       "      <td>4.35</td>\n",
       "      <td>2.75</td>\n",
       "    </tr>\n",
       "    <tr>\n",
       "      <th>5</th>\n",
       "      <td>0.24</td>\n",
       "      <td>Very Good</td>\n",
       "      <td>J</td>\n",
       "      <td>VVS2</td>\n",
       "      <td>62.8</td>\n",
       "      <td>57.0</td>\n",
       "      <td>336</td>\n",
       "      <td>3.94</td>\n",
       "      <td>3.96</td>\n",
       "      <td>2.48</td>\n",
       "    </tr>\n",
       "    <tr>\n",
       "      <th>6</th>\n",
       "      <td>0.24</td>\n",
       "      <td>Very Good</td>\n",
       "      <td>I</td>\n",
       "      <td>VVS1</td>\n",
       "      <td>62.3</td>\n",
       "      <td>57.0</td>\n",
       "      <td>336</td>\n",
       "      <td>3.95</td>\n",
       "      <td>3.98</td>\n",
       "      <td>2.47</td>\n",
       "    </tr>\n",
       "  </tbody>\n",
       "</table>\n",
       "</div>"
      ],
      "text/plain": [
       "   carat        cut color clarity  depth  table  price     x     y     z\n",
       "0   0.23      Ideal     E     SI2   61.5   55.0    326  3.95  3.98  2.43\n",
       "1   0.21    Premium     E     SI1   59.8   61.0    326  3.89  3.84  2.31\n",
       "2   0.23       Good     E     VS1   56.9   65.0    327  4.05  4.07  2.31\n",
       "3   0.29    Premium     I     VS2   62.4   58.0    334  4.20  4.23  2.63\n",
       "4   0.31       Good     J     SI2   63.3   58.0    335  4.34  4.35  2.75\n",
       "5   0.24  Very Good     J    VVS2   62.8   57.0    336  3.94  3.96  2.48\n",
       "6   0.24  Very Good     I    VVS1   62.3   57.0    336  3.95  3.98  2.47"
      ]
     },
     "execution_count": 5,
     "metadata": {},
     "output_type": "execute_result"
    }
   ],
   "source": [
    "# Add your code here\n",
    "df.head(7)\n",
    "\n"
   ]
  },
  {
   "cell_type": "code",
   "execution_count": 6,
   "id": "956b4e26",
   "metadata": {},
   "outputs": [
    {
     "data": {
      "application/vnd.microsoft.datawrangler.viewer.v0+json": {
       "columns": [
        {
         "name": "index",
         "rawType": "int64",
         "type": "integer"
        },
        {
         "name": "carat",
         "rawType": "float64",
         "type": "float"
        },
        {
         "name": "cut",
         "rawType": "object",
         "type": "string"
        },
        {
         "name": "color",
         "rawType": "object",
         "type": "string"
        },
        {
         "name": "clarity",
         "rawType": "object",
         "type": "string"
        },
        {
         "name": "depth",
         "rawType": "float64",
         "type": "float"
        },
        {
         "name": "table",
         "rawType": "float64",
         "type": "float"
        },
        {
         "name": "price",
         "rawType": "int64",
         "type": "integer"
        },
        {
         "name": "x",
         "rawType": "float64",
         "type": "float"
        },
        {
         "name": "y",
         "rawType": "float64",
         "type": "float"
        },
        {
         "name": "z",
         "rawType": "float64",
         "type": "float"
        }
       ],
       "conversionMethod": "pd.DataFrame",
       "ref": "4504becc-8f42-4c32-8505-697c4e35a56b",
       "rows": [
        [
         "53931",
         "0.71",
         "Premium",
         "F",
         "SI1",
         "59.8",
         "62.0",
         "2756",
         "5.74",
         "5.73",
         "3.43"
        ],
        [
         "53932",
         "0.7",
         "Very Good",
         "E",
         "VS2",
         "60.5",
         "59.0",
         "2757",
         "5.71",
         "5.76",
         "3.47"
        ],
        [
         "53933",
         "0.7",
         "Very Good",
         "E",
         "VS2",
         "61.2",
         "59.0",
         "2757",
         "5.69",
         "5.72",
         "3.49"
        ],
        [
         "53934",
         "0.72",
         "Premium",
         "D",
         "SI1",
         "62.7",
         "59.0",
         "2757",
         "5.69",
         "5.73",
         "3.58"
        ],
        [
         "53935",
         "0.72",
         "Ideal",
         "D",
         "SI1",
         "60.8",
         "57.0",
         "2757",
         "5.75",
         "5.76",
         "3.5"
        ],
        [
         "53936",
         "0.72",
         "Good",
         "D",
         "SI1",
         "63.1",
         "55.0",
         "2757",
         "5.69",
         "5.75",
         "3.61"
        ],
        [
         "53937",
         "0.7",
         "Very Good",
         "D",
         "SI1",
         "62.8",
         "60.0",
         "2757",
         "5.66",
         "5.68",
         "3.56"
        ],
        [
         "53938",
         "0.86",
         "Premium",
         "H",
         "SI2",
         "61.0",
         "58.0",
         "2757",
         "6.15",
         "6.12",
         "3.74"
        ],
        [
         "53939",
         "0.75",
         "Ideal",
         "D",
         "SI2",
         "62.2",
         "55.0",
         "2757",
         "5.83",
         "5.87",
         "3.64"
        ]
       ],
       "shape": {
        "columns": 10,
        "rows": 9
       }
      },
      "text/html": [
       "<div>\n",
       "<style scoped>\n",
       "    .dataframe tbody tr th:only-of-type {\n",
       "        vertical-align: middle;\n",
       "    }\n",
       "\n",
       "    .dataframe tbody tr th {\n",
       "        vertical-align: top;\n",
       "    }\n",
       "\n",
       "    .dataframe thead th {\n",
       "        text-align: right;\n",
       "    }\n",
       "</style>\n",
       "<table border=\"1\" class=\"dataframe\">\n",
       "  <thead>\n",
       "    <tr style=\"text-align: right;\">\n",
       "      <th></th>\n",
       "      <th>carat</th>\n",
       "      <th>cut</th>\n",
       "      <th>color</th>\n",
       "      <th>clarity</th>\n",
       "      <th>depth</th>\n",
       "      <th>table</th>\n",
       "      <th>price</th>\n",
       "      <th>x</th>\n",
       "      <th>y</th>\n",
       "      <th>z</th>\n",
       "    </tr>\n",
       "  </thead>\n",
       "  <tbody>\n",
       "    <tr>\n",
       "      <th>53931</th>\n",
       "      <td>0.71</td>\n",
       "      <td>Premium</td>\n",
       "      <td>F</td>\n",
       "      <td>SI1</td>\n",
       "      <td>59.8</td>\n",
       "      <td>62.0</td>\n",
       "      <td>2756</td>\n",
       "      <td>5.74</td>\n",
       "      <td>5.73</td>\n",
       "      <td>3.43</td>\n",
       "    </tr>\n",
       "    <tr>\n",
       "      <th>53932</th>\n",
       "      <td>0.70</td>\n",
       "      <td>Very Good</td>\n",
       "      <td>E</td>\n",
       "      <td>VS2</td>\n",
       "      <td>60.5</td>\n",
       "      <td>59.0</td>\n",
       "      <td>2757</td>\n",
       "      <td>5.71</td>\n",
       "      <td>5.76</td>\n",
       "      <td>3.47</td>\n",
       "    </tr>\n",
       "    <tr>\n",
       "      <th>53933</th>\n",
       "      <td>0.70</td>\n",
       "      <td>Very Good</td>\n",
       "      <td>E</td>\n",
       "      <td>VS2</td>\n",
       "      <td>61.2</td>\n",
       "      <td>59.0</td>\n",
       "      <td>2757</td>\n",
       "      <td>5.69</td>\n",
       "      <td>5.72</td>\n",
       "      <td>3.49</td>\n",
       "    </tr>\n",
       "    <tr>\n",
       "      <th>53934</th>\n",
       "      <td>0.72</td>\n",
       "      <td>Premium</td>\n",
       "      <td>D</td>\n",
       "      <td>SI1</td>\n",
       "      <td>62.7</td>\n",
       "      <td>59.0</td>\n",
       "      <td>2757</td>\n",
       "      <td>5.69</td>\n",
       "      <td>5.73</td>\n",
       "      <td>3.58</td>\n",
       "    </tr>\n",
       "    <tr>\n",
       "      <th>53935</th>\n",
       "      <td>0.72</td>\n",
       "      <td>Ideal</td>\n",
       "      <td>D</td>\n",
       "      <td>SI1</td>\n",
       "      <td>60.8</td>\n",
       "      <td>57.0</td>\n",
       "      <td>2757</td>\n",
       "      <td>5.75</td>\n",
       "      <td>5.76</td>\n",
       "      <td>3.50</td>\n",
       "    </tr>\n",
       "    <tr>\n",
       "      <th>53936</th>\n",
       "      <td>0.72</td>\n",
       "      <td>Good</td>\n",
       "      <td>D</td>\n",
       "      <td>SI1</td>\n",
       "      <td>63.1</td>\n",
       "      <td>55.0</td>\n",
       "      <td>2757</td>\n",
       "      <td>5.69</td>\n",
       "      <td>5.75</td>\n",
       "      <td>3.61</td>\n",
       "    </tr>\n",
       "    <tr>\n",
       "      <th>53937</th>\n",
       "      <td>0.70</td>\n",
       "      <td>Very Good</td>\n",
       "      <td>D</td>\n",
       "      <td>SI1</td>\n",
       "      <td>62.8</td>\n",
       "      <td>60.0</td>\n",
       "      <td>2757</td>\n",
       "      <td>5.66</td>\n",
       "      <td>5.68</td>\n",
       "      <td>3.56</td>\n",
       "    </tr>\n",
       "    <tr>\n",
       "      <th>53938</th>\n",
       "      <td>0.86</td>\n",
       "      <td>Premium</td>\n",
       "      <td>H</td>\n",
       "      <td>SI2</td>\n",
       "      <td>61.0</td>\n",
       "      <td>58.0</td>\n",
       "      <td>2757</td>\n",
       "      <td>6.15</td>\n",
       "      <td>6.12</td>\n",
       "      <td>3.74</td>\n",
       "    </tr>\n",
       "    <tr>\n",
       "      <th>53939</th>\n",
       "      <td>0.75</td>\n",
       "      <td>Ideal</td>\n",
       "      <td>D</td>\n",
       "      <td>SI2</td>\n",
       "      <td>62.2</td>\n",
       "      <td>55.0</td>\n",
       "      <td>2757</td>\n",
       "      <td>5.83</td>\n",
       "      <td>5.87</td>\n",
       "      <td>3.64</td>\n",
       "    </tr>\n",
       "  </tbody>\n",
       "</table>\n",
       "</div>"
      ],
      "text/plain": [
       "       carat        cut color clarity  depth  table  price     x     y     z\n",
       "53931   0.71    Premium     F     SI1   59.8   62.0   2756  5.74  5.73  3.43\n",
       "53932   0.70  Very Good     E     VS2   60.5   59.0   2757  5.71  5.76  3.47\n",
       "53933   0.70  Very Good     E     VS2   61.2   59.0   2757  5.69  5.72  3.49\n",
       "53934   0.72    Premium     D     SI1   62.7   59.0   2757  5.69  5.73  3.58\n",
       "53935   0.72      Ideal     D     SI1   60.8   57.0   2757  5.75  5.76  3.50\n",
       "53936   0.72       Good     D     SI1   63.1   55.0   2757  5.69  5.75  3.61\n",
       "53937   0.70  Very Good     D     SI1   62.8   60.0   2757  5.66  5.68  3.56\n",
       "53938   0.86    Premium     H     SI2   61.0   58.0   2757  6.15  6.12  3.74\n",
       "53939   0.75      Ideal     D     SI2   62.2   55.0   2757  5.83  5.87  3.64"
      ]
     },
     "execution_count": 6,
     "metadata": {},
     "output_type": "execute_result"
    }
   ],
   "source": [
    "df.tail(9)"
   ]
  },
  {
   "cell_type": "markdown",
   "id": "b28c237e",
   "metadata": {},
   "source": [
    "#### Display random sample from the DataFrame"
   ]
  },
  {
   "cell_type": "code",
   "execution_count": 7,
   "id": "56364eef",
   "metadata": {},
   "outputs": [
    {
     "data": {
      "application/vnd.microsoft.datawrangler.viewer.v0+json": {
       "columns": [
        {
         "name": "index",
         "rawType": "int64",
         "type": "integer"
        },
        {
         "name": "carat",
         "rawType": "float64",
         "type": "float"
        },
        {
         "name": "cut",
         "rawType": "object",
         "type": "string"
        },
        {
         "name": "color",
         "rawType": "object",
         "type": "string"
        },
        {
         "name": "clarity",
         "rawType": "object",
         "type": "string"
        },
        {
         "name": "depth",
         "rawType": "float64",
         "type": "float"
        },
        {
         "name": "table",
         "rawType": "float64",
         "type": "float"
        },
        {
         "name": "price",
         "rawType": "int64",
         "type": "integer"
        },
        {
         "name": "x",
         "rawType": "float64",
         "type": "float"
        },
        {
         "name": "y",
         "rawType": "float64",
         "type": "float"
        },
        {
         "name": "z",
         "rawType": "float64",
         "type": "float"
        }
       ],
       "conversionMethod": "pd.DataFrame",
       "ref": "bbfda3ac-28fd-42cd-b48f-bfe374e81230",
       "rows": [
        [
         "20512",
         "1.41",
         "Very Good",
         "H",
         "VS2",
         "62.5",
         "58.0",
         "8846",
         "7.08",
         "7.12",
         "4.44"
        ]
       ],
       "shape": {
        "columns": 10,
        "rows": 1
       }
      },
      "text/html": [
       "<div>\n",
       "<style scoped>\n",
       "    .dataframe tbody tr th:only-of-type {\n",
       "        vertical-align: middle;\n",
       "    }\n",
       "\n",
       "    .dataframe tbody tr th {\n",
       "        vertical-align: top;\n",
       "    }\n",
       "\n",
       "    .dataframe thead th {\n",
       "        text-align: right;\n",
       "    }\n",
       "</style>\n",
       "<table border=\"1\" class=\"dataframe\">\n",
       "  <thead>\n",
       "    <tr style=\"text-align: right;\">\n",
       "      <th></th>\n",
       "      <th>carat</th>\n",
       "      <th>cut</th>\n",
       "      <th>color</th>\n",
       "      <th>clarity</th>\n",
       "      <th>depth</th>\n",
       "      <th>table</th>\n",
       "      <th>price</th>\n",
       "      <th>x</th>\n",
       "      <th>y</th>\n",
       "      <th>z</th>\n",
       "    </tr>\n",
       "  </thead>\n",
       "  <tbody>\n",
       "    <tr>\n",
       "      <th>20512</th>\n",
       "      <td>1.41</td>\n",
       "      <td>Very Good</td>\n",
       "      <td>H</td>\n",
       "      <td>VS2</td>\n",
       "      <td>62.5</td>\n",
       "      <td>58.0</td>\n",
       "      <td>8846</td>\n",
       "      <td>7.08</td>\n",
       "      <td>7.12</td>\n",
       "      <td>4.44</td>\n",
       "    </tr>\n",
       "  </tbody>\n",
       "</table>\n",
       "</div>"
      ],
      "text/plain": [
       "       carat        cut color clarity  depth  table  price     x     y     z\n",
       "20512   1.41  Very Good     H     VS2   62.5   58.0   8846  7.08  7.12  4.44"
      ]
     },
     "execution_count": 7,
     "metadata": {},
     "output_type": "execute_result"
    }
   ],
   "source": [
    "# Add your code here\n",
    "df.sample()\n",
    "\n"
   ]
  },
  {
   "cell_type": "markdown",
   "id": "8eb3c6b5",
   "metadata": {},
   "source": [
    "#### Display a summary of the dataset, a summary statistics and number of rows and columns"
   ]
  },
  {
   "cell_type": "code",
   "execution_count": 8,
   "id": "9eb1df6d",
   "metadata": {},
   "outputs": [
    {
     "data": {
      "application/vnd.microsoft.datawrangler.viewer.v0+json": {
       "columns": [
        {
         "name": "index",
         "rawType": "object",
         "type": "string"
        },
        {
         "name": "carat",
         "rawType": "float64",
         "type": "float"
        },
        {
         "name": "depth",
         "rawType": "float64",
         "type": "float"
        },
        {
         "name": "table",
         "rawType": "float64",
         "type": "float"
        },
        {
         "name": "price",
         "rawType": "float64",
         "type": "float"
        },
        {
         "name": "x",
         "rawType": "float64",
         "type": "float"
        },
        {
         "name": "y",
         "rawType": "float64",
         "type": "float"
        },
        {
         "name": "z",
         "rawType": "float64",
         "type": "float"
        }
       ],
       "conversionMethod": "pd.DataFrame",
       "ref": "0a9a91b5-86fa-42c7-bde1-4e0f9e30b4fb",
       "rows": [
        [
         "count",
         "53940.0",
         "53940.0",
         "53940.0",
         "53940.0",
         "53940.0",
         "53940.0",
         "53940.0"
        ],
        [
         "mean",
         "0.7979397478680014",
         "61.749404894327036",
         "57.45718390804598",
         "3932.799721913237",
         "5.731157211716722",
         "5.734525954764553",
         "3.5387337782721544"
        ],
        [
         "std",
         "0.4740112444054184",
         "1.432621318833661",
         "2.2344905628213225",
         "3989.439738146379",
         "1.1217607467924928",
         "1.1421346741235552",
         "0.7056988469499941"
        ],
        [
         "min",
         "0.2",
         "43.0",
         "43.0",
         "326.0",
         "0.0",
         "0.0",
         "0.0"
        ],
        [
         "25%",
         "0.4",
         "61.0",
         "56.0",
         "950.0",
         "4.71",
         "4.72",
         "2.91"
        ],
        [
         "50%",
         "0.7",
         "61.8",
         "57.0",
         "2401.0",
         "5.7",
         "5.71",
         "3.53"
        ],
        [
         "75%",
         "1.04",
         "62.5",
         "59.0",
         "5324.25",
         "6.54",
         "6.54",
         "4.04"
        ],
        [
         "max",
         "5.01",
         "79.0",
         "95.0",
         "18823.0",
         "10.74",
         "58.9",
         "31.8"
        ]
       ],
       "shape": {
        "columns": 7,
        "rows": 8
       }
      },
      "text/html": [
       "<div>\n",
       "<style scoped>\n",
       "    .dataframe tbody tr th:only-of-type {\n",
       "        vertical-align: middle;\n",
       "    }\n",
       "\n",
       "    .dataframe tbody tr th {\n",
       "        vertical-align: top;\n",
       "    }\n",
       "\n",
       "    .dataframe thead th {\n",
       "        text-align: right;\n",
       "    }\n",
       "</style>\n",
       "<table border=\"1\" class=\"dataframe\">\n",
       "  <thead>\n",
       "    <tr style=\"text-align: right;\">\n",
       "      <th></th>\n",
       "      <th>carat</th>\n",
       "      <th>depth</th>\n",
       "      <th>table</th>\n",
       "      <th>price</th>\n",
       "      <th>x</th>\n",
       "      <th>y</th>\n",
       "      <th>z</th>\n",
       "    </tr>\n",
       "  </thead>\n",
       "  <tbody>\n",
       "    <tr>\n",
       "      <th>count</th>\n",
       "      <td>53940.000000</td>\n",
       "      <td>53940.000000</td>\n",
       "      <td>53940.000000</td>\n",
       "      <td>53940.000000</td>\n",
       "      <td>53940.000000</td>\n",
       "      <td>53940.000000</td>\n",
       "      <td>53940.000000</td>\n",
       "    </tr>\n",
       "    <tr>\n",
       "      <th>mean</th>\n",
       "      <td>0.797940</td>\n",
       "      <td>61.749405</td>\n",
       "      <td>57.457184</td>\n",
       "      <td>3932.799722</td>\n",
       "      <td>5.731157</td>\n",
       "      <td>5.734526</td>\n",
       "      <td>3.538734</td>\n",
       "    </tr>\n",
       "    <tr>\n",
       "      <th>std</th>\n",
       "      <td>0.474011</td>\n",
       "      <td>1.432621</td>\n",
       "      <td>2.234491</td>\n",
       "      <td>3989.439738</td>\n",
       "      <td>1.121761</td>\n",
       "      <td>1.142135</td>\n",
       "      <td>0.705699</td>\n",
       "    </tr>\n",
       "    <tr>\n",
       "      <th>min</th>\n",
       "      <td>0.200000</td>\n",
       "      <td>43.000000</td>\n",
       "      <td>43.000000</td>\n",
       "      <td>326.000000</td>\n",
       "      <td>0.000000</td>\n",
       "      <td>0.000000</td>\n",
       "      <td>0.000000</td>\n",
       "    </tr>\n",
       "    <tr>\n",
       "      <th>25%</th>\n",
       "      <td>0.400000</td>\n",
       "      <td>61.000000</td>\n",
       "      <td>56.000000</td>\n",
       "      <td>950.000000</td>\n",
       "      <td>4.710000</td>\n",
       "      <td>4.720000</td>\n",
       "      <td>2.910000</td>\n",
       "    </tr>\n",
       "    <tr>\n",
       "      <th>50%</th>\n",
       "      <td>0.700000</td>\n",
       "      <td>61.800000</td>\n",
       "      <td>57.000000</td>\n",
       "      <td>2401.000000</td>\n",
       "      <td>5.700000</td>\n",
       "      <td>5.710000</td>\n",
       "      <td>3.530000</td>\n",
       "    </tr>\n",
       "    <tr>\n",
       "      <th>75%</th>\n",
       "      <td>1.040000</td>\n",
       "      <td>62.500000</td>\n",
       "      <td>59.000000</td>\n",
       "      <td>5324.250000</td>\n",
       "      <td>6.540000</td>\n",
       "      <td>6.540000</td>\n",
       "      <td>4.040000</td>\n",
       "    </tr>\n",
       "    <tr>\n",
       "      <th>max</th>\n",
       "      <td>5.010000</td>\n",
       "      <td>79.000000</td>\n",
       "      <td>95.000000</td>\n",
       "      <td>18823.000000</td>\n",
       "      <td>10.740000</td>\n",
       "      <td>58.900000</td>\n",
       "      <td>31.800000</td>\n",
       "    </tr>\n",
       "  </tbody>\n",
       "</table>\n",
       "</div>"
      ],
      "text/plain": [
       "              carat         depth         table         price             x  \\\n",
       "count  53940.000000  53940.000000  53940.000000  53940.000000  53940.000000   \n",
       "mean       0.797940     61.749405     57.457184   3932.799722      5.731157   \n",
       "std        0.474011      1.432621      2.234491   3989.439738      1.121761   \n",
       "min        0.200000     43.000000     43.000000    326.000000      0.000000   \n",
       "25%        0.400000     61.000000     56.000000    950.000000      4.710000   \n",
       "50%        0.700000     61.800000     57.000000   2401.000000      5.700000   \n",
       "75%        1.040000     62.500000     59.000000   5324.250000      6.540000   \n",
       "max        5.010000     79.000000     95.000000  18823.000000     10.740000   \n",
       "\n",
       "                  y             z  \n",
       "count  53940.000000  53940.000000  \n",
       "mean       5.734526      3.538734  \n",
       "std        1.142135      0.705699  \n",
       "min        0.000000      0.000000  \n",
       "25%        4.720000      2.910000  \n",
       "50%        5.710000      3.530000  \n",
       "75%        6.540000      4.040000  \n",
       "max       58.900000     31.800000  "
      ]
     },
     "execution_count": 8,
     "metadata": {},
     "output_type": "execute_result"
    }
   ],
   "source": [
    "# Add your code here\n",
    "df.describe()\n"
   ]
  },
  {
   "cell_type": "code",
   "execution_count": 9,
   "id": "f5f92951",
   "metadata": {},
   "outputs": [
    {
     "name": "stdout",
     "output_type": "stream",
     "text": [
      "<class 'pandas.core.frame.DataFrame'>\n",
      "RangeIndex: 53940 entries, 0 to 53939\n",
      "Data columns (total 10 columns):\n",
      " #   Column   Non-Null Count  Dtype  \n",
      "---  ------   --------------  -----  \n",
      " 0   carat    53940 non-null  float64\n",
      " 1   cut      53940 non-null  object \n",
      " 2   color    53940 non-null  object \n",
      " 3   clarity  53940 non-null  object \n",
      " 4   depth    53940 non-null  float64\n",
      " 5   table    53940 non-null  float64\n",
      " 6   price    53940 non-null  int64  \n",
      " 7   x        53940 non-null  float64\n",
      " 8   y        53940 non-null  float64\n",
      " 9   z        53940 non-null  float64\n",
      "dtypes: float64(6), int64(1), object(3)\n",
      "memory usage: 4.1+ MB\n"
     ]
    }
   ],
   "source": [
    "df.info()"
   ]
  },
  {
   "cell_type": "markdown",
   "id": "3f71c0c4",
   "metadata": {},
   "source": [
    "#### Extract the `price` columns as a **Series**"
   ]
  },
  {
   "cell_type": "code",
   "execution_count": 13,
   "id": "302eb6d4",
   "metadata": {},
   "outputs": [
    {
     "data": {
      "text/plain": [
       "0         326\n",
       "1         326\n",
       "2         327\n",
       "3         334\n",
       "4         335\n",
       "         ... \n",
       "53935    2757\n",
       "53936    2757\n",
       "53937    2757\n",
       "53938    2757\n",
       "53939    2757\n",
       "Name: price, Length: 53940, dtype: int64"
      ]
     },
     "execution_count": 13,
     "metadata": {},
     "output_type": "execute_result"
    }
   ],
   "source": [
    "# Add your code here\n",
    "df.price\n"
   ]
  },
  {
   "cell_type": "markdown",
   "id": "92425a73",
   "metadata": {},
   "source": [
    "#### Create a new DataFrame with only `carat`, `cut`, and `price` columns"
   ]
  },
  {
   "cell_type": "code",
   "execution_count": 16,
   "id": "46cb47a3",
   "metadata": {},
   "outputs": [
    {
     "data": {
      "application/vnd.microsoft.datawrangler.viewer.v0+json": {
       "columns": [
        {
         "name": "index",
         "rawType": "int64",
         "type": "integer"
        },
        {
         "name": "carat",
         "rawType": "float64",
         "type": "float"
        },
        {
         "name": "cut",
         "rawType": "object",
         "type": "string"
        },
        {
         "name": "price",
         "rawType": "int64",
         "type": "integer"
        }
       ],
       "conversionMethod": "pd.DataFrame",
       "ref": "322eed46-42b0-4fd0-bb68-ac04a6d4ad22",
       "rows": [
        [
         "0",
         "0.23",
         "Ideal",
         "326"
        ],
        [
         "1",
         "0.21",
         "Premium",
         "326"
        ],
        [
         "2",
         "0.23",
         "Good",
         "327"
        ],
        [
         "3",
         "0.29",
         "Premium",
         "334"
        ],
        [
         "4",
         "0.31",
         "Good",
         "335"
        ],
        [
         "5",
         "0.24",
         "Very Good",
         "336"
        ],
        [
         "6",
         "0.24",
         "Very Good",
         "336"
        ],
        [
         "7",
         "0.26",
         "Very Good",
         "337"
        ],
        [
         "8",
         "0.22",
         "Fair",
         "337"
        ],
        [
         "9",
         "0.23",
         "Very Good",
         "338"
        ],
        [
         "10",
         "0.3",
         "Good",
         "339"
        ],
        [
         "11",
         "0.23",
         "Ideal",
         "340"
        ],
        [
         "12",
         "0.22",
         "Premium",
         "342"
        ],
        [
         "13",
         "0.31",
         "Ideal",
         "344"
        ],
        [
         "14",
         "0.2",
         "Premium",
         "345"
        ],
        [
         "15",
         "0.32",
         "Premium",
         "345"
        ],
        [
         "16",
         "0.3",
         "Ideal",
         "348"
        ],
        [
         "17",
         "0.3",
         "Good",
         "351"
        ],
        [
         "18",
         "0.3",
         "Good",
         "351"
        ],
        [
         "19",
         "0.3",
         "Very Good",
         "351"
        ],
        [
         "20",
         "0.3",
         "Good",
         "351"
        ],
        [
         "21",
         "0.23",
         "Very Good",
         "352"
        ],
        [
         "22",
         "0.23",
         "Very Good",
         "353"
        ],
        [
         "23",
         "0.31",
         "Very Good",
         "353"
        ],
        [
         "24",
         "0.31",
         "Very Good",
         "353"
        ],
        [
         "25",
         "0.23",
         "Very Good",
         "354"
        ],
        [
         "26",
         "0.24",
         "Premium",
         "355"
        ],
        [
         "27",
         "0.3",
         "Very Good",
         "357"
        ],
        [
         "28",
         "0.23",
         "Very Good",
         "357"
        ],
        [
         "29",
         "0.23",
         "Very Good",
         "357"
        ],
        [
         "30",
         "0.23",
         "Very Good",
         "402"
        ],
        [
         "31",
         "0.23",
         "Very Good",
         "402"
        ],
        [
         "32",
         "0.23",
         "Very Good",
         "402"
        ],
        [
         "33",
         "0.23",
         "Very Good",
         "402"
        ],
        [
         "34",
         "0.23",
         "Very Good",
         "402"
        ],
        [
         "35",
         "0.23",
         "Good",
         "402"
        ],
        [
         "36",
         "0.23",
         "Good",
         "402"
        ],
        [
         "37",
         "0.31",
         "Good",
         "402"
        ],
        [
         "38",
         "0.26",
         "Very Good",
         "403"
        ],
        [
         "39",
         "0.33",
         "Ideal",
         "403"
        ],
        [
         "40",
         "0.33",
         "Ideal",
         "403"
        ],
        [
         "41",
         "0.33",
         "Ideal",
         "403"
        ],
        [
         "42",
         "0.26",
         "Good",
         "403"
        ],
        [
         "43",
         "0.26",
         "Good",
         "403"
        ],
        [
         "44",
         "0.32",
         "Good",
         "403"
        ],
        [
         "45",
         "0.29",
         "Premium",
         "403"
        ],
        [
         "46",
         "0.32",
         "Very Good",
         "403"
        ],
        [
         "47",
         "0.32",
         "Good",
         "403"
        ],
        [
         "48",
         "0.25",
         "Very Good",
         "404"
        ],
        [
         "49",
         "0.29",
         "Very Good",
         "404"
        ]
       ],
       "shape": {
        "columns": 3,
        "rows": 53940
       }
      },
      "text/html": [
       "<div>\n",
       "<style scoped>\n",
       "    .dataframe tbody tr th:only-of-type {\n",
       "        vertical-align: middle;\n",
       "    }\n",
       "\n",
       "    .dataframe tbody tr th {\n",
       "        vertical-align: top;\n",
       "    }\n",
       "\n",
       "    .dataframe thead th {\n",
       "        text-align: right;\n",
       "    }\n",
       "</style>\n",
       "<table border=\"1\" class=\"dataframe\">\n",
       "  <thead>\n",
       "    <tr style=\"text-align: right;\">\n",
       "      <th></th>\n",
       "      <th>carat</th>\n",
       "      <th>cut</th>\n",
       "      <th>price</th>\n",
       "    </tr>\n",
       "  </thead>\n",
       "  <tbody>\n",
       "    <tr>\n",
       "      <th>0</th>\n",
       "      <td>0.23</td>\n",
       "      <td>Ideal</td>\n",
       "      <td>326</td>\n",
       "    </tr>\n",
       "    <tr>\n",
       "      <th>1</th>\n",
       "      <td>0.21</td>\n",
       "      <td>Premium</td>\n",
       "      <td>326</td>\n",
       "    </tr>\n",
       "    <tr>\n",
       "      <th>2</th>\n",
       "      <td>0.23</td>\n",
       "      <td>Good</td>\n",
       "      <td>327</td>\n",
       "    </tr>\n",
       "    <tr>\n",
       "      <th>3</th>\n",
       "      <td>0.29</td>\n",
       "      <td>Premium</td>\n",
       "      <td>334</td>\n",
       "    </tr>\n",
       "    <tr>\n",
       "      <th>4</th>\n",
       "      <td>0.31</td>\n",
       "      <td>Good</td>\n",
       "      <td>335</td>\n",
       "    </tr>\n",
       "    <tr>\n",
       "      <th>...</th>\n",
       "      <td>...</td>\n",
       "      <td>...</td>\n",
       "      <td>...</td>\n",
       "    </tr>\n",
       "    <tr>\n",
       "      <th>53935</th>\n",
       "      <td>0.72</td>\n",
       "      <td>Ideal</td>\n",
       "      <td>2757</td>\n",
       "    </tr>\n",
       "    <tr>\n",
       "      <th>53936</th>\n",
       "      <td>0.72</td>\n",
       "      <td>Good</td>\n",
       "      <td>2757</td>\n",
       "    </tr>\n",
       "    <tr>\n",
       "      <th>53937</th>\n",
       "      <td>0.70</td>\n",
       "      <td>Very Good</td>\n",
       "      <td>2757</td>\n",
       "    </tr>\n",
       "    <tr>\n",
       "      <th>53938</th>\n",
       "      <td>0.86</td>\n",
       "      <td>Premium</td>\n",
       "      <td>2757</td>\n",
       "    </tr>\n",
       "    <tr>\n",
       "      <th>53939</th>\n",
       "      <td>0.75</td>\n",
       "      <td>Ideal</td>\n",
       "      <td>2757</td>\n",
       "    </tr>\n",
       "  </tbody>\n",
       "</table>\n",
       "<p>53940 rows × 3 columns</p>\n",
       "</div>"
      ],
      "text/plain": [
       "       carat        cut  price\n",
       "0       0.23      Ideal    326\n",
       "1       0.21    Premium    326\n",
       "2       0.23       Good    327\n",
       "3       0.29    Premium    334\n",
       "4       0.31       Good    335\n",
       "...      ...        ...    ...\n",
       "53935   0.72      Ideal   2757\n",
       "53936   0.72       Good   2757\n",
       "53937   0.70  Very Good   2757\n",
       "53938   0.86    Premium   2757\n",
       "53939   0.75      Ideal   2757\n",
       "\n",
       "[53940 rows x 3 columns]"
      ]
     },
     "execution_count": 16,
     "metadata": {},
     "output_type": "execute_result"
    }
   ],
   "source": [
    "# Add your code here\n",
    "new_df = df[['carat', 'cut', 'price']]\n",
    "new_df\n"
   ]
  },
  {
   "cell_type": "markdown",
   "id": "1dc9c1b9",
   "metadata": {},
   "source": [
    "#### Check each column data type and the DataFrame index"
   ]
  },
  {
   "cell_type": "code",
   "execution_count": 18,
   "id": "d1c0c624",
   "metadata": {},
   "outputs": [
    {
     "data": {
      "text/plain": [
       "carat      float64\n",
       "cut         object\n",
       "color       object\n",
       "clarity     object\n",
       "depth      float64\n",
       "table      float64\n",
       "price        int64\n",
       "x          float64\n",
       "y          float64\n",
       "z          float64\n",
       "dtype: object"
      ]
     },
     "execution_count": 18,
     "metadata": {},
     "output_type": "execute_result"
    }
   ],
   "source": [
    "# Add your code here\n",
    "df.dtypes\n"
   ]
  },
  {
   "cell_type": "code",
   "execution_count": 19,
   "id": "1c069510",
   "metadata": {},
   "outputs": [
    {
     "data": {
      "text/plain": [
       "RangeIndex(start=0, stop=53940, step=1)"
      ]
     },
     "execution_count": 19,
     "metadata": {},
     "output_type": "execute_result"
    }
   ],
   "source": [
    "df.index"
   ]
  },
  {
   "cell_type": "markdown",
   "id": "edae6e88",
   "metadata": {},
   "source": [
    "#### Use `iloc` to select the first 4 rows and the first 3 columns"
   ]
  },
  {
   "cell_type": "code",
   "execution_count": 21,
   "id": "5b9c3f30",
   "metadata": {},
   "outputs": [
    {
     "data": {
      "application/vnd.microsoft.datawrangler.viewer.v0+json": {
       "columns": [
        {
         "name": "index",
         "rawType": "int64",
         "type": "integer"
        },
        {
         "name": "carat",
         "rawType": "float64",
         "type": "float"
        },
        {
         "name": "cut",
         "rawType": "object",
         "type": "string"
        },
        {
         "name": "color",
         "rawType": "object",
         "type": "string"
        }
       ],
       "conversionMethod": "pd.DataFrame",
       "ref": "0026b83f-c1e6-4888-ac54-6ae35de0f5a4",
       "rows": [
        [
         "0",
         "0.23",
         "Ideal",
         "E"
        ],
        [
         "1",
         "0.21",
         "Premium",
         "E"
        ],
        [
         "2",
         "0.23",
         "Good",
         "E"
        ],
        [
         "3",
         "0.29",
         "Premium",
         "I"
        ]
       ],
       "shape": {
        "columns": 3,
        "rows": 4
       }
      },
      "text/html": [
       "<div>\n",
       "<style scoped>\n",
       "    .dataframe tbody tr th:only-of-type {\n",
       "        vertical-align: middle;\n",
       "    }\n",
       "\n",
       "    .dataframe tbody tr th {\n",
       "        vertical-align: top;\n",
       "    }\n",
       "\n",
       "    .dataframe thead th {\n",
       "        text-align: right;\n",
       "    }\n",
       "</style>\n",
       "<table border=\"1\" class=\"dataframe\">\n",
       "  <thead>\n",
       "    <tr style=\"text-align: right;\">\n",
       "      <th></th>\n",
       "      <th>carat</th>\n",
       "      <th>cut</th>\n",
       "      <th>color</th>\n",
       "    </tr>\n",
       "  </thead>\n",
       "  <tbody>\n",
       "    <tr>\n",
       "      <th>0</th>\n",
       "      <td>0.23</td>\n",
       "      <td>Ideal</td>\n",
       "      <td>E</td>\n",
       "    </tr>\n",
       "    <tr>\n",
       "      <th>1</th>\n",
       "      <td>0.21</td>\n",
       "      <td>Premium</td>\n",
       "      <td>E</td>\n",
       "    </tr>\n",
       "    <tr>\n",
       "      <th>2</th>\n",
       "      <td>0.23</td>\n",
       "      <td>Good</td>\n",
       "      <td>E</td>\n",
       "    </tr>\n",
       "    <tr>\n",
       "      <th>3</th>\n",
       "      <td>0.29</td>\n",
       "      <td>Premium</td>\n",
       "      <td>I</td>\n",
       "    </tr>\n",
       "  </tbody>\n",
       "</table>\n",
       "</div>"
      ],
      "text/plain": [
       "   carat      cut color\n",
       "0   0.23    Ideal     E\n",
       "1   0.21  Premium     E\n",
       "2   0.23     Good     E\n",
       "3   0.29  Premium     I"
      ]
     },
     "execution_count": 21,
     "metadata": {},
     "output_type": "execute_result"
    }
   ],
   "source": [
    "# Add your code here\n",
    "df.iloc[0:4,0:3]"
   ]
  },
  {
   "cell_type": "markdown",
   "id": "d623bc28",
   "metadata": {},
   "source": [
    "#### Use `loc` to select the rows where `carat` is greater than 0.3 and display the `carat`, `cut`, and `price` columns"
   ]
  },
  {
   "cell_type": "code",
   "execution_count": 25,
   "id": "daa51128",
   "metadata": {},
   "outputs": [
    {
     "data": {
      "application/vnd.microsoft.datawrangler.viewer.v0+json": {
       "columns": [
        {
         "name": "index",
         "rawType": "int64",
         "type": "integer"
        },
        {
         "name": "carat",
         "rawType": "float64",
         "type": "float"
        },
        {
         "name": "cut",
         "rawType": "object",
         "type": "string"
        },
        {
         "name": "price",
         "rawType": "int64",
         "type": "integer"
        }
       ],
       "conversionMethod": "pd.DataFrame",
       "ref": "aa68a316-44d1-44b6-bc15-4329adcf0b9d",
       "rows": [
        [
         "19339",
         "3.01",
         "Premium",
         "8040"
        ],
        [
         "21758",
         "3.11",
         "Fair",
         "9823"
        ],
        [
         "21862",
         "3.01",
         "Premium",
         "9925"
        ],
        [
         "22428",
         "3.05",
         "Premium",
         "10453"
        ],
        [
         "22540",
         "3.02",
         "Fair",
         "10577"
        ],
        [
         "22741",
         "3.01",
         "Fair",
         "10761"
        ],
        [
         "23644",
         "3.65",
         "Fair",
         "11668"
        ],
        [
         "24131",
         "3.24",
         "Premium",
         "12300"
        ],
        [
         "24297",
         "3.22",
         "Ideal",
         "12545"
        ],
        [
         "24328",
         "3.5",
         "Ideal",
         "12587"
        ],
        [
         "25460",
         "3.01",
         "Premium",
         "14220"
        ],
        [
         "25998",
         "4.01",
         "Premium",
         "15223"
        ],
        [
         "25999",
         "4.01",
         "Premium",
         "15223"
        ],
        [
         "26100",
         "3.04",
         "Very Good",
         "15354"
        ],
        [
         "26431",
         "3.4",
         "Fair",
         "15964"
        ],
        [
         "26444",
         "4.0",
         "Very Good",
         "15984"
        ],
        [
         "26467",
         "3.01",
         "Ideal",
         "16037"
        ],
        [
         "26534",
         "3.67",
         "Premium",
         "16193"
        ],
        [
         "26744",
         "3.01",
         "Ideal",
         "16538"
        ],
        [
         "27130",
         "4.13",
         "Fair",
         "17329"
        ],
        [
         "27415",
         "5.01",
         "Fair",
         "18018"
        ],
        [
         "27514",
         "3.01",
         "Premium",
         "18242"
        ],
        [
         "27515",
         "3.01",
         "Fair",
         "18242"
        ],
        [
         "27516",
         "3.01",
         "Fair",
         "18242"
        ],
        [
         "27517",
         "3.01",
         "Good",
         "18242"
        ],
        [
         "27518",
         "3.01",
         "Good",
         "18242"
        ],
        [
         "27630",
         "4.5",
         "Fair",
         "18531"
        ],
        [
         "27638",
         "3.04",
         "Premium",
         "18559"
        ],
        [
         "27649",
         "3.01",
         "Good",
         "18593"
        ],
        [
         "27679",
         "3.51",
         "Premium",
         "18701"
        ],
        [
         "27684",
         "3.01",
         "Premium",
         "18710"
        ],
        [
         "27685",
         "3.01",
         "Premium",
         "18710"
        ]
       ],
       "shape": {
        "columns": 3,
        "rows": 32
       }
      },
      "text/html": [
       "<div>\n",
       "<style scoped>\n",
       "    .dataframe tbody tr th:only-of-type {\n",
       "        vertical-align: middle;\n",
       "    }\n",
       "\n",
       "    .dataframe tbody tr th {\n",
       "        vertical-align: top;\n",
       "    }\n",
       "\n",
       "    .dataframe thead th {\n",
       "        text-align: right;\n",
       "    }\n",
       "</style>\n",
       "<table border=\"1\" class=\"dataframe\">\n",
       "  <thead>\n",
       "    <tr style=\"text-align: right;\">\n",
       "      <th></th>\n",
       "      <th>carat</th>\n",
       "      <th>cut</th>\n",
       "      <th>price</th>\n",
       "    </tr>\n",
       "  </thead>\n",
       "  <tbody>\n",
       "    <tr>\n",
       "      <th>19339</th>\n",
       "      <td>3.01</td>\n",
       "      <td>Premium</td>\n",
       "      <td>8040</td>\n",
       "    </tr>\n",
       "    <tr>\n",
       "      <th>21758</th>\n",
       "      <td>3.11</td>\n",
       "      <td>Fair</td>\n",
       "      <td>9823</td>\n",
       "    </tr>\n",
       "    <tr>\n",
       "      <th>21862</th>\n",
       "      <td>3.01</td>\n",
       "      <td>Premium</td>\n",
       "      <td>9925</td>\n",
       "    </tr>\n",
       "    <tr>\n",
       "      <th>22428</th>\n",
       "      <td>3.05</td>\n",
       "      <td>Premium</td>\n",
       "      <td>10453</td>\n",
       "    </tr>\n",
       "    <tr>\n",
       "      <th>22540</th>\n",
       "      <td>3.02</td>\n",
       "      <td>Fair</td>\n",
       "      <td>10577</td>\n",
       "    </tr>\n",
       "    <tr>\n",
       "      <th>22741</th>\n",
       "      <td>3.01</td>\n",
       "      <td>Fair</td>\n",
       "      <td>10761</td>\n",
       "    </tr>\n",
       "    <tr>\n",
       "      <th>23644</th>\n",
       "      <td>3.65</td>\n",
       "      <td>Fair</td>\n",
       "      <td>11668</td>\n",
       "    </tr>\n",
       "    <tr>\n",
       "      <th>24131</th>\n",
       "      <td>3.24</td>\n",
       "      <td>Premium</td>\n",
       "      <td>12300</td>\n",
       "    </tr>\n",
       "    <tr>\n",
       "      <th>24297</th>\n",
       "      <td>3.22</td>\n",
       "      <td>Ideal</td>\n",
       "      <td>12545</td>\n",
       "    </tr>\n",
       "    <tr>\n",
       "      <th>24328</th>\n",
       "      <td>3.50</td>\n",
       "      <td>Ideal</td>\n",
       "      <td>12587</td>\n",
       "    </tr>\n",
       "    <tr>\n",
       "      <th>25460</th>\n",
       "      <td>3.01</td>\n",
       "      <td>Premium</td>\n",
       "      <td>14220</td>\n",
       "    </tr>\n",
       "    <tr>\n",
       "      <th>25998</th>\n",
       "      <td>4.01</td>\n",
       "      <td>Premium</td>\n",
       "      <td>15223</td>\n",
       "    </tr>\n",
       "    <tr>\n",
       "      <th>25999</th>\n",
       "      <td>4.01</td>\n",
       "      <td>Premium</td>\n",
       "      <td>15223</td>\n",
       "    </tr>\n",
       "    <tr>\n",
       "      <th>26100</th>\n",
       "      <td>3.04</td>\n",
       "      <td>Very Good</td>\n",
       "      <td>15354</td>\n",
       "    </tr>\n",
       "    <tr>\n",
       "      <th>26431</th>\n",
       "      <td>3.40</td>\n",
       "      <td>Fair</td>\n",
       "      <td>15964</td>\n",
       "    </tr>\n",
       "    <tr>\n",
       "      <th>26444</th>\n",
       "      <td>4.00</td>\n",
       "      <td>Very Good</td>\n",
       "      <td>15984</td>\n",
       "    </tr>\n",
       "    <tr>\n",
       "      <th>26467</th>\n",
       "      <td>3.01</td>\n",
       "      <td>Ideal</td>\n",
       "      <td>16037</td>\n",
       "    </tr>\n",
       "    <tr>\n",
       "      <th>26534</th>\n",
       "      <td>3.67</td>\n",
       "      <td>Premium</td>\n",
       "      <td>16193</td>\n",
       "    </tr>\n",
       "    <tr>\n",
       "      <th>26744</th>\n",
       "      <td>3.01</td>\n",
       "      <td>Ideal</td>\n",
       "      <td>16538</td>\n",
       "    </tr>\n",
       "    <tr>\n",
       "      <th>27130</th>\n",
       "      <td>4.13</td>\n",
       "      <td>Fair</td>\n",
       "      <td>17329</td>\n",
       "    </tr>\n",
       "    <tr>\n",
       "      <th>27415</th>\n",
       "      <td>5.01</td>\n",
       "      <td>Fair</td>\n",
       "      <td>18018</td>\n",
       "    </tr>\n",
       "    <tr>\n",
       "      <th>27514</th>\n",
       "      <td>3.01</td>\n",
       "      <td>Premium</td>\n",
       "      <td>18242</td>\n",
       "    </tr>\n",
       "    <tr>\n",
       "      <th>27515</th>\n",
       "      <td>3.01</td>\n",
       "      <td>Fair</td>\n",
       "      <td>18242</td>\n",
       "    </tr>\n",
       "    <tr>\n",
       "      <th>27516</th>\n",
       "      <td>3.01</td>\n",
       "      <td>Fair</td>\n",
       "      <td>18242</td>\n",
       "    </tr>\n",
       "    <tr>\n",
       "      <th>27517</th>\n",
       "      <td>3.01</td>\n",
       "      <td>Good</td>\n",
       "      <td>18242</td>\n",
       "    </tr>\n",
       "    <tr>\n",
       "      <th>27518</th>\n",
       "      <td>3.01</td>\n",
       "      <td>Good</td>\n",
       "      <td>18242</td>\n",
       "    </tr>\n",
       "    <tr>\n",
       "      <th>27630</th>\n",
       "      <td>4.50</td>\n",
       "      <td>Fair</td>\n",
       "      <td>18531</td>\n",
       "    </tr>\n",
       "    <tr>\n",
       "      <th>27638</th>\n",
       "      <td>3.04</td>\n",
       "      <td>Premium</td>\n",
       "      <td>18559</td>\n",
       "    </tr>\n",
       "    <tr>\n",
       "      <th>27649</th>\n",
       "      <td>3.01</td>\n",
       "      <td>Good</td>\n",
       "      <td>18593</td>\n",
       "    </tr>\n",
       "    <tr>\n",
       "      <th>27679</th>\n",
       "      <td>3.51</td>\n",
       "      <td>Premium</td>\n",
       "      <td>18701</td>\n",
       "    </tr>\n",
       "    <tr>\n",
       "      <th>27684</th>\n",
       "      <td>3.01</td>\n",
       "      <td>Premium</td>\n",
       "      <td>18710</td>\n",
       "    </tr>\n",
       "    <tr>\n",
       "      <th>27685</th>\n",
       "      <td>3.01</td>\n",
       "      <td>Premium</td>\n",
       "      <td>18710</td>\n",
       "    </tr>\n",
       "  </tbody>\n",
       "</table>\n",
       "</div>"
      ],
      "text/plain": [
       "       carat        cut  price\n",
       "19339   3.01    Premium   8040\n",
       "21758   3.11       Fair   9823\n",
       "21862   3.01    Premium   9925\n",
       "22428   3.05    Premium  10453\n",
       "22540   3.02       Fair  10577\n",
       "22741   3.01       Fair  10761\n",
       "23644   3.65       Fair  11668\n",
       "24131   3.24    Premium  12300\n",
       "24297   3.22      Ideal  12545\n",
       "24328   3.50      Ideal  12587\n",
       "25460   3.01    Premium  14220\n",
       "25998   4.01    Premium  15223\n",
       "25999   4.01    Premium  15223\n",
       "26100   3.04  Very Good  15354\n",
       "26431   3.40       Fair  15964\n",
       "26444   4.00  Very Good  15984\n",
       "26467   3.01      Ideal  16037\n",
       "26534   3.67    Premium  16193\n",
       "26744   3.01      Ideal  16538\n",
       "27130   4.13       Fair  17329\n",
       "27415   5.01       Fair  18018\n",
       "27514   3.01    Premium  18242\n",
       "27515   3.01       Fair  18242\n",
       "27516   3.01       Fair  18242\n",
       "27517   3.01       Good  18242\n",
       "27518   3.01       Good  18242\n",
       "27630   4.50       Fair  18531\n",
       "27638   3.04    Premium  18559\n",
       "27649   3.01       Good  18593\n",
       "27679   3.51    Premium  18701\n",
       "27684   3.01    Premium  18710\n",
       "27685   3.01    Premium  18710"
      ]
     },
     "execution_count": 25,
     "metadata": {},
     "output_type": "execute_result"
    }
   ],
   "source": [
    "# Add your code here\n",
    "df.loc[df['carat']>3, ['carat','cut','price'] ]"
   ]
  },
  {
   "cell_type": "markdown",
   "id": "6e0b65af",
   "metadata": {},
   "source": [
    "#### Create a copy of the DataFrame and add a new column `expensive` which is `True` if price is greater than 1000, otherwise `False`"
   ]
  },
  {
   "cell_type": "code",
   "execution_count": 26,
   "id": "e583ddcb",
   "metadata": {},
   "outputs": [
    {
     "data": {
      "application/vnd.microsoft.datawrangler.viewer.v0+json": {
       "columns": [
        {
         "name": "index",
         "rawType": "int64",
         "type": "integer"
        },
        {
         "name": "carat",
         "rawType": "float64",
         "type": "float"
        },
        {
         "name": "cut",
         "rawType": "object",
         "type": "string"
        },
        {
         "name": "color",
         "rawType": "object",
         "type": "string"
        },
        {
         "name": "clarity",
         "rawType": "object",
         "type": "string"
        },
        {
         "name": "depth",
         "rawType": "float64",
         "type": "float"
        },
        {
         "name": "table",
         "rawType": "float64",
         "type": "float"
        },
        {
         "name": "price",
         "rawType": "int64",
         "type": "integer"
        },
        {
         "name": "x",
         "rawType": "float64",
         "type": "float"
        },
        {
         "name": "y",
         "rawType": "float64",
         "type": "float"
        },
        {
         "name": "z",
         "rawType": "float64",
         "type": "float"
        },
        {
         "name": "expensive",
         "rawType": "bool",
         "type": "boolean"
        }
       ],
       "conversionMethod": "pd.DataFrame",
       "ref": "2f52b244-3489-46c6-aeac-ce613423507e",
       "rows": [
        [
         "0",
         "0.23",
         "Ideal",
         "E",
         "SI2",
         "61.5",
         "55.0",
         "326",
         "3.95",
         "3.98",
         "2.43",
         "False"
        ],
        [
         "1",
         "0.21",
         "Premium",
         "E",
         "SI1",
         "59.8",
         "61.0",
         "326",
         "3.89",
         "3.84",
         "2.31",
         "False"
        ],
        [
         "2",
         "0.23",
         "Good",
         "E",
         "VS1",
         "56.9",
         "65.0",
         "327",
         "4.05",
         "4.07",
         "2.31",
         "False"
        ],
        [
         "3",
         "0.29",
         "Premium",
         "I",
         "VS2",
         "62.4",
         "58.0",
         "334",
         "4.2",
         "4.23",
         "2.63",
         "False"
        ],
        [
         "4",
         "0.31",
         "Good",
         "J",
         "SI2",
         "63.3",
         "58.0",
         "335",
         "4.34",
         "4.35",
         "2.75",
         "False"
        ],
        [
         "5",
         "0.24",
         "Very Good",
         "J",
         "VVS2",
         "62.8",
         "57.0",
         "336",
         "3.94",
         "3.96",
         "2.48",
         "False"
        ],
        [
         "6",
         "0.24",
         "Very Good",
         "I",
         "VVS1",
         "62.3",
         "57.0",
         "336",
         "3.95",
         "3.98",
         "2.47",
         "False"
        ],
        [
         "7",
         "0.26",
         "Very Good",
         "H",
         "SI1",
         "61.9",
         "55.0",
         "337",
         "4.07",
         "4.11",
         "2.53",
         "False"
        ],
        [
         "8",
         "0.22",
         "Fair",
         "E",
         "VS2",
         "65.1",
         "61.0",
         "337",
         "3.87",
         "3.78",
         "2.49",
         "False"
        ],
        [
         "9",
         "0.23",
         "Very Good",
         "H",
         "VS1",
         "59.4",
         "61.0",
         "338",
         "4.0",
         "4.05",
         "2.39",
         "False"
        ],
        [
         "10",
         "0.3",
         "Good",
         "J",
         "SI1",
         "64.0",
         "55.0",
         "339",
         "4.25",
         "4.28",
         "2.73",
         "False"
        ],
        [
         "11",
         "0.23",
         "Ideal",
         "J",
         "VS1",
         "62.8",
         "56.0",
         "340",
         "3.93",
         "3.9",
         "2.46",
         "False"
        ],
        [
         "12",
         "0.22",
         "Premium",
         "F",
         "SI1",
         "60.4",
         "61.0",
         "342",
         "3.88",
         "3.84",
         "2.33",
         "False"
        ],
        [
         "13",
         "0.31",
         "Ideal",
         "J",
         "SI2",
         "62.2",
         "54.0",
         "344",
         "4.35",
         "4.37",
         "2.71",
         "False"
        ],
        [
         "14",
         "0.2",
         "Premium",
         "E",
         "SI2",
         "60.2",
         "62.0",
         "345",
         "3.79",
         "3.75",
         "2.27",
         "False"
        ],
        [
         "15",
         "0.32",
         "Premium",
         "E",
         "I1",
         "60.9",
         "58.0",
         "345",
         "4.38",
         "4.42",
         "2.68",
         "False"
        ],
        [
         "16",
         "0.3",
         "Ideal",
         "I",
         "SI2",
         "62.0",
         "54.0",
         "348",
         "4.31",
         "4.34",
         "2.68",
         "False"
        ],
        [
         "17",
         "0.3",
         "Good",
         "J",
         "SI1",
         "63.4",
         "54.0",
         "351",
         "4.23",
         "4.29",
         "2.7",
         "False"
        ],
        [
         "18",
         "0.3",
         "Good",
         "J",
         "SI1",
         "63.8",
         "56.0",
         "351",
         "4.23",
         "4.26",
         "2.71",
         "False"
        ],
        [
         "19",
         "0.3",
         "Very Good",
         "J",
         "SI1",
         "62.7",
         "59.0",
         "351",
         "4.21",
         "4.27",
         "2.66",
         "False"
        ],
        [
         "20",
         "0.3",
         "Good",
         "I",
         "SI2",
         "63.3",
         "56.0",
         "351",
         "4.26",
         "4.3",
         "2.71",
         "False"
        ],
        [
         "21",
         "0.23",
         "Very Good",
         "E",
         "VS2",
         "63.8",
         "55.0",
         "352",
         "3.85",
         "3.92",
         "2.48",
         "False"
        ],
        [
         "22",
         "0.23",
         "Very Good",
         "H",
         "VS1",
         "61.0",
         "57.0",
         "353",
         "3.94",
         "3.96",
         "2.41",
         "False"
        ],
        [
         "23",
         "0.31",
         "Very Good",
         "J",
         "SI1",
         "59.4",
         "62.0",
         "353",
         "4.39",
         "4.43",
         "2.62",
         "False"
        ],
        [
         "24",
         "0.31",
         "Very Good",
         "J",
         "SI1",
         "58.1",
         "62.0",
         "353",
         "4.44",
         "4.47",
         "2.59",
         "False"
        ],
        [
         "25",
         "0.23",
         "Very Good",
         "G",
         "VVS2",
         "60.4",
         "58.0",
         "354",
         "3.97",
         "4.01",
         "2.41",
         "False"
        ],
        [
         "26",
         "0.24",
         "Premium",
         "I",
         "VS1",
         "62.5",
         "57.0",
         "355",
         "3.97",
         "3.94",
         "2.47",
         "False"
        ],
        [
         "27",
         "0.3",
         "Very Good",
         "J",
         "VS2",
         "62.2",
         "57.0",
         "357",
         "4.28",
         "4.3",
         "2.67",
         "False"
        ],
        [
         "28",
         "0.23",
         "Very Good",
         "D",
         "VS2",
         "60.5",
         "61.0",
         "357",
         "3.96",
         "3.97",
         "2.4",
         "False"
        ],
        [
         "29",
         "0.23",
         "Very Good",
         "F",
         "VS1",
         "60.9",
         "57.0",
         "357",
         "3.96",
         "3.99",
         "2.42",
         "False"
        ],
        [
         "30",
         "0.23",
         "Very Good",
         "F",
         "VS1",
         "60.0",
         "57.0",
         "402",
         "4.0",
         "4.03",
         "2.41",
         "False"
        ],
        [
         "31",
         "0.23",
         "Very Good",
         "F",
         "VS1",
         "59.8",
         "57.0",
         "402",
         "4.04",
         "4.06",
         "2.42",
         "False"
        ],
        [
         "32",
         "0.23",
         "Very Good",
         "E",
         "VS1",
         "60.7",
         "59.0",
         "402",
         "3.97",
         "4.01",
         "2.42",
         "False"
        ],
        [
         "33",
         "0.23",
         "Very Good",
         "E",
         "VS1",
         "59.5",
         "58.0",
         "402",
         "4.01",
         "4.06",
         "2.4",
         "False"
        ],
        [
         "34",
         "0.23",
         "Very Good",
         "D",
         "VS1",
         "61.9",
         "58.0",
         "402",
         "3.92",
         "3.96",
         "2.44",
         "False"
        ],
        [
         "35",
         "0.23",
         "Good",
         "F",
         "VS1",
         "58.2",
         "59.0",
         "402",
         "4.06",
         "4.08",
         "2.37",
         "False"
        ],
        [
         "36",
         "0.23",
         "Good",
         "E",
         "VS1",
         "64.1",
         "59.0",
         "402",
         "3.83",
         "3.85",
         "2.46",
         "False"
        ],
        [
         "37",
         "0.31",
         "Good",
         "H",
         "SI1",
         "64.0",
         "54.0",
         "402",
         "4.29",
         "4.31",
         "2.75",
         "False"
        ],
        [
         "38",
         "0.26",
         "Very Good",
         "D",
         "VS2",
         "60.8",
         "59.0",
         "403",
         "4.13",
         "4.16",
         "2.52",
         "False"
        ],
        [
         "39",
         "0.33",
         "Ideal",
         "I",
         "SI2",
         "61.8",
         "55.0",
         "403",
         "4.49",
         "4.51",
         "2.78",
         "False"
        ],
        [
         "40",
         "0.33",
         "Ideal",
         "I",
         "SI2",
         "61.2",
         "56.0",
         "403",
         "4.49",
         "4.5",
         "2.75",
         "False"
        ],
        [
         "41",
         "0.33",
         "Ideal",
         "J",
         "SI1",
         "61.1",
         "56.0",
         "403",
         "4.49",
         "4.55",
         "2.76",
         "False"
        ],
        [
         "42",
         "0.26",
         "Good",
         "D",
         "VS2",
         "65.2",
         "56.0",
         "403",
         "3.99",
         "4.02",
         "2.61",
         "False"
        ],
        [
         "43",
         "0.26",
         "Good",
         "D",
         "VS1",
         "58.4",
         "63.0",
         "403",
         "4.19",
         "4.24",
         "2.46",
         "False"
        ],
        [
         "44",
         "0.32",
         "Good",
         "H",
         "SI2",
         "63.1",
         "56.0",
         "403",
         "4.34",
         "4.37",
         "2.75",
         "False"
        ],
        [
         "45",
         "0.29",
         "Premium",
         "F",
         "SI1",
         "62.4",
         "58.0",
         "403",
         "4.24",
         "4.26",
         "2.65",
         "False"
        ],
        [
         "46",
         "0.32",
         "Very Good",
         "H",
         "SI2",
         "61.8",
         "55.0",
         "403",
         "4.35",
         "4.42",
         "2.71",
         "False"
        ],
        [
         "47",
         "0.32",
         "Good",
         "H",
         "SI2",
         "63.8",
         "56.0",
         "403",
         "4.36",
         "4.38",
         "2.79",
         "False"
        ],
        [
         "48",
         "0.25",
         "Very Good",
         "E",
         "VS2",
         "63.3",
         "60.0",
         "404",
         "4.0",
         "4.03",
         "2.54",
         "False"
        ],
        [
         "49",
         "0.29",
         "Very Good",
         "H",
         "SI2",
         "60.7",
         "60.0",
         "404",
         "4.33",
         "4.37",
         "2.64",
         "False"
        ]
       ],
       "shape": {
        "columns": 11,
        "rows": 53940
       }
      },
      "text/html": [
       "<div>\n",
       "<style scoped>\n",
       "    .dataframe tbody tr th:only-of-type {\n",
       "        vertical-align: middle;\n",
       "    }\n",
       "\n",
       "    .dataframe tbody tr th {\n",
       "        vertical-align: top;\n",
       "    }\n",
       "\n",
       "    .dataframe thead th {\n",
       "        text-align: right;\n",
       "    }\n",
       "</style>\n",
       "<table border=\"1\" class=\"dataframe\">\n",
       "  <thead>\n",
       "    <tr style=\"text-align: right;\">\n",
       "      <th></th>\n",
       "      <th>carat</th>\n",
       "      <th>cut</th>\n",
       "      <th>color</th>\n",
       "      <th>clarity</th>\n",
       "      <th>depth</th>\n",
       "      <th>table</th>\n",
       "      <th>price</th>\n",
       "      <th>x</th>\n",
       "      <th>y</th>\n",
       "      <th>z</th>\n",
       "      <th>expensive</th>\n",
       "    </tr>\n",
       "  </thead>\n",
       "  <tbody>\n",
       "    <tr>\n",
       "      <th>0</th>\n",
       "      <td>0.23</td>\n",
       "      <td>Ideal</td>\n",
       "      <td>E</td>\n",
       "      <td>SI2</td>\n",
       "      <td>61.5</td>\n",
       "      <td>55.0</td>\n",
       "      <td>326</td>\n",
       "      <td>3.95</td>\n",
       "      <td>3.98</td>\n",
       "      <td>2.43</td>\n",
       "      <td>False</td>\n",
       "    </tr>\n",
       "    <tr>\n",
       "      <th>1</th>\n",
       "      <td>0.21</td>\n",
       "      <td>Premium</td>\n",
       "      <td>E</td>\n",
       "      <td>SI1</td>\n",
       "      <td>59.8</td>\n",
       "      <td>61.0</td>\n",
       "      <td>326</td>\n",
       "      <td>3.89</td>\n",
       "      <td>3.84</td>\n",
       "      <td>2.31</td>\n",
       "      <td>False</td>\n",
       "    </tr>\n",
       "    <tr>\n",
       "      <th>2</th>\n",
       "      <td>0.23</td>\n",
       "      <td>Good</td>\n",
       "      <td>E</td>\n",
       "      <td>VS1</td>\n",
       "      <td>56.9</td>\n",
       "      <td>65.0</td>\n",
       "      <td>327</td>\n",
       "      <td>4.05</td>\n",
       "      <td>4.07</td>\n",
       "      <td>2.31</td>\n",
       "      <td>False</td>\n",
       "    </tr>\n",
       "    <tr>\n",
       "      <th>3</th>\n",
       "      <td>0.29</td>\n",
       "      <td>Premium</td>\n",
       "      <td>I</td>\n",
       "      <td>VS2</td>\n",
       "      <td>62.4</td>\n",
       "      <td>58.0</td>\n",
       "      <td>334</td>\n",
       "      <td>4.20</td>\n",
       "      <td>4.23</td>\n",
       "      <td>2.63</td>\n",
       "      <td>False</td>\n",
       "    </tr>\n",
       "    <tr>\n",
       "      <th>4</th>\n",
       "      <td>0.31</td>\n",
       "      <td>Good</td>\n",
       "      <td>J</td>\n",
       "      <td>SI2</td>\n",
       "      <td>63.3</td>\n",
       "      <td>58.0</td>\n",
       "      <td>335</td>\n",
       "      <td>4.34</td>\n",
       "      <td>4.35</td>\n",
       "      <td>2.75</td>\n",
       "      <td>False</td>\n",
       "    </tr>\n",
       "    <tr>\n",
       "      <th>...</th>\n",
       "      <td>...</td>\n",
       "      <td>...</td>\n",
       "      <td>...</td>\n",
       "      <td>...</td>\n",
       "      <td>...</td>\n",
       "      <td>...</td>\n",
       "      <td>...</td>\n",
       "      <td>...</td>\n",
       "      <td>...</td>\n",
       "      <td>...</td>\n",
       "      <td>...</td>\n",
       "    </tr>\n",
       "    <tr>\n",
       "      <th>53935</th>\n",
       "      <td>0.72</td>\n",
       "      <td>Ideal</td>\n",
       "      <td>D</td>\n",
       "      <td>SI1</td>\n",
       "      <td>60.8</td>\n",
       "      <td>57.0</td>\n",
       "      <td>2757</td>\n",
       "      <td>5.75</td>\n",
       "      <td>5.76</td>\n",
       "      <td>3.50</td>\n",
       "      <td>True</td>\n",
       "    </tr>\n",
       "    <tr>\n",
       "      <th>53936</th>\n",
       "      <td>0.72</td>\n",
       "      <td>Good</td>\n",
       "      <td>D</td>\n",
       "      <td>SI1</td>\n",
       "      <td>63.1</td>\n",
       "      <td>55.0</td>\n",
       "      <td>2757</td>\n",
       "      <td>5.69</td>\n",
       "      <td>5.75</td>\n",
       "      <td>3.61</td>\n",
       "      <td>True</td>\n",
       "    </tr>\n",
       "    <tr>\n",
       "      <th>53937</th>\n",
       "      <td>0.70</td>\n",
       "      <td>Very Good</td>\n",
       "      <td>D</td>\n",
       "      <td>SI1</td>\n",
       "      <td>62.8</td>\n",
       "      <td>60.0</td>\n",
       "      <td>2757</td>\n",
       "      <td>5.66</td>\n",
       "      <td>5.68</td>\n",
       "      <td>3.56</td>\n",
       "      <td>True</td>\n",
       "    </tr>\n",
       "    <tr>\n",
       "      <th>53938</th>\n",
       "      <td>0.86</td>\n",
       "      <td>Premium</td>\n",
       "      <td>H</td>\n",
       "      <td>SI2</td>\n",
       "      <td>61.0</td>\n",
       "      <td>58.0</td>\n",
       "      <td>2757</td>\n",
       "      <td>6.15</td>\n",
       "      <td>6.12</td>\n",
       "      <td>3.74</td>\n",
       "      <td>True</td>\n",
       "    </tr>\n",
       "    <tr>\n",
       "      <th>53939</th>\n",
       "      <td>0.75</td>\n",
       "      <td>Ideal</td>\n",
       "      <td>D</td>\n",
       "      <td>SI2</td>\n",
       "      <td>62.2</td>\n",
       "      <td>55.0</td>\n",
       "      <td>2757</td>\n",
       "      <td>5.83</td>\n",
       "      <td>5.87</td>\n",
       "      <td>3.64</td>\n",
       "      <td>True</td>\n",
       "    </tr>\n",
       "  </tbody>\n",
       "</table>\n",
       "<p>53940 rows × 11 columns</p>\n",
       "</div>"
      ],
      "text/plain": [
       "       carat        cut color clarity  depth  table  price     x     y     z  \\\n",
       "0       0.23      Ideal     E     SI2   61.5   55.0    326  3.95  3.98  2.43   \n",
       "1       0.21    Premium     E     SI1   59.8   61.0    326  3.89  3.84  2.31   \n",
       "2       0.23       Good     E     VS1   56.9   65.0    327  4.05  4.07  2.31   \n",
       "3       0.29    Premium     I     VS2   62.4   58.0    334  4.20  4.23  2.63   \n",
       "4       0.31       Good     J     SI2   63.3   58.0    335  4.34  4.35  2.75   \n",
       "...      ...        ...   ...     ...    ...    ...    ...   ...   ...   ...   \n",
       "53935   0.72      Ideal     D     SI1   60.8   57.0   2757  5.75  5.76  3.50   \n",
       "53936   0.72       Good     D     SI1   63.1   55.0   2757  5.69  5.75  3.61   \n",
       "53937   0.70  Very Good     D     SI1   62.8   60.0   2757  5.66  5.68  3.56   \n",
       "53938   0.86    Premium     H     SI2   61.0   58.0   2757  6.15  6.12  3.74   \n",
       "53939   0.75      Ideal     D     SI2   62.2   55.0   2757  5.83  5.87  3.64   \n",
       "\n",
       "       expensive  \n",
       "0          False  \n",
       "1          False  \n",
       "2          False  \n",
       "3          False  \n",
       "4          False  \n",
       "...          ...  \n",
       "53935       True  \n",
       "53936       True  \n",
       "53937       True  \n",
       "53938       True  \n",
       "53939       True  \n",
       "\n",
       "[53940 rows x 11 columns]"
      ]
     },
     "execution_count": 26,
     "metadata": {},
     "output_type": "execute_result"
    }
   ],
   "source": [
    "# Add your code here\n",
    "expensive_df = df.copy()\n",
    "expensive_df['expensive'] = expensive_df['price'] > 1000\n",
    "expensive_df"
   ]
  },
  {
   "cell_type": "markdown",
   "id": "3a13a068",
   "metadata": {},
   "source": [
    "#### Sort the DataFrame by the `price` column in ascending order, and `carat` in descending order"
   ]
  },
  {
   "cell_type": "code",
   "execution_count": 28,
   "id": "e23e8a46",
   "metadata": {},
   "outputs": [
    {
     "data": {
      "application/vnd.microsoft.datawrangler.viewer.v0+json": {
       "columns": [
        {
         "name": "index",
         "rawType": "int64",
         "type": "integer"
        },
        {
         "name": "carat",
         "rawType": "float64",
         "type": "float"
        },
        {
         "name": "cut",
         "rawType": "object",
         "type": "string"
        },
        {
         "name": "color",
         "rawType": "object",
         "type": "string"
        },
        {
         "name": "clarity",
         "rawType": "object",
         "type": "string"
        },
        {
         "name": "depth",
         "rawType": "float64",
         "type": "float"
        },
        {
         "name": "table",
         "rawType": "float64",
         "type": "float"
        },
        {
         "name": "price",
         "rawType": "int64",
         "type": "integer"
        },
        {
         "name": "x",
         "rawType": "float64",
         "type": "float"
        },
        {
         "name": "y",
         "rawType": "float64",
         "type": "float"
        },
        {
         "name": "z",
         "rawType": "float64",
         "type": "float"
        }
       ],
       "conversionMethod": "pd.DataFrame",
       "ref": "f5679569-5cb8-4772-96db-bb10640c1c31",
       "rows": [
        [
         "0",
         "0.23",
         "Ideal",
         "E",
         "SI2",
         "61.5",
         "55.0",
         "326",
         "3.95",
         "3.98",
         "2.43"
        ],
        [
         "1",
         "0.21",
         "Premium",
         "E",
         "SI1",
         "59.8",
         "61.0",
         "326",
         "3.89",
         "3.84",
         "2.31"
        ],
        [
         "2",
         "0.23",
         "Good",
         "E",
         "VS1",
         "56.9",
         "65.0",
         "327",
         "4.05",
         "4.07",
         "2.31"
        ],
        [
         "3",
         "0.29",
         "Premium",
         "I",
         "VS2",
         "62.4",
         "58.0",
         "334",
         "4.2",
         "4.23",
         "2.63"
        ],
        [
         "4",
         "0.31",
         "Good",
         "J",
         "SI2",
         "63.3",
         "58.0",
         "335",
         "4.34",
         "4.35",
         "2.75"
        ],
        [
         "5",
         "0.24",
         "Very Good",
         "J",
         "VVS2",
         "62.8",
         "57.0",
         "336",
         "3.94",
         "3.96",
         "2.48"
        ],
        [
         "6",
         "0.24",
         "Very Good",
         "I",
         "VVS1",
         "62.3",
         "57.0",
         "336",
         "3.95",
         "3.98",
         "2.47"
        ],
        [
         "7",
         "0.26",
         "Very Good",
         "H",
         "SI1",
         "61.9",
         "55.0",
         "337",
         "4.07",
         "4.11",
         "2.53"
        ],
        [
         "8",
         "0.22",
         "Fair",
         "E",
         "VS2",
         "65.1",
         "61.0",
         "337",
         "3.87",
         "3.78",
         "2.49"
        ],
        [
         "9",
         "0.23",
         "Very Good",
         "H",
         "VS1",
         "59.4",
         "61.0",
         "338",
         "4.0",
         "4.05",
         "2.39"
        ],
        [
         "10",
         "0.3",
         "Good",
         "J",
         "SI1",
         "64.0",
         "55.0",
         "339",
         "4.25",
         "4.28",
         "2.73"
        ],
        [
         "11",
         "0.23",
         "Ideal",
         "J",
         "VS1",
         "62.8",
         "56.0",
         "340",
         "3.93",
         "3.9",
         "2.46"
        ],
        [
         "12",
         "0.22",
         "Premium",
         "F",
         "SI1",
         "60.4",
         "61.0",
         "342",
         "3.88",
         "3.84",
         "2.33"
        ],
        [
         "13",
         "0.31",
         "Ideal",
         "J",
         "SI2",
         "62.2",
         "54.0",
         "344",
         "4.35",
         "4.37",
         "2.71"
        ],
        [
         "15",
         "0.32",
         "Premium",
         "E",
         "I1",
         "60.9",
         "58.0",
         "345",
         "4.38",
         "4.42",
         "2.68"
        ],
        [
         "14",
         "0.2",
         "Premium",
         "E",
         "SI2",
         "60.2",
         "62.0",
         "345",
         "3.79",
         "3.75",
         "2.27"
        ],
        [
         "16",
         "0.3",
         "Ideal",
         "I",
         "SI2",
         "62.0",
         "54.0",
         "348",
         "4.31",
         "4.34",
         "2.68"
        ],
        [
         "17",
         "0.3",
         "Good",
         "J",
         "SI1",
         "63.4",
         "54.0",
         "351",
         "4.23",
         "4.29",
         "2.7"
        ],
        [
         "18",
         "0.3",
         "Good",
         "J",
         "SI1",
         "63.8",
         "56.0",
         "351",
         "4.23",
         "4.26",
         "2.71"
        ],
        [
         "19",
         "0.3",
         "Very Good",
         "J",
         "SI1",
         "62.7",
         "59.0",
         "351",
         "4.21",
         "4.27",
         "2.66"
        ],
        [
         "20",
         "0.3",
         "Good",
         "I",
         "SI2",
         "63.3",
         "56.0",
         "351",
         "4.26",
         "4.3",
         "2.71"
        ],
        [
         "21",
         "0.23",
         "Very Good",
         "E",
         "VS2",
         "63.8",
         "55.0",
         "352",
         "3.85",
         "3.92",
         "2.48"
        ],
        [
         "23",
         "0.31",
         "Very Good",
         "J",
         "SI1",
         "59.4",
         "62.0",
         "353",
         "4.39",
         "4.43",
         "2.62"
        ],
        [
         "24",
         "0.31",
         "Very Good",
         "J",
         "SI1",
         "58.1",
         "62.0",
         "353",
         "4.44",
         "4.47",
         "2.59"
        ],
        [
         "22",
         "0.23",
         "Very Good",
         "H",
         "VS1",
         "61.0",
         "57.0",
         "353",
         "3.94",
         "3.96",
         "2.41"
        ],
        [
         "25",
         "0.23",
         "Very Good",
         "G",
         "VVS2",
         "60.4",
         "58.0",
         "354",
         "3.97",
         "4.01",
         "2.41"
        ],
        [
         "26",
         "0.24",
         "Premium",
         "I",
         "VS1",
         "62.5",
         "57.0",
         "355",
         "3.97",
         "3.94",
         "2.47"
        ],
        [
         "27",
         "0.3",
         "Very Good",
         "J",
         "VS2",
         "62.2",
         "57.0",
         "357",
         "4.28",
         "4.3",
         "2.67"
        ],
        [
         "28262",
         "0.25",
         "Ideal",
         "H",
         "SI1",
         "62.8",
         "54.0",
         "357",
         "4.05",
         "4.07",
         "2.55"
        ],
        [
         "28260",
         "0.24",
         "Very Good",
         "E",
         "VS1",
         "61.5",
         "57.0",
         "357",
         "3.99",
         "4.07",
         "2.48"
        ],
        [
         "28",
         "0.23",
         "Very Good",
         "D",
         "VS2",
         "60.5",
         "61.0",
         "357",
         "3.96",
         "3.97",
         "2.4"
        ],
        [
         "29",
         "0.23",
         "Very Good",
         "F",
         "VS1",
         "60.9",
         "57.0",
         "357",
         "3.96",
         "3.99",
         "2.42"
        ],
        [
         "28261",
         "0.23",
         "Very Good",
         "D",
         "VS1",
         "61.8",
         "57.0",
         "357",
         "3.9",
         "3.93",
         "2.42"
        ],
        [
         "28263",
         "0.23",
         "Good",
         "E",
         "VS2",
         "61.8",
         "63.0",
         "357",
         "3.88",
         "3.89",
         "2.4"
        ],
        [
         "28264",
         "0.23",
         "Good",
         "F",
         "VS2",
         "63.8",
         "57.0",
         "357",
         "3.93",
         "3.84",
         "2.48"
        ],
        [
         "28265",
         "0.26",
         "Ideal",
         "I",
         "VS1",
         "61.9",
         "56.0",
         "358",
         "4.08",
         "4.16",
         "2.55"
        ],
        [
         "28267",
         "0.3",
         "Ideal",
         "I",
         "SI2",
         "62.0",
         "55.0",
         "360",
         "4.32",
         "4.33",
         "2.68"
        ],
        [
         "28266",
         "0.28",
         "Very Good",
         "H",
         "SI1",
         "61.5",
         "56.0",
         "360",
         "4.21",
         "4.24",
         "2.6"
        ],
        [
         "28271",
         "0.32",
         "Good",
         "D",
         "I1",
         "64.0",
         "54.0",
         "361",
         "4.33",
         "4.36",
         "2.78"
        ],
        [
         "28268",
         "0.27",
         "Ideal",
         "G",
         "SI2",
         "62.3",
         "55.0",
         "361",
         "4.14",
         "4.18",
         "2.59"
        ],
        [
         "28269",
         "0.25",
         "Good",
         "E",
         "VS1",
         "63.3",
         "60.0",
         "361",
         "3.99",
         "4.04",
         "2.54"
        ],
        [
         "28270",
         "0.25",
         "Fair",
         "E",
         "VS1",
         "55.2",
         "64.0",
         "361",
         "4.21",
         "4.23",
         "2.33"
        ],
        [
         "28275",
         "0.26",
         "Ideal",
         "H",
         "SI2",
         "62.5",
         "53.0",
         "362",
         "4.09",
         "4.13",
         "2.57"
        ],
        [
         "28273",
         "0.24",
         "Very Good",
         "E",
         "VS2",
         "64.1",
         "59.0",
         "362",
         "3.88",
         "3.92",
         "2.5"
        ],
        [
         "28274",
         "0.24",
         "Very Good",
         "E",
         "VS2",
         "60.8",
         "56.0",
         "362",
         "4.02",
         "4.04",
         "2.45"
        ],
        [
         "28272",
         "0.23",
         "Very Good",
         "D",
         "VS2",
         "62.7",
         "58.0",
         "362",
         "3.86",
         "3.89",
         "2.43"
        ],
        [
         "28277",
         "0.31",
         "Very Good",
         "J",
         "SI1",
         "61.9",
         "59.0",
         "363",
         "4.28",
         "4.32",
         "2.66"
        ],
        [
         "28278",
         "0.31",
         "Very Good",
         "J",
         "SI1",
         "62.7",
         "59.0",
         "363",
         "4.29",
         "4.32",
         "2.7"
        ],
        [
         "28279",
         "0.31",
         "Premium",
         "J",
         "SI1",
         "60.9",
         "60.0",
         "363",
         "4.36",
         "4.38",
         "2.66"
        ],
        [
         "28280",
         "0.31",
         "Good",
         "J",
         "SI1",
         "63.5",
         "55.0",
         "363",
         "4.3",
         "4.33",
         "2.74"
        ]
       ],
       "shape": {
        "columns": 10,
        "rows": 53940
       }
      },
      "text/html": [
       "<div>\n",
       "<style scoped>\n",
       "    .dataframe tbody tr th:only-of-type {\n",
       "        vertical-align: middle;\n",
       "    }\n",
       "\n",
       "    .dataframe tbody tr th {\n",
       "        vertical-align: top;\n",
       "    }\n",
       "\n",
       "    .dataframe thead th {\n",
       "        text-align: right;\n",
       "    }\n",
       "</style>\n",
       "<table border=\"1\" class=\"dataframe\">\n",
       "  <thead>\n",
       "    <tr style=\"text-align: right;\">\n",
       "      <th></th>\n",
       "      <th>carat</th>\n",
       "      <th>cut</th>\n",
       "      <th>color</th>\n",
       "      <th>clarity</th>\n",
       "      <th>depth</th>\n",
       "      <th>table</th>\n",
       "      <th>price</th>\n",
       "      <th>x</th>\n",
       "      <th>y</th>\n",
       "      <th>z</th>\n",
       "    </tr>\n",
       "  </thead>\n",
       "  <tbody>\n",
       "    <tr>\n",
       "      <th>0</th>\n",
       "      <td>0.23</td>\n",
       "      <td>Ideal</td>\n",
       "      <td>E</td>\n",
       "      <td>SI2</td>\n",
       "      <td>61.5</td>\n",
       "      <td>55.0</td>\n",
       "      <td>326</td>\n",
       "      <td>3.95</td>\n",
       "      <td>3.98</td>\n",
       "      <td>2.43</td>\n",
       "    </tr>\n",
       "    <tr>\n",
       "      <th>1</th>\n",
       "      <td>0.21</td>\n",
       "      <td>Premium</td>\n",
       "      <td>E</td>\n",
       "      <td>SI1</td>\n",
       "      <td>59.8</td>\n",
       "      <td>61.0</td>\n",
       "      <td>326</td>\n",
       "      <td>3.89</td>\n",
       "      <td>3.84</td>\n",
       "      <td>2.31</td>\n",
       "    </tr>\n",
       "    <tr>\n",
       "      <th>2</th>\n",
       "      <td>0.23</td>\n",
       "      <td>Good</td>\n",
       "      <td>E</td>\n",
       "      <td>VS1</td>\n",
       "      <td>56.9</td>\n",
       "      <td>65.0</td>\n",
       "      <td>327</td>\n",
       "      <td>4.05</td>\n",
       "      <td>4.07</td>\n",
       "      <td>2.31</td>\n",
       "    </tr>\n",
       "    <tr>\n",
       "      <th>3</th>\n",
       "      <td>0.29</td>\n",
       "      <td>Premium</td>\n",
       "      <td>I</td>\n",
       "      <td>VS2</td>\n",
       "      <td>62.4</td>\n",
       "      <td>58.0</td>\n",
       "      <td>334</td>\n",
       "      <td>4.20</td>\n",
       "      <td>4.23</td>\n",
       "      <td>2.63</td>\n",
       "    </tr>\n",
       "    <tr>\n",
       "      <th>4</th>\n",
       "      <td>0.31</td>\n",
       "      <td>Good</td>\n",
       "      <td>J</td>\n",
       "      <td>SI2</td>\n",
       "      <td>63.3</td>\n",
       "      <td>58.0</td>\n",
       "      <td>335</td>\n",
       "      <td>4.34</td>\n",
       "      <td>4.35</td>\n",
       "      <td>2.75</td>\n",
       "    </tr>\n",
       "    <tr>\n",
       "      <th>...</th>\n",
       "      <td>...</td>\n",
       "      <td>...</td>\n",
       "      <td>...</td>\n",
       "      <td>...</td>\n",
       "      <td>...</td>\n",
       "      <td>...</td>\n",
       "      <td>...</td>\n",
       "      <td>...</td>\n",
       "      <td>...</td>\n",
       "      <td>...</td>\n",
       "    </tr>\n",
       "    <tr>\n",
       "      <th>27745</th>\n",
       "      <td>2.00</td>\n",
       "      <td>Very Good</td>\n",
       "      <td>H</td>\n",
       "      <td>SI1</td>\n",
       "      <td>62.8</td>\n",
       "      <td>57.0</td>\n",
       "      <td>18803</td>\n",
       "      <td>7.95</td>\n",
       "      <td>8.00</td>\n",
       "      <td>5.01</td>\n",
       "    </tr>\n",
       "    <tr>\n",
       "      <th>27746</th>\n",
       "      <td>2.07</td>\n",
       "      <td>Ideal</td>\n",
       "      <td>G</td>\n",
       "      <td>SI2</td>\n",
       "      <td>62.5</td>\n",
       "      <td>55.0</td>\n",
       "      <td>18804</td>\n",
       "      <td>8.20</td>\n",
       "      <td>8.13</td>\n",
       "      <td>5.11</td>\n",
       "    </tr>\n",
       "    <tr>\n",
       "      <th>27747</th>\n",
       "      <td>1.51</td>\n",
       "      <td>Ideal</td>\n",
       "      <td>G</td>\n",
       "      <td>IF</td>\n",
       "      <td>61.7</td>\n",
       "      <td>55.0</td>\n",
       "      <td>18806</td>\n",
       "      <td>7.37</td>\n",
       "      <td>7.41</td>\n",
       "      <td>4.56</td>\n",
       "    </tr>\n",
       "    <tr>\n",
       "      <th>27748</th>\n",
       "      <td>2.00</td>\n",
       "      <td>Very Good</td>\n",
       "      <td>G</td>\n",
       "      <td>SI1</td>\n",
       "      <td>63.5</td>\n",
       "      <td>56.0</td>\n",
       "      <td>18818</td>\n",
       "      <td>7.90</td>\n",
       "      <td>7.97</td>\n",
       "      <td>5.04</td>\n",
       "    </tr>\n",
       "    <tr>\n",
       "      <th>27749</th>\n",
       "      <td>2.29</td>\n",
       "      <td>Premium</td>\n",
       "      <td>I</td>\n",
       "      <td>VS2</td>\n",
       "      <td>60.8</td>\n",
       "      <td>60.0</td>\n",
       "      <td>18823</td>\n",
       "      <td>8.50</td>\n",
       "      <td>8.47</td>\n",
       "      <td>5.16</td>\n",
       "    </tr>\n",
       "  </tbody>\n",
       "</table>\n",
       "<p>53940 rows × 10 columns</p>\n",
       "</div>"
      ],
      "text/plain": [
       "       carat        cut color clarity  depth  table  price     x     y     z\n",
       "0       0.23      Ideal     E     SI2   61.5   55.0    326  3.95  3.98  2.43\n",
       "1       0.21    Premium     E     SI1   59.8   61.0    326  3.89  3.84  2.31\n",
       "2       0.23       Good     E     VS1   56.9   65.0    327  4.05  4.07  2.31\n",
       "3       0.29    Premium     I     VS2   62.4   58.0    334  4.20  4.23  2.63\n",
       "4       0.31       Good     J     SI2   63.3   58.0    335  4.34  4.35  2.75\n",
       "...      ...        ...   ...     ...    ...    ...    ...   ...   ...   ...\n",
       "27745   2.00  Very Good     H     SI1   62.8   57.0  18803  7.95  8.00  5.01\n",
       "27746   2.07      Ideal     G     SI2   62.5   55.0  18804  8.20  8.13  5.11\n",
       "27747   1.51      Ideal     G      IF   61.7   55.0  18806  7.37  7.41  4.56\n",
       "27748   2.00  Very Good     G     SI1   63.5   56.0  18818  7.90  7.97  5.04\n",
       "27749   2.29    Premium     I     VS2   60.8   60.0  18823  8.50  8.47  5.16\n",
       "\n",
       "[53940 rows x 10 columns]"
      ]
     },
     "execution_count": 28,
     "metadata": {},
     "output_type": "execute_result"
    }
   ],
   "source": [
    "# Add your code here\n",
    "sort_df = df.sort_values(['price', 'carat'], ascending=[True, False])\n",
    "sort_df\n"
   ]
  },
  {
   "cell_type": "markdown",
   "id": "06922075",
   "metadata": {},
   "source": [
    "#### Display descriptive statistics for non-numeric columns"
   ]
  },
  {
   "cell_type": "code",
   "execution_count": null,
   "id": "9deb4d47",
   "metadata": {},
   "outputs": [
    {
     "data": {
      "application/vnd.microsoft.datawrangler.viewer.v0+json": {
       "columns": [
        {
         "name": "index",
         "rawType": "object",
         "type": "string"
        },
        {
         "name": "cut",
         "rawType": "object",
         "type": "unknown"
        },
        {
         "name": "color",
         "rawType": "object",
         "type": "unknown"
        },
        {
         "name": "clarity",
         "rawType": "object",
         "type": "unknown"
        }
       ],
       "conversionMethod": "pd.DataFrame",
       "ref": "78691aa2-435a-4ec0-82a3-cabb33fde73d",
       "rows": [
        [
         "count",
         "53940",
         "53940",
         "53940"
        ],
        [
         "unique",
         "5",
         "7",
         "8"
        ],
        [
         "top",
         "Ideal",
         "G",
         "SI1"
        ],
        [
         "freq",
         "21551",
         "11292",
         "13065"
        ]
       ],
       "shape": {
        "columns": 3,
        "rows": 4
       }
      },
      "text/html": [
       "<div>\n",
       "<style scoped>\n",
       "    .dataframe tbody tr th:only-of-type {\n",
       "        vertical-align: middle;\n",
       "    }\n",
       "\n",
       "    .dataframe tbody tr th {\n",
       "        vertical-align: top;\n",
       "    }\n",
       "\n",
       "    .dataframe thead th {\n",
       "        text-align: right;\n",
       "    }\n",
       "</style>\n",
       "<table border=\"1\" class=\"dataframe\">\n",
       "  <thead>\n",
       "    <tr style=\"text-align: right;\">\n",
       "      <th></th>\n",
       "      <th>cut</th>\n",
       "      <th>color</th>\n",
       "      <th>clarity</th>\n",
       "    </tr>\n",
       "  </thead>\n",
       "  <tbody>\n",
       "    <tr>\n",
       "      <th>count</th>\n",
       "      <td>53940</td>\n",
       "      <td>53940</td>\n",
       "      <td>53940</td>\n",
       "    </tr>\n",
       "    <tr>\n",
       "      <th>unique</th>\n",
       "      <td>5</td>\n",
       "      <td>7</td>\n",
       "      <td>8</td>\n",
       "    </tr>\n",
       "    <tr>\n",
       "      <th>top</th>\n",
       "      <td>Ideal</td>\n",
       "      <td>G</td>\n",
       "      <td>SI1</td>\n",
       "    </tr>\n",
       "    <tr>\n",
       "      <th>freq</th>\n",
       "      <td>21551</td>\n",
       "      <td>11292</td>\n",
       "      <td>13065</td>\n",
       "    </tr>\n",
       "  </tbody>\n",
       "</table>\n",
       "</div>"
      ],
      "text/plain": [
       "          cut  color clarity\n",
       "count   53940  53940   53940\n",
       "unique      5      7       8\n",
       "top     Ideal      G     SI1\n",
       "freq    21551  11292   13065"
      ]
     },
     "metadata": {},
     "output_type": "display_data"
    }
   ],
   "source": [
    "# Add your code here\n",
    "df.describe(include='O')"
   ]
  },
  {
   "cell_type": "markdown",
   "id": "d4ed0f64",
   "metadata": {},
   "source": [
    "#### Select the first 10 rows and the columns `carat`, `cut`, and `price` using `iloc`"
   ]
  },
  {
   "cell_type": "code",
   "execution_count": 38,
   "id": "70343bdf",
   "metadata": {},
   "outputs": [
    {
     "data": {
      "application/vnd.microsoft.datawrangler.viewer.v0+json": {
       "columns": [
        {
         "name": "index",
         "rawType": "int64",
         "type": "integer"
        },
        {
         "name": "carat",
         "rawType": "float64",
         "type": "float"
        },
        {
         "name": "cut",
         "rawType": "object",
         "type": "string"
        },
        {
         "name": "price",
         "rawType": "float64",
         "type": "float"
        }
       ],
       "conversionMethod": "pd.DataFrame",
       "ref": "82e0dea5-d3d5-40de-ba43-83cfbe40ee5a",
       "rows": [
        [
         "0",
         "0.23",
         "Ideal",
         "326.0"
        ],
        [
         "1",
         "0.21",
         "Premium",
         "326.0"
        ],
        [
         "2",
         "0.23",
         "Good",
         "327.0"
        ],
        [
         "3",
         "0.29",
         "Premium",
         "334.0"
        ],
        [
         "4",
         "0.31",
         "Good",
         "335.0"
        ],
        [
         "5",
         "0.24",
         "Very Good",
         "336.0"
        ],
        [
         "6",
         "0.24",
         "Very Good",
         "336.0"
        ],
        [
         "7",
         "0.26",
         "Very Good",
         "337.0"
        ],
        [
         "8",
         "0.22",
         "Fair",
         "337.0"
        ],
        [
         "9",
         "0.23",
         "Very Good",
         null
        ]
       ],
       "shape": {
        "columns": 3,
        "rows": 10
       }
      },
      "text/html": [
       "<div>\n",
       "<style scoped>\n",
       "    .dataframe tbody tr th:only-of-type {\n",
       "        vertical-align: middle;\n",
       "    }\n",
       "\n",
       "    .dataframe tbody tr th {\n",
       "        vertical-align: top;\n",
       "    }\n",
       "\n",
       "    .dataframe thead th {\n",
       "        text-align: right;\n",
       "    }\n",
       "</style>\n",
       "<table border=\"1\" class=\"dataframe\">\n",
       "  <thead>\n",
       "    <tr style=\"text-align: right;\">\n",
       "      <th></th>\n",
       "      <th>carat</th>\n",
       "      <th>cut</th>\n",
       "      <th>price</th>\n",
       "    </tr>\n",
       "  </thead>\n",
       "  <tbody>\n",
       "    <tr>\n",
       "      <th>0</th>\n",
       "      <td>0.23</td>\n",
       "      <td>Ideal</td>\n",
       "      <td>326.0</td>\n",
       "    </tr>\n",
       "    <tr>\n",
       "      <th>1</th>\n",
       "      <td>0.21</td>\n",
       "      <td>Premium</td>\n",
       "      <td>326.0</td>\n",
       "    </tr>\n",
       "    <tr>\n",
       "      <th>2</th>\n",
       "      <td>0.23</td>\n",
       "      <td>Good</td>\n",
       "      <td>327.0</td>\n",
       "    </tr>\n",
       "    <tr>\n",
       "      <th>3</th>\n",
       "      <td>0.29</td>\n",
       "      <td>Premium</td>\n",
       "      <td>334.0</td>\n",
       "    </tr>\n",
       "    <tr>\n",
       "      <th>4</th>\n",
       "      <td>0.31</td>\n",
       "      <td>Good</td>\n",
       "      <td>335.0</td>\n",
       "    </tr>\n",
       "    <tr>\n",
       "      <th>5</th>\n",
       "      <td>0.24</td>\n",
       "      <td>Very Good</td>\n",
       "      <td>336.0</td>\n",
       "    </tr>\n",
       "    <tr>\n",
       "      <th>6</th>\n",
       "      <td>0.24</td>\n",
       "      <td>Very Good</td>\n",
       "      <td>336.0</td>\n",
       "    </tr>\n",
       "    <tr>\n",
       "      <th>7</th>\n",
       "      <td>0.26</td>\n",
       "      <td>Very Good</td>\n",
       "      <td>337.0</td>\n",
       "    </tr>\n",
       "    <tr>\n",
       "      <th>8</th>\n",
       "      <td>0.22</td>\n",
       "      <td>Fair</td>\n",
       "      <td>337.0</td>\n",
       "    </tr>\n",
       "    <tr>\n",
       "      <th>9</th>\n",
       "      <td>0.23</td>\n",
       "      <td>Very Good</td>\n",
       "      <td>NaN</td>\n",
       "    </tr>\n",
       "  </tbody>\n",
       "</table>\n",
       "</div>"
      ],
      "text/plain": [
       "   carat        cut  price\n",
       "0   0.23      Ideal  326.0\n",
       "1   0.21    Premium  326.0\n",
       "2   0.23       Good  327.0\n",
       "3   0.29    Premium  334.0\n",
       "4   0.31       Good  335.0\n",
       "5   0.24  Very Good  336.0\n",
       "6   0.24  Very Good  336.0\n",
       "7   0.26  Very Good  337.0\n",
       "8   0.22       Fair  337.0\n",
       "9   0.23  Very Good    NaN"
      ]
     },
     "execution_count": 38,
     "metadata": {},
     "output_type": "execute_result"
    }
   ],
   "source": [
    "# Add your code here\n",
    "df.iloc[0:10, 0:2].join(df.iloc[0:9, 6:7])"
   ]
  },
  {
   "cell_type": "markdown",
   "id": "3aed133e",
   "metadata": {},
   "source": [
    "#### Use `loc` to filter the DataFrame for diamonds that have a `carat` greater than 0.5 and a `price` less than 1500. Display the `carat`, `price`, and `cut` columns"
   ]
  },
  {
   "cell_type": "code",
   "execution_count": 43,
   "id": "ae68fd68",
   "metadata": {},
   "outputs": [
    {
     "data": {
      "application/vnd.microsoft.datawrangler.viewer.v0+json": {
       "columns": [
        {
         "name": "index",
         "rawType": "int64",
         "type": "integer"
        },
        {
         "name": "carat",
         "rawType": "float64",
         "type": "float"
        },
        {
         "name": "price",
         "rawType": "int64",
         "type": "integer"
        },
        {
         "name": "cut",
         "rawType": "object",
         "type": "string"
        }
       ],
       "conversionMethod": "pd.DataFrame",
       "ref": "068aa53c-6200-497b-82f0-e903a919a288",
       "rows": [
        [
         "32833",
         "0.6",
         "806",
         "Premium"
        ],
        [
         "33301",
         "0.51",
         "826",
         "Premium"
        ],
        [
         "33664",
         "0.6",
         "835",
         "Premium"
        ],
        [
         "33837",
         "0.53",
         "844",
         "Ideal"
        ],
        [
         "34255",
         "0.53",
         "856",
         "Ideal"
        ],
        [
         "34554",
         "0.52",
         "870",
         "Premium"
        ],
        [
         "34584",
         "0.51",
         "872",
         "Very Good"
        ],
        [
         "35065",
         "0.51",
         "885",
         "Ideal"
        ],
        [
         "35120",
         "0.53",
         "886",
         "Premium"
        ],
        [
         "35231",
         "0.58",
         "893",
         "Fair"
        ],
        [
         "35232",
         "0.58",
         "893",
         "Fair"
        ],
        [
         "35316",
         "0.52",
         "896",
         "Ideal"
        ],
        [
         "35486",
         "0.59",
         "903",
         "Fair"
        ],
        [
         "35795",
         "0.51",
         "913",
         "Ideal"
        ],
        [
         "36021",
         "0.53",
         "923",
         "Very Good"
        ],
        [
         "36027",
         "0.53",
         "923",
         "Good"
        ],
        [
         "36066",
         "0.52",
         "924",
         "Ideal"
        ],
        [
         "36159",
         "0.57",
         "929",
         "Very Good"
        ],
        [
         "36175",
         "0.51",
         "930",
         "Very Good"
        ],
        [
         "36177",
         "0.52",
         "930",
         "Ideal"
        ],
        [
         "36190",
         "0.61",
         "931",
         "Good"
        ],
        [
         "36237",
         "0.62",
         "933",
         "Premium"
        ],
        [
         "36242",
         "0.54",
         "935",
         "Ideal"
        ],
        [
         "36374",
         "0.59",
         "940",
         "Premium"
        ],
        [
         "36388",
         "0.57",
         "941",
         "Premium"
        ],
        [
         "36395",
         "0.53",
         "942",
         "Good"
        ],
        [
         "36571",
         "0.72",
         "945",
         "Premium"
        ],
        [
         "36572",
         "0.7",
         "945",
         "Fair"
        ],
        [
         "36631",
         "0.53",
         "947",
         "Ideal"
        ],
        [
         "36678",
         "0.52",
         "950",
         "Ideal"
        ],
        [
         "36714",
         "0.56",
         "953",
         "Premium"
        ],
        [
         "36758",
         "0.51",
         "956",
         "Premium"
        ],
        [
         "36759",
         "0.52",
         "956",
         "Ideal"
        ],
        [
         "36760",
         "0.56",
         "956",
         "Very Good"
        ],
        [
         "36761",
         "0.51",
         "956",
         "Very Good"
        ],
        [
         "36779",
         "0.51",
         "956",
         "Premium"
        ],
        [
         "36815",
         "0.51",
         "956",
         "Premium"
        ],
        [
         "36816",
         "0.51",
         "956",
         "Premium"
        ],
        [
         "36817",
         "0.7",
         "956",
         "Fair"
        ],
        [
         "36818",
         "0.7",
         "956",
         "Fair"
        ],
        [
         "36819",
         "0.7",
         "956",
         "Fair"
        ],
        [
         "36820",
         "0.7",
         "956",
         "Fair"
        ],
        [
         "36821",
         "0.7",
         "956",
         "Fair"
        ],
        [
         "36825",
         "0.56",
         "957",
         "Very Good"
        ],
        [
         "36884",
         "0.51",
         "959",
         "Good"
        ],
        [
         "36886",
         "0.55",
         "959",
         "Ideal"
        ],
        [
         "36986",
         "0.51",
         "964",
         "Good"
        ],
        [
         "36987",
         "0.51",
         "964",
         "Premium"
        ],
        [
         "36991",
         "0.54",
         "964",
         "Ideal"
        ],
        [
         "36994",
         "0.54",
         "964",
         "Ideal"
        ]
       ],
       "shape": {
        "columns": 3,
        "rows": 1842
       }
      },
      "text/html": [
       "<div>\n",
       "<style scoped>\n",
       "    .dataframe tbody tr th:only-of-type {\n",
       "        vertical-align: middle;\n",
       "    }\n",
       "\n",
       "    .dataframe tbody tr th {\n",
       "        vertical-align: top;\n",
       "    }\n",
       "\n",
       "    .dataframe thead th {\n",
       "        text-align: right;\n",
       "    }\n",
       "</style>\n",
       "<table border=\"1\" class=\"dataframe\">\n",
       "  <thead>\n",
       "    <tr style=\"text-align: right;\">\n",
       "      <th></th>\n",
       "      <th>carat</th>\n",
       "      <th>price</th>\n",
       "      <th>cut</th>\n",
       "    </tr>\n",
       "  </thead>\n",
       "  <tbody>\n",
       "    <tr>\n",
       "      <th>32833</th>\n",
       "      <td>0.60</td>\n",
       "      <td>806</td>\n",
       "      <td>Premium</td>\n",
       "    </tr>\n",
       "    <tr>\n",
       "      <th>33301</th>\n",
       "      <td>0.51</td>\n",
       "      <td>826</td>\n",
       "      <td>Premium</td>\n",
       "    </tr>\n",
       "    <tr>\n",
       "      <th>33664</th>\n",
       "      <td>0.60</td>\n",
       "      <td>835</td>\n",
       "      <td>Premium</td>\n",
       "    </tr>\n",
       "    <tr>\n",
       "      <th>33837</th>\n",
       "      <td>0.53</td>\n",
       "      <td>844</td>\n",
       "      <td>Ideal</td>\n",
       "    </tr>\n",
       "    <tr>\n",
       "      <th>34255</th>\n",
       "      <td>0.53</td>\n",
       "      <td>856</td>\n",
       "      <td>Ideal</td>\n",
       "    </tr>\n",
       "    <tr>\n",
       "      <th>...</th>\n",
       "      <td>...</td>\n",
       "      <td>...</td>\n",
       "      <td>...</td>\n",
       "    </tr>\n",
       "    <tr>\n",
       "      <th>43884</th>\n",
       "      <td>0.54</td>\n",
       "      <td>1453</td>\n",
       "      <td>Ideal</td>\n",
       "    </tr>\n",
       "    <tr>\n",
       "      <th>43885</th>\n",
       "      <td>0.54</td>\n",
       "      <td>1453</td>\n",
       "      <td>Ideal</td>\n",
       "    </tr>\n",
       "    <tr>\n",
       "      <th>43886</th>\n",
       "      <td>0.54</td>\n",
       "      <td>1453</td>\n",
       "      <td>Ideal</td>\n",
       "    </tr>\n",
       "    <tr>\n",
       "      <th>43888</th>\n",
       "      <td>0.52</td>\n",
       "      <td>1454</td>\n",
       "      <td>Ideal</td>\n",
       "    </tr>\n",
       "    <tr>\n",
       "      <th>43889</th>\n",
       "      <td>0.54</td>\n",
       "      <td>1454</td>\n",
       "      <td>Ideal</td>\n",
       "    </tr>\n",
       "  </tbody>\n",
       "</table>\n",
       "<p>1842 rows × 3 columns</p>\n",
       "</div>"
      ],
      "text/plain": [
       "       carat  price      cut\n",
       "32833   0.60    806  Premium\n",
       "33301   0.51    826  Premium\n",
       "33664   0.60    835  Premium\n",
       "33837   0.53    844    Ideal\n",
       "34255   0.53    856    Ideal\n",
       "...      ...    ...      ...\n",
       "43884   0.54   1453    Ideal\n",
       "43885   0.54   1453    Ideal\n",
       "43886   0.54   1453    Ideal\n",
       "43888   0.52   1454    Ideal\n",
       "43889   0.54   1454    Ideal\n",
       "\n",
       "[1842 rows x 3 columns]"
      ]
     },
     "execution_count": 43,
     "metadata": {},
     "output_type": "execute_result"
    }
   ],
   "source": [
    "# Add your code here\n",
    "df.loc[((df['carat'] > 0.5) & (df['price'] < 1500)), ['carat', 'price', 'cut']]"
   ]
  },
  {
   "cell_type": "markdown",
   "id": "c30eb94e",
   "metadata": {},
   "source": [
    "#### Replace all instances of '`Good`' in the `cut` column with '`Average`'"
   ]
  },
  {
   "cell_type": "code",
   "execution_count": 46,
   "id": "c32246df",
   "metadata": {},
   "outputs": [
    {
     "data": {
      "text/plain": [
       "0            Ideal\n",
       "1          Premium\n",
       "2          Average\n",
       "3          Premium\n",
       "4          Average\n",
       "           ...    \n",
       "53935        Ideal\n",
       "53936      Average\n",
       "53937    Very Good\n",
       "53938      Premium\n",
       "53939        Ideal\n",
       "Name: cut, Length: 53940, dtype: object"
      ]
     },
     "execution_count": 46,
     "metadata": {},
     "output_type": "execute_result"
    }
   ],
   "source": [
    "# Add your code here\n",
    "df['cut'].replace('Good', 'Average')\n",
    "df['cut']\n"
   ]
  },
  {
   "cell_type": "markdown",
   "id": "4ca78376",
   "metadata": {},
   "source": [
    "#### Group the DataFrame by the `cut` column and calculate the average `price` for each group"
   ]
  },
  {
   "cell_type": "code",
   "execution_count": 50,
   "id": "9022cdd5",
   "metadata": {},
   "outputs": [
    {
     "data": {
      "text/plain": [
       "cut\n",
       "Average      3928.864452\n",
       "Fair         4358.757764\n",
       "Ideal        3457.541970\n",
       "Premium      4584.257704\n",
       "Very Good    3981.759891\n",
       "Name: price, dtype: float64"
      ]
     },
     "execution_count": 50,
     "metadata": {},
     "output_type": "execute_result"
    }
   ],
   "source": [
    "# Add your code here\n",
    "df.groupby('cut')['price'].mean()\n",
    "\n"
   ]
  },
  {
   "cell_type": "markdown",
   "id": "327e40c2",
   "metadata": {},
   "source": [
    "#### Rename the columns `x`, `y`, and `z` to `length`, `width`, and `height`, respectively"
   ]
  },
  {
   "cell_type": "code",
   "execution_count": 52,
   "id": "b6e1d1e2",
   "metadata": {},
   "outputs": [
    {
     "data": {
      "application/vnd.microsoft.datawrangler.viewer.v0+json": {
       "columns": [
        {
         "name": "index",
         "rawType": "int64",
         "type": "integer"
        },
        {
         "name": "carat",
         "rawType": "float64",
         "type": "float"
        },
        {
         "name": "cut",
         "rawType": "object",
         "type": "string"
        },
        {
         "name": "color",
         "rawType": "object",
         "type": "string"
        },
        {
         "name": "clarity",
         "rawType": "object",
         "type": "string"
        },
        {
         "name": "depth",
         "rawType": "float64",
         "type": "float"
        },
        {
         "name": "table",
         "rawType": "float64",
         "type": "float"
        },
        {
         "name": "price",
         "rawType": "int64",
         "type": "integer"
        },
        {
         "name": "length",
         "rawType": "float64",
         "type": "float"
        },
        {
         "name": "width",
         "rawType": "float64",
         "type": "float"
        },
        {
         "name": "height",
         "rawType": "float64",
         "type": "float"
        }
       ],
       "conversionMethod": "pd.DataFrame",
       "ref": "6e746dfd-6b3a-4d46-a511-2dc8f0feca8a",
       "rows": [
        [
         "0",
         "0.23",
         "Ideal",
         "E",
         "SI2",
         "61.5",
         "55.0",
         "326",
         "3.95",
         "3.98",
         "2.43"
        ],
        [
         "1",
         "0.21",
         "Premium",
         "E",
         "SI1",
         "59.8",
         "61.0",
         "326",
         "3.89",
         "3.84",
         "2.31"
        ],
        [
         "2",
         "0.23",
         "Average",
         "E",
         "VS1",
         "56.9",
         "65.0",
         "327",
         "4.05",
         "4.07",
         "2.31"
        ],
        [
         "3",
         "0.29",
         "Premium",
         "I",
         "VS2",
         "62.4",
         "58.0",
         "334",
         "4.2",
         "4.23",
         "2.63"
        ],
        [
         "4",
         "0.31",
         "Average",
         "J",
         "SI2",
         "63.3",
         "58.0",
         "335",
         "4.34",
         "4.35",
         "2.75"
        ],
        [
         "5",
         "0.24",
         "Very Good",
         "J",
         "VVS2",
         "62.8",
         "57.0",
         "336",
         "3.94",
         "3.96",
         "2.48"
        ],
        [
         "6",
         "0.24",
         "Very Good",
         "I",
         "VVS1",
         "62.3",
         "57.0",
         "336",
         "3.95",
         "3.98",
         "2.47"
        ],
        [
         "7",
         "0.26",
         "Very Good",
         "H",
         "SI1",
         "61.9",
         "55.0",
         "337",
         "4.07",
         "4.11",
         "2.53"
        ],
        [
         "8",
         "0.22",
         "Fair",
         "E",
         "VS2",
         "65.1",
         "61.0",
         "337",
         "3.87",
         "3.78",
         "2.49"
        ],
        [
         "9",
         "0.23",
         "Very Good",
         "H",
         "VS1",
         "59.4",
         "61.0",
         "338",
         "4.0",
         "4.05",
         "2.39"
        ],
        [
         "10",
         "0.3",
         "Average",
         "J",
         "SI1",
         "64.0",
         "55.0",
         "339",
         "4.25",
         "4.28",
         "2.73"
        ],
        [
         "11",
         "0.23",
         "Ideal",
         "J",
         "VS1",
         "62.8",
         "56.0",
         "340",
         "3.93",
         "3.9",
         "2.46"
        ],
        [
         "12",
         "0.22",
         "Premium",
         "F",
         "SI1",
         "60.4",
         "61.0",
         "342",
         "3.88",
         "3.84",
         "2.33"
        ],
        [
         "13",
         "0.31",
         "Ideal",
         "J",
         "SI2",
         "62.2",
         "54.0",
         "344",
         "4.35",
         "4.37",
         "2.71"
        ],
        [
         "14",
         "0.2",
         "Premium",
         "E",
         "SI2",
         "60.2",
         "62.0",
         "345",
         "3.79",
         "3.75",
         "2.27"
        ],
        [
         "15",
         "0.32",
         "Premium",
         "E",
         "I1",
         "60.9",
         "58.0",
         "345",
         "4.38",
         "4.42",
         "2.68"
        ],
        [
         "16",
         "0.3",
         "Ideal",
         "I",
         "SI2",
         "62.0",
         "54.0",
         "348",
         "4.31",
         "4.34",
         "2.68"
        ],
        [
         "17",
         "0.3",
         "Average",
         "J",
         "SI1",
         "63.4",
         "54.0",
         "351",
         "4.23",
         "4.29",
         "2.7"
        ],
        [
         "18",
         "0.3",
         "Average",
         "J",
         "SI1",
         "63.8",
         "56.0",
         "351",
         "4.23",
         "4.26",
         "2.71"
        ],
        [
         "19",
         "0.3",
         "Very Good",
         "J",
         "SI1",
         "62.7",
         "59.0",
         "351",
         "4.21",
         "4.27",
         "2.66"
        ],
        [
         "20",
         "0.3",
         "Average",
         "I",
         "SI2",
         "63.3",
         "56.0",
         "351",
         "4.26",
         "4.3",
         "2.71"
        ],
        [
         "21",
         "0.23",
         "Very Good",
         "E",
         "VS2",
         "63.8",
         "55.0",
         "352",
         "3.85",
         "3.92",
         "2.48"
        ],
        [
         "22",
         "0.23",
         "Very Good",
         "H",
         "VS1",
         "61.0",
         "57.0",
         "353",
         "3.94",
         "3.96",
         "2.41"
        ],
        [
         "23",
         "0.31",
         "Very Good",
         "J",
         "SI1",
         "59.4",
         "62.0",
         "353",
         "4.39",
         "4.43",
         "2.62"
        ],
        [
         "24",
         "0.31",
         "Very Good",
         "J",
         "SI1",
         "58.1",
         "62.0",
         "353",
         "4.44",
         "4.47",
         "2.59"
        ],
        [
         "25",
         "0.23",
         "Very Good",
         "G",
         "VVS2",
         "60.4",
         "58.0",
         "354",
         "3.97",
         "4.01",
         "2.41"
        ],
        [
         "26",
         "0.24",
         "Premium",
         "I",
         "VS1",
         "62.5",
         "57.0",
         "355",
         "3.97",
         "3.94",
         "2.47"
        ],
        [
         "27",
         "0.3",
         "Very Good",
         "J",
         "VS2",
         "62.2",
         "57.0",
         "357",
         "4.28",
         "4.3",
         "2.67"
        ],
        [
         "28",
         "0.23",
         "Very Good",
         "D",
         "VS2",
         "60.5",
         "61.0",
         "357",
         "3.96",
         "3.97",
         "2.4"
        ],
        [
         "29",
         "0.23",
         "Very Good",
         "F",
         "VS1",
         "60.9",
         "57.0",
         "357",
         "3.96",
         "3.99",
         "2.42"
        ],
        [
         "30",
         "0.23",
         "Very Good",
         "F",
         "VS1",
         "60.0",
         "57.0",
         "402",
         "4.0",
         "4.03",
         "2.41"
        ],
        [
         "31",
         "0.23",
         "Very Good",
         "F",
         "VS1",
         "59.8",
         "57.0",
         "402",
         "4.04",
         "4.06",
         "2.42"
        ],
        [
         "32",
         "0.23",
         "Very Good",
         "E",
         "VS1",
         "60.7",
         "59.0",
         "402",
         "3.97",
         "4.01",
         "2.42"
        ],
        [
         "33",
         "0.23",
         "Very Good",
         "E",
         "VS1",
         "59.5",
         "58.0",
         "402",
         "4.01",
         "4.06",
         "2.4"
        ],
        [
         "34",
         "0.23",
         "Very Good",
         "D",
         "VS1",
         "61.9",
         "58.0",
         "402",
         "3.92",
         "3.96",
         "2.44"
        ],
        [
         "35",
         "0.23",
         "Average",
         "F",
         "VS1",
         "58.2",
         "59.0",
         "402",
         "4.06",
         "4.08",
         "2.37"
        ],
        [
         "36",
         "0.23",
         "Average",
         "E",
         "VS1",
         "64.1",
         "59.0",
         "402",
         "3.83",
         "3.85",
         "2.46"
        ],
        [
         "37",
         "0.31",
         "Average",
         "H",
         "SI1",
         "64.0",
         "54.0",
         "402",
         "4.29",
         "4.31",
         "2.75"
        ],
        [
         "38",
         "0.26",
         "Very Good",
         "D",
         "VS2",
         "60.8",
         "59.0",
         "403",
         "4.13",
         "4.16",
         "2.52"
        ],
        [
         "39",
         "0.33",
         "Ideal",
         "I",
         "SI2",
         "61.8",
         "55.0",
         "403",
         "4.49",
         "4.51",
         "2.78"
        ],
        [
         "40",
         "0.33",
         "Ideal",
         "I",
         "SI2",
         "61.2",
         "56.0",
         "403",
         "4.49",
         "4.5",
         "2.75"
        ],
        [
         "41",
         "0.33",
         "Ideal",
         "J",
         "SI1",
         "61.1",
         "56.0",
         "403",
         "4.49",
         "4.55",
         "2.76"
        ],
        [
         "42",
         "0.26",
         "Average",
         "D",
         "VS2",
         "65.2",
         "56.0",
         "403",
         "3.99",
         "4.02",
         "2.61"
        ],
        [
         "43",
         "0.26",
         "Average",
         "D",
         "VS1",
         "58.4",
         "63.0",
         "403",
         "4.19",
         "4.24",
         "2.46"
        ],
        [
         "44",
         "0.32",
         "Average",
         "H",
         "SI2",
         "63.1",
         "56.0",
         "403",
         "4.34",
         "4.37",
         "2.75"
        ],
        [
         "45",
         "0.29",
         "Premium",
         "F",
         "SI1",
         "62.4",
         "58.0",
         "403",
         "4.24",
         "4.26",
         "2.65"
        ],
        [
         "46",
         "0.32",
         "Very Good",
         "H",
         "SI2",
         "61.8",
         "55.0",
         "403",
         "4.35",
         "4.42",
         "2.71"
        ],
        [
         "47",
         "0.32",
         "Average",
         "H",
         "SI2",
         "63.8",
         "56.0",
         "403",
         "4.36",
         "4.38",
         "2.79"
        ],
        [
         "48",
         "0.25",
         "Very Good",
         "E",
         "VS2",
         "63.3",
         "60.0",
         "404",
         "4.0",
         "4.03",
         "2.54"
        ],
        [
         "49",
         "0.29",
         "Very Good",
         "H",
         "SI2",
         "60.7",
         "60.0",
         "404",
         "4.33",
         "4.37",
         "2.64"
        ]
       ],
       "shape": {
        "columns": 10,
        "rows": 53940
       }
      },
      "text/html": [
       "<div>\n",
       "<style scoped>\n",
       "    .dataframe tbody tr th:only-of-type {\n",
       "        vertical-align: middle;\n",
       "    }\n",
       "\n",
       "    .dataframe tbody tr th {\n",
       "        vertical-align: top;\n",
       "    }\n",
       "\n",
       "    .dataframe thead th {\n",
       "        text-align: right;\n",
       "    }\n",
       "</style>\n",
       "<table border=\"1\" class=\"dataframe\">\n",
       "  <thead>\n",
       "    <tr style=\"text-align: right;\">\n",
       "      <th></th>\n",
       "      <th>carat</th>\n",
       "      <th>cut</th>\n",
       "      <th>color</th>\n",
       "      <th>clarity</th>\n",
       "      <th>depth</th>\n",
       "      <th>table</th>\n",
       "      <th>price</th>\n",
       "      <th>length</th>\n",
       "      <th>width</th>\n",
       "      <th>height</th>\n",
       "    </tr>\n",
       "  </thead>\n",
       "  <tbody>\n",
       "    <tr>\n",
       "      <th>0</th>\n",
       "      <td>0.23</td>\n",
       "      <td>Ideal</td>\n",
       "      <td>E</td>\n",
       "      <td>SI2</td>\n",
       "      <td>61.5</td>\n",
       "      <td>55.0</td>\n",
       "      <td>326</td>\n",
       "      <td>3.95</td>\n",
       "      <td>3.98</td>\n",
       "      <td>2.43</td>\n",
       "    </tr>\n",
       "    <tr>\n",
       "      <th>1</th>\n",
       "      <td>0.21</td>\n",
       "      <td>Premium</td>\n",
       "      <td>E</td>\n",
       "      <td>SI1</td>\n",
       "      <td>59.8</td>\n",
       "      <td>61.0</td>\n",
       "      <td>326</td>\n",
       "      <td>3.89</td>\n",
       "      <td>3.84</td>\n",
       "      <td>2.31</td>\n",
       "    </tr>\n",
       "    <tr>\n",
       "      <th>2</th>\n",
       "      <td>0.23</td>\n",
       "      <td>Average</td>\n",
       "      <td>E</td>\n",
       "      <td>VS1</td>\n",
       "      <td>56.9</td>\n",
       "      <td>65.0</td>\n",
       "      <td>327</td>\n",
       "      <td>4.05</td>\n",
       "      <td>4.07</td>\n",
       "      <td>2.31</td>\n",
       "    </tr>\n",
       "    <tr>\n",
       "      <th>3</th>\n",
       "      <td>0.29</td>\n",
       "      <td>Premium</td>\n",
       "      <td>I</td>\n",
       "      <td>VS2</td>\n",
       "      <td>62.4</td>\n",
       "      <td>58.0</td>\n",
       "      <td>334</td>\n",
       "      <td>4.20</td>\n",
       "      <td>4.23</td>\n",
       "      <td>2.63</td>\n",
       "    </tr>\n",
       "    <tr>\n",
       "      <th>4</th>\n",
       "      <td>0.31</td>\n",
       "      <td>Average</td>\n",
       "      <td>J</td>\n",
       "      <td>SI2</td>\n",
       "      <td>63.3</td>\n",
       "      <td>58.0</td>\n",
       "      <td>335</td>\n",
       "      <td>4.34</td>\n",
       "      <td>4.35</td>\n",
       "      <td>2.75</td>\n",
       "    </tr>\n",
       "    <tr>\n",
       "      <th>...</th>\n",
       "      <td>...</td>\n",
       "      <td>...</td>\n",
       "      <td>...</td>\n",
       "      <td>...</td>\n",
       "      <td>...</td>\n",
       "      <td>...</td>\n",
       "      <td>...</td>\n",
       "      <td>...</td>\n",
       "      <td>...</td>\n",
       "      <td>...</td>\n",
       "    </tr>\n",
       "    <tr>\n",
       "      <th>53935</th>\n",
       "      <td>0.72</td>\n",
       "      <td>Ideal</td>\n",
       "      <td>D</td>\n",
       "      <td>SI1</td>\n",
       "      <td>60.8</td>\n",
       "      <td>57.0</td>\n",
       "      <td>2757</td>\n",
       "      <td>5.75</td>\n",
       "      <td>5.76</td>\n",
       "      <td>3.50</td>\n",
       "    </tr>\n",
       "    <tr>\n",
       "      <th>53936</th>\n",
       "      <td>0.72</td>\n",
       "      <td>Average</td>\n",
       "      <td>D</td>\n",
       "      <td>SI1</td>\n",
       "      <td>63.1</td>\n",
       "      <td>55.0</td>\n",
       "      <td>2757</td>\n",
       "      <td>5.69</td>\n",
       "      <td>5.75</td>\n",
       "      <td>3.61</td>\n",
       "    </tr>\n",
       "    <tr>\n",
       "      <th>53937</th>\n",
       "      <td>0.70</td>\n",
       "      <td>Very Good</td>\n",
       "      <td>D</td>\n",
       "      <td>SI1</td>\n",
       "      <td>62.8</td>\n",
       "      <td>60.0</td>\n",
       "      <td>2757</td>\n",
       "      <td>5.66</td>\n",
       "      <td>5.68</td>\n",
       "      <td>3.56</td>\n",
       "    </tr>\n",
       "    <tr>\n",
       "      <th>53938</th>\n",
       "      <td>0.86</td>\n",
       "      <td>Premium</td>\n",
       "      <td>H</td>\n",
       "      <td>SI2</td>\n",
       "      <td>61.0</td>\n",
       "      <td>58.0</td>\n",
       "      <td>2757</td>\n",
       "      <td>6.15</td>\n",
       "      <td>6.12</td>\n",
       "      <td>3.74</td>\n",
       "    </tr>\n",
       "    <tr>\n",
       "      <th>53939</th>\n",
       "      <td>0.75</td>\n",
       "      <td>Ideal</td>\n",
       "      <td>D</td>\n",
       "      <td>SI2</td>\n",
       "      <td>62.2</td>\n",
       "      <td>55.0</td>\n",
       "      <td>2757</td>\n",
       "      <td>5.83</td>\n",
       "      <td>5.87</td>\n",
       "      <td>3.64</td>\n",
       "    </tr>\n",
       "  </tbody>\n",
       "</table>\n",
       "<p>53940 rows × 10 columns</p>\n",
       "</div>"
      ],
      "text/plain": [
       "       carat        cut color clarity  depth  table  price  length  width  \\\n",
       "0       0.23      Ideal     E     SI2   61.5   55.0    326    3.95   3.98   \n",
       "1       0.21    Premium     E     SI1   59.8   61.0    326    3.89   3.84   \n",
       "2       0.23    Average     E     VS1   56.9   65.0    327    4.05   4.07   \n",
       "3       0.29    Premium     I     VS2   62.4   58.0    334    4.20   4.23   \n",
       "4       0.31    Average     J     SI2   63.3   58.0    335    4.34   4.35   \n",
       "...      ...        ...   ...     ...    ...    ...    ...     ...    ...   \n",
       "53935   0.72      Ideal     D     SI1   60.8   57.0   2757    5.75   5.76   \n",
       "53936   0.72    Average     D     SI1   63.1   55.0   2757    5.69   5.75   \n",
       "53937   0.70  Very Good     D     SI1   62.8   60.0   2757    5.66   5.68   \n",
       "53938   0.86    Premium     H     SI2   61.0   58.0   2757    6.15   6.12   \n",
       "53939   0.75      Ideal     D     SI2   62.2   55.0   2757    5.83   5.87   \n",
       "\n",
       "       height  \n",
       "0        2.43  \n",
       "1        2.31  \n",
       "2        2.31  \n",
       "3        2.63  \n",
       "4        2.75  \n",
       "...       ...  \n",
       "53935    3.50  \n",
       "53936    3.61  \n",
       "53937    3.56  \n",
       "53938    3.74  \n",
       "53939    3.64  \n",
       "\n",
       "[53940 rows x 10 columns]"
      ]
     },
     "execution_count": 52,
     "metadata": {},
     "output_type": "execute_result"
    }
   ],
   "source": [
    "# Add your code here\n",
    "df.rename(columns={'x': 'length', 'y': 'width', 'z': 'height'}, inplace=True)\n",
    "df\n",
    "\n"
   ]
  }
 ],
 "metadata": {
  "kernelspec": {
   "display_name": ".venv",
   "language": "python",
   "name": "python3"
  },
  "language_info": {
   "codemirror_mode": {
    "name": "ipython",
    "version": 3
   },
   "file_extension": ".py",
   "mimetype": "text/x-python",
   "name": "python",
   "nbconvert_exporter": "python",
   "pygments_lexer": "ipython3",
   "version": "3.9.6"
  }
 },
 "nbformat": 4,
 "nbformat_minor": 5
}
