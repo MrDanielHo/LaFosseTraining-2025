{
 "cells": [
  {
   "cell_type": "markdown",
   "metadata": {},
   "source": [
    "# Introduction to Testing & DOM Testing\n",
    "Smallest to largest testing       \n",
    "1. End-to-end\n",
    "2. Integation \n",
    "3. Unit testing\n",
    "\n",
    "## Test Driven Development\n",
    "1. Write an empty repository\n",
    "2. Define a test\n",
    "3. Write code. Does it pass or fail?\n",
    "    * Write code until you pass\n",
    "4. Write more tests.\n",
    "5. Write mote code. Does it pass or fail?\n",
    "\n",
    "The tests and code will have been rigerously tested.\n",
    "\n",
    "\n",
    "To install the testing package jestjs.io:\n",
    "```\n",
    "frontend-testing/\n",
    "npm i -D jest\n",
    "```\n",
    "\n",
    "In side package.json include the line:\n",
    "```js\n",
    "\"scripts\":{\n",
    "    \"test\": \"jest\"}\n",
    "```\n",
    "\n",
    "It will automatically run test files that contain test.\n",
    "\n",
    "Run the below to start testing\n",
    "```\n",
    "npm test\n",
    "```\n",
    "\n",
    "\n",
    "Arrange, Act, Assert\n",
    "\n",
    "\n",
    "Dependancy:\n",
    "```\n",
    "npm i -D jest-each\n",
    "```\n",
    "\n",
    "\n",
    "Do the same but in DOM:\n",
    "```\n",
    "npm i -D jest jsdom\n",
    "```"
   ]
  }
 ],
 "metadata": {
  "language_info": {
   "name": "python"
  }
 },
 "nbformat": 4,
 "nbformat_minor": 2
}
