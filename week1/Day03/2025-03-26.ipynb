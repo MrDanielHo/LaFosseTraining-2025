{
 "cells": [
  {
   "cell_type": "markdown",
   "metadata": {},
   "source": [
    "```\n",
    "git init\n",
    "\n",
    "git status\n",
    "\n",
    "git add .\n",
    "\n",
    "git commit -m \"\"\n",
    "\n",
    "git log\n",
    "\n",
    "git reset --soft\n",
    "git reset --mixed\n",
    "git reset --hard\n",
    "\n",
    "git branch              \\\\ status of branches\n",
    "\n",
    "git branch ...          \\\\ creates a new branch\n",
    "\n",
    "get switch              \\\\ change branch\n",
    "get checkout\n",
    "\n",
    "git switch -c ..        \\\\ creates branch and switches to it\n",
    "\n",
    "git merge ..            \\\\ merges changes from the target branch to the branch you are currently on\n",
    "```\n",
    "\n",
    "imperative mood - when adding commit message, what did the change actually do? e.g. changed font colour.\n",
    "\n",
    "When developing, have a developing/staging branch, then a feature branch where your changes are made.\n",
    "\n",
    "The feature should be ahead of the main and development branch.\n",
    "\n",
    "Pull changes from the development branch into the feature branch so any conflicts exist only in the feature branch.\n",
    "Once fixes are made, you can then push feature branch into the development branch."
   ]
  }
 ],
 "metadata": {
  "language_info": {
   "name": "python"
  }
 },
 "nbformat": 4,
 "nbformat_minor": 2
}
