{
 "cells": [
  {
   "cell_type": "markdown",
   "metadata": {},
   "source": [
    "# Front-end Development: Node/NPM & APIs/Promises/Fetch/Await\n",
    "\n",
    "\n",
    "```\n",
    "week1/node_npm\n",
    "\n",
    "touch {FILENAME01,FILENAME02}.EXTENSION\n",
    "```\n",
    "Use the above code to create two files of the same file extension.\n",
    "\n",
    "\n",
    "With one function\n",
    "```js\n",
    "// in a function script\n",
    "module.exports = function1\n",
    "\n",
    "// Export script\n",
    "function1()\n",
    "```\n",
    "\n",
    "\n",
    "With 2 or more functions\n",
    "```js\n",
    "// in a function script\n",
    "module.exports = {\n",
    "    function1,\n",
    "    function2\n",
    "}\n",
    "\n",
    "// Export script\n",
    "object.function1\n",
    "\n",
    "\n",
    "// Alternative\n",
    "const {function1, function 2} = require(\"./jsFunctionScript\")\n",
    "\n",
    "clg(function1)\n",
    "clg(function2)\n",
    "```\n",
    "\n",
    "\n",
    "To install package.json via Node Package Manager (npm)\n",
    "```cmd\n",
    "npm init -y\n",
    "```\n",
    "\n",
    "Installing a bundler on the front end\n",
    "```\n",
    "npm i -D watchify\n",
    "```"
   ]
  }
 ],
 "metadata": {
  "language_info": {
   "name": "python"
  }
 },
 "nbformat": 4,
 "nbformat_minor": 2
}
