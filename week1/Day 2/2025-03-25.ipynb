{
 "cells": [
  {
   "cell_type": "markdown",
   "metadata": {},
   "source": [
    "# Bootstrap, Command Line, JavaScript Essentials\n",
    "## Bootstrap\n",
    "www.getbootstrap.com\n",
    "\n",
    "Used for building responsive websites.\n",
    "\n",
    "In CSS there are Media queries - which relates to changing websites for mobile, websites, etc.\n",
    "\n",
    "Bootstrap alleviates this, Tailwind is an alternative as well.\n",
    "\n",
    "\n",
    "To include bootstrap to a website include the below lines in html\n",
    "\n",
    "```html\n",
    "<!-- In <head> add: -->\n",
    "<link href=\"https://cdn.jsdelivr.net/npm/bootstrap@5.3.3/dist/css/bootstrap.min.css\" rel=\"stylesheet\" integrity=\"sha384-QWTKZyjpPEjISv5WaRU9OFeRpok6YctnYmDr5pNlyT2bRjXh0JMhjY6hW+ALEwIH\" crossorigin=\"anonymous\">\n",
    "\n",
    "<!-- In <body> add: -->\n",
    "<script src=\"https://cdn.jsdelivr.net/npm/bootstrap@5.3.3/dist/js/bootstrap.bundle.min.js\" integrity=\"sha384-YvpcrYf0tY3lHB60NNkmXc5s9fDVZLESaAA55NDzOxhy9GkcIdslK1eN7N6jIeHz\" crossorigin=\"anonymous\"></script>\n",
    "```\n",
    "\n",
    "https://www.w3schools.com/bootstrap/bootstrap_grid_system.asp\n",
    "Boot strap can divide the page into 12 columns and infintie rows."
   ]
  },
  {
   "cell_type": "markdown",
   "metadata": {},
   "source": [
    "### Bootstrap exercise\n",
    "Customise the html with bootstrap to match the example page."
   ]
  },
  {
   "cell_type": "markdown",
   "metadata": {},
   "source": [
    "## Command Line Interface\n",
    "MacOS: Terminal\n",
    "Windows: gitbash\n",
    "\n",
    "CLI is useful for cloud and devops.\n",
    "\n",
    "Commands:\n",
    "```\n",
    "ls          // list\n",
    "cd          // change directory\n",
    "clear       // wipe the terminal\n",
    "ls -a       // an option that shows hidden files.\n",
    "cd ..       // change directory to a higher level folder\n",
    "man ls      // view the manual of ls\n",
    "mkdir       // make directory\n",
    "touch       // create a new file\n",
    "pwd         // print working directory, shows the absolute path\n",
    "rm          // remove a file from current folder.\n",
    "rm -rf      // recursively delete everything in the folder\n",
    "mv          // move 1st arguement to 2nd argument (target destination)\n",
    "cp          // copy 1st arguement to 2nd argument (target destination)\n",
    "echo        // takes an input and logs it to the console\n",
    "echo .. >   // takes the text and inserts it into a file\n",
    "cat ..      // reads the contents of the file.\n",
    "curl        // client URL, requests information from a website.\n",
    "code        // opens the first arguement in VSC\n",
    "nano        // opens nano text editor\n",
    "```\n",
    "\n"
   ]
  }
 ],
 "metadata": {
  "language_info": {
   "name": "python"
  }
 },
 "nbformat": 4,
 "nbformat_minor": 2
}
