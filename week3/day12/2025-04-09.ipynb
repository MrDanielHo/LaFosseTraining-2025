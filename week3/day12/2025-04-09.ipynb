{
 "cells": [
  {
   "cell_type": "markdown",
   "metadata": {},
   "source": [
    "# Databases - part II\n",
    "## Data Modeling\n",
    "The process of designing & planning a database structure.\n",
    "\n",
    "[**Normalisation**](https://www.geeksforgeeks.org/introduction-of-database-normalization/)<br>\n",
    "The primary objective for normalizing the relations is to eliminate the below anomalies. Failure to reduce anomalies results in data redundancy, which may threaten data integrity and cause additional issues as the database increases. Normalization consists of a set of procedures that assist you in developing an effective database structure.\n",
    "* *Insertion Anomalies*: Insertion anomalies occur when it is not possible to insert data into a database because the required fields are missing or because the data is incomplete.\n",
    "    * E.g. if a database requires that every record has a primary key, but no value is provided for a particular record, it cannot be inserted into the database.\n",
    "* *Deletion anomalies*: Deletion anomalies occur when deleting a record from a database and can result in the unintentional loss of data.\n",
    "    * E.g. if a database contains information about customers and orders, deleting a customer record may also delete all the orders associated with that customer.\n",
    "* *Updation anomalies*: Updation anomalies occur when modifying data in a database and can result in inconsistencies or errors. \n",
    "    * E.g. if a database contains information about employees and their salaries, updating an employee’s salary in one record but not in all related records could lead to incorrect calculations and reporting."
   ]
  },
  {
   "cell_type": "markdown",
   "metadata": {},
   "source": [
    "### Princess Knights Dragons\n",
    "Develop the best data model you can (in the form of an ERD - no code allowed) to track the dragon-knight-princess ecosystem\n",
    "These interactions are only superficially so simple:\n",
    "* Sometimes knights fail\n",
    "* Sometimes a dragon will abduct more than one princess (sequentially or concurrently)\n",
    "* Sometimes a dragon is a troll, or a knight a prince, or a princess a goose girl\n",
    "* Sometimes a princess will do the rescuing (shame on you for not even considering that)\n",
    "* A princess (or knight, or dragon) might be involved in such interactions multiple times\n",
    "* Abductions imply a change in location\n",
    " "
   ]
  },
  {
   "cell_type": "markdown",
   "metadata": {},
   "source": [
    "## Manipulating Databases\n",
    "pjt:    SQL_1\n",
    "pw:     cygcan-wywgu4-qYsqyj\n"
   ]
  },
  {
   "cell_type": "markdown",
   "metadata": {},
   "source": [
    "\n",
    "We create a `flavour` table:\n",
    "```sql\n",
    "CREATE TABLE flavour (\n",
    "  flavour_id INT GENERATED ALWAYS AS identity,\n",
    "  flavour_name VARCHAR(30) NOT NULL,\n",
    "  vegan boolean default false,\n",
    "  primary key(flavour_id)\n",
    ");\n",
    "```\n"
   ]
  },
  {
   "cell_type": "markdown",
   "metadata": {},
   "source": [
    "\n",
    "To populate our data we do the following:\n",
    "```sql\n",
    "INSERT INTO flavour (\n",
    "  flavour_name,\n",
    "  vegan\n",
    ") VALUES (\n",
    "  'strawberry',\n",
    " TRUE\n",
    ");\n",
    "```\n"
   ]
  },
  {
   "cell_type": "markdown",
   "metadata": {},
   "source": [
    "\n",
    "To populate more than one row into the table:\n",
    "```sql\n",
    "INSERT INTO flavour (flavour_name)\n",
    "VALUES \n",
    "  ('chocolate'),\n",
    "  ('toffee'),\n",
    "  ('pistachio'),\n",
    "  ('rocky_road'),\n",
    "  ('cardamon'),\n",
    "  ('salted caramel'),\n",
    "  ('salmon');\n",
    "```\n"
   ]
  },
  {
   "cell_type": "markdown",
   "metadata": {},
   "source": [
    "\n",
    "To delete a row:\n",
    "```sql\n",
    "DELETE FROM flavour\n",
    "WHERE flavour_name = 'salmon';\n",
    "```\n"
   ]
  },
  {
   "cell_type": "markdown",
   "metadata": {},
   "source": [
    "To update a row\n",
    "```sql\n",
    "UPDATE flavour\n",
    "SET vegan = true\n",
    "WHERE flavour_name = 'pistachio'\n",
    "RETURNING *;\n",
    "```\n"
   ]
  },
  {
   "cell_type": "markdown",
   "metadata": {},
   "source": [
    "Create a `customer_order` table\n",
    "```sql\n",
    "CREATE TABLE customer_order (\n",
    "  order_id INT GENERATED ALWAYS AS IDENTITY,\n",
    "  customer_name VARCHAR(50) NOT NULL,\n",
    "  flavour_id INT NOT NULL,\n",
    "  scoops INT DEFAULT 1,\n",
    "  PRIMARY KEY (order_id),\n",
    "  FOREIGN KEY (flavour_id) REFERENCES flavour(flavour_id)\n",
    ");\n",
    "```\n"
   ]
  },
  {
   "cell_type": "markdown",
   "metadata": {},
   "source": [
    "Insert a customer into the customer_table\n",
    "```sql\n",
    "INSERT INTO customer_order (customer_name, flavour_id, scoops)\n",
    "VALUES ('Nancy', 1, 3);\n",
    "```\n"
   ]
  },
  {
   "cell_type": "markdown",
   "metadata": {},
   "source": [
    "\n",
    "We get an error with the below because we do not have `flavour_id 36`\n",
    "```sql\n",
    "INSERT INTO  customer_order (customer_name, flavour_id, scoops)\n",
    "VALUES ('Max', 36, 2)\n",
    "```\n"
   ]
  },
  {
   "cell_type": "markdown",
   "metadata": {},
   "source": [
    "\n",
    "We correct this with the below\n",
    "```sql\n",
    "INSERT INTO  customer_order (customer_name, flavour_id, scoops)\n",
    "VALUES ('Max', 6, 2);\n",
    "```\n"
   ]
  },
  {
   "cell_type": "markdown",
   "metadata": {},
   "source": [
    "\n",
    "To see what the flavour the customer ordered, we use the below SELECT and JOIN\n",
    "```sql\n",
    "SELECT C.customer_name, F.flavour_name\n",
    "FROM customer_order AS C\n",
    "LEFT JOIN flavour AS F\n",
    "ON (C.flavour_id = F.flavour_id)\n",
    "```"
   ]
  },
  {
   "cell_type": "markdown",
   "metadata": {},
   "source": [
    "\n",
    "## Connecting to Databases\n"
   ]
  },
  {
   "cell_type": "markdown",
   "metadata": {},
   "source": [
    "## Security & Auth Concepts\n"
   ]
  },
  {
   "cell_type": "markdown",
   "metadata": {},
   "source": [
    "## Implementing Auth\n"
   ]
  },
  {
   "cell_type": "markdown",
   "metadata": {},
   "source": [
    "## Extending Auth"
   ]
  }
 ],
 "metadata": {
  "language_info": {
   "name": "python"
  }
 },
 "nbformat": 4,
 "nbformat_minor": 2
}
