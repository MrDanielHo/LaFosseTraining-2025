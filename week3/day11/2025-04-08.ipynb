{
 "cells": [
  {
   "cell_type": "markdown",
   "metadata": {},
   "source": [
    "# Backend Development - part II:\n",
    "## Deploy an API\n",
    "\n",
    "To setup an environment: `touch .env`\n",
    "\n",
    "To install via node: `npm i dotenv`\n",
    "\n",
    "Include in index.js:\n",
    "```js\n",
    "require('dotenv').config()\n",
    "const port = process.env.PORT\n",
    "```\n",
    "\n",
    "Include in the Environmental Variables:\n",
    "`PORT   3000`"
   ]
  },
  {
   "cell_type": "markdown",
   "metadata": {},
   "source": [
    "## Connect the backend to the frontend\n",
    "### Backend\n",
    "[Cross-origin resource sharing (CORS)](https://developer.mozilla.org/en-US/docs/Web/HTTP/Guides/CORS)\n",
    "\n",
    "`npm - i cors`\n",
    "\n",
    "inside `app.js`\n",
    "```js\n",
    "const cors = require('cors')\n",
    "\n",
    "app.use(cors())\n",
    "```\n",
    "\n",
    "it already has inbuilt `next` to allow the rest of the code to be run.\n",
    "\n"
   ]
  },
  {
   "cell_type": "markdown",
   "metadata": {},
   "source": [
    "### Frontend\n",
    "Install npm on the front end then run as developer\n",
    "```cmd\n",
    "npm -i\n",
    "npm run dev\n",
    "```"
   ]
  },
  {
   "cell_type": "markdown",
   "metadata": {},
   "source": [
    "#### Posting to frontend\n",
    "To create a new item to our array we need to do the following:\n"
   ]
  },
  {
   "cell_type": "markdown",
   "metadata": {},
   "source": [
    "\n",
    "In the HTML:\n",
    "```html\n",
    "<section>\n",
    "    <form if=\"create-form\">\n",
    "        <input type=\"text\" id=\"fruitInput\" name=\"fruit\" placeholder=\"name\">\n",
    "        <input type=\"submit\" value=\"Create\">\n",
    "    </form>\n",
    "</section>\n",
    "```\n"
   ]
  },
  {
   "cell_type": "markdown",
   "metadata": {},
   "source": [
    "\n",
    "In the script.js\n",
    "```js\n",
    "const createForm = document.querySelector('#create-form')\n",
    "\n",
    "createForm.addEventListener('submit', createNewFruit)\n",
    "\n",
    "async function createNewFruit(e) {\n",
    "    e.preventDefault()\n",
    "    \n",
    "    const data = {name: e.target.fruitInput.value}\n",
    "    \n",
    "    const options = {\n",
    "        method: 'POST',\n",
    "        headers: {\n",
    "            'Content-Type': 'application/json'\n",
    "        },\n",
    "        body: JSON.stringify(data)\n",
    "    }\n",
    "    const response = await fetch(`https://fruits-ripen-at-home.onrender.com/fruits/`, options);\n",
    "    console.log(\"hello\")\n",
    "\n",
    "    let messageStatus = document.querySelector('#message')\n",
    "    if (response.status === 201) {\n",
    "        e.target.fruitInput.value = ''\n",
    "        messageStatus.textContent = 'Fruit successfully created.'\n",
    "        setTimeout(() => {\n",
    "            message.Status.textContent = ''\n",
    "        }, 4000)\n",
    "    } else {\n",
    "        e.target.fruitInput.value = ''\n",
    "        messageStatus.textContent = 'This fruit already exists. Please try another one!'\n",
    "        \n",
    "        setTimeout (() => {\n",
    "            messageStatus.textContent = ''\n",
    "        }, 4000)\n",
    "    }\n",
    "}\n",
    "```\n"
   ]
  },
  {
   "cell_type": "markdown",
   "metadata": {},
   "source": [
    "## Challenges\n",
    "* Implement `PATCH` and `DELETE` fetch requests on the frontend\n",
    "* You will need to add new UI functionality using **HTML** & **JS**, in order to make your fetch requests work\n",
    "* Push your changes to your Github frontend repo\n",
    "\n",
    "### `PATCH`\n",
    "To update a fruit, we need 3 parameters:\n",
    "1. The original fruit name,\n",
    "2. The new fruit name, and\n",
    "3. The new family name\n",
    "\n",
    "**HTML**\n",
    "I have added 3 inputs for the original name, new name, and the new family name.\n",
    "```html\n",
    "<section>\n",
    "    <form id=\"patch-form\">\n",
    "        <input type=\"text\" id=\"originalInput\" name=\"fruit\" placeholder=\"fruit name\">\n",
    "        <input type=\"text\" id=\"fruitInput\" name=\"fruit\" placeholder=\"new fruit name\">\n",
    "        <input type=\"text\" id=\"familyInput\" name=\"fruit\" placeholder=\"family name\">\n",
    "        <input type=\"submit\" value=\"Patch\">\n",
    "    </form>\n",
    "</section>\n",
    "```\n",
    "\n",
    "**JavaScript**\n",
    "Looking at `models/Fruits.js`:\n",
    "```js\n",
    "update(data) {\n",
    "    const updatedFruit = fruits.find(\n",
    "        fruit => fruit.name.toLowerCase() === this.name.toLowerCase()\n",
    "        );\n",
    "\n",
    "    if (updatedFruit) {\n",
    "        updatedFruit.name = data.name;\n",
    "        updatedFruit.family = data.family;\n",
    "        return new Fruit(updatedFruit);\n",
    "    } else {\n",
    "        throw \"Fruit not found\";\n",
    "    }\n",
    "};\n",
    "```\n"
   ]
  },
  {
   "cell_type": "markdown",
   "metadata": {},
   "source": [
    "## Intro to Databases\n",
    "SKILLS CHECK\n",
    "\n",
    "Entity-Relationship Diagrams"
   ]
  },
  {
   "cell_type": "markdown",
   "metadata": {},
   "source": [
    "## Querying Syntax\n",
    "password for database roTV33XBbb7rpSoG\n",
    "\n",
    "```sql\n",
    "SELECT [columns]    - AS, DISTINCT, MIN, MAX, COUNT, SUM\n",
    "FROM [table]        - AS\n",
    "WHERE [filter]      - AND, OR, IN, NOT, LIKE, BETWEEN\n",
    "GROUP BY [columns]\n",
    "ORDER BY [columns]  - DESC\n",
    "LIMIT [number]\n",
    "```\n"
   ]
  },
  {
   "cell_type": "markdown",
   "metadata": {},
   "source": [
    "\n",
    "To connect to tables we use `JOIN`:\n",
    "```sql\n",
    "select *\n",
    "FROM products\n",
    "LEFT JOIN suppliers\n",
    "ON (products.supplier_id = suppliers.supplier_id) \n",
    "```\n",
    "Everything from the `products` that match on `suppliers` will be output.<br>\n",
    "`ON` relates to foreign key on `products.suppier_id` and the primary key `suppliers.supplier_id`.\n"
   ]
  },
  {
   "cell_type": "markdown",
   "metadata": {},
   "source": [
    "We can use `AS` to rename the different tables to be used in query:\n",
    "```sql\n",
    "select P.product name, S.company_name\n",
    "FROM products AS P\n",
    "LEFT JOIN suppliers AS S\n",
    "ON (P.supplier_id = S.supplier_id) \n",
    "```"
   ]
  },
  {
   "cell_type": "markdown",
   "metadata": {},
   "source": [
    "## SQL challenges"
   ]
  }
 ],
 "metadata": {
  "language_info": {
   "name": "python"
  }
 },
 "nbformat": 4,
 "nbformat_minor": 2
}
