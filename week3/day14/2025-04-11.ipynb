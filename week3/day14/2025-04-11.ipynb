{
 "cells": [
  {
   "cell_type": "markdown",
   "metadata": {},
   "source": [
    "# Building an End-to-end Project\n",
    "## Work flow of an API call\n",
    "RESTFUL Routing\n",
    "1. CLIENT sends REQUEST\n",
    "2. APP.js then gets ROUTED.js\n",
    "3. ROUTED.js sends data to the CONTROLLER.js\n",
    "4. CONTROLLER requests the data MODEL.js\n",
    "5. MODEL.js searchs DATABASE\n",
    "6. DATABASE sends back information back to MODEL.js\n",
    "7. MODEL.js sends data to CONTROLLER.js\n",
    "8. CONTROLLER.js sends RESPONSE back to the CLIENT\n",
    "\n",
    "MODEL $\\Rightarrow$ CONTROLLER $\\Rightarrow$ ROUTER"
   ]
  },
  {
   "cell_type": "markdown",
   "metadata": {},
   "source": [
    "\n",
    "## Set up\n",
    "Create the folder `end-to-end`\n",
    "```bash\n",
    "mkdir end-to-end\n",
    "cd end-to-end\n",
    "```"
   ]
  },
  {
   "cell_type": "markdown",
   "metadata": {},
   "source": [
    "Install Git\n",
    "```bash\n",
    "git init\n",
    "```\n",
    "\n"
   ]
  },
  {
   "cell_type": "markdown",
   "metadata": {},
   "source": [
    "Install Node Package Manager\n",
    "```bash\n",
    "npm init -y\n",
    "```\n"
   ]
  },
  {
   "cell_type": "markdown",
   "metadata": {},
   "source": [
    "Create a .gitignore file\n",
    "```bash\n",
    "touch .gitignore\n",
    "```\n",
    "And include the following:\n",
    "```txt\n",
    "node_modules\n",
    ".env\n",
    "```"
   ]
  },
  {
   "cell_type": "markdown",
   "metadata": {},
   "source": [
    "\n",
    "Create a .env file\n",
    "```bash\n",
    "touch .env\n",
    "```"
   ]
  },
  {
   "cell_type": "markdown",
   "metadata": {},
   "source": [
    "Install the following for building an API\n",
    "```bash\n",
    "npm i -D nodemon\n",
    "npm i express cors dotenv pg\n",
    "```\n",
    "\n",
    "We can install the package:\n",
    "```bash\n",
    "npm pkg set scripts.dev=\"nodemon -L server/index.js\"\n",
    "```"
   ]
  },
  {
   "cell_type": "markdown",
   "metadata": {},
   "source": [
    "## Database\n",
    "### Setting the database up\n",
    "Build the database (ERD) first, as it builds \n",
    "```bash\n",
    "mkdir server\n",
    "cd server\n",
    "mkdir db\n",
    "cd db\n",
    "touch countries.sql\n",
    "```"
   ]
  },
  {
   "cell_type": "markdown",
   "metadata": {},
   "source": [
    "### Creating the database\n",
    "```sql\n",
    "DROP TABLE IF EXISTS country;\n",
    "\n",
    "CREATE TABLE country (\n",
    "    country_id INT GENERATED ALWAYS AS IDENTITY,\n",
    "    name VARCHAR(100) NOT NULL,\n",
    "    capital VARCHAR(100) NOT NULL,\n",
    "    population INT NOT NULL,\n",
    "    languages VARCHAR(100) NOT NULL,\n",
    "    fun_fact VARCHAR(255),\n",
    "    map_image_url VARCHAR(255),\n",
    "    PRIMARY KEY (country_id)\n",
    ");\n",
    "\n",
    "INSERT INTO country (name, capital, population, languages, fun_fact, map_image_url)\n",
    "VALUES\n",
    "  ('Brazil', 'Brasília', 212559417, 'Portuguese', 'Brazil is the fifth largest country in the world by both land area and population.', 'https://upload.wikimedia.org/wikipedia/commons/thumb/0/05/Flag_of_Brazil.svg/1200px-Flag_of_Brazil.svg.png'),\n",
    "  ('Mexico', 'Mexico City', 127575529, 'Spanish', 'Mexico is home to the world''s largest pyramid, the Great Pyramid of Cholula.', 'https://upload.wikimedia.org/wikipedia/commons/thumb/f/fc/Flag_of_Mexico.svg/1200px-Flag_of_Mexico.svg.png'),\n",
    "  ('United States', 'Washington, D.C.', 329064917, 'English', 'The United States has the largest economy in the world.', 'https://upload.wikimedia.org/wikipedia/en/thumb/a/a4/Flag_of_the_United_States.svg/1200px-Flag_of_the_United_States.svg.png'),\n",
    "  ('India', 'New Delhi', 1353000000, 'Hindi, English', 'India is the world''s largest democracy.', 'https://upload.wikimedia.org/wikipedia/en/thumb/4/41/Flag_of_India.svg/1200px-Flag_of_India.svg.png'),\n",
    "  ('China', 'Beijing', 1409517397, 'Mandarin', 'China has the world''s largest population.', 'https://upload.wikimedia.org/wikipedia/commons/thumb/f/fa/Flag_of_the_People%27s_Republic_of_China.svg/1200px-Flag_of_the_People%27s_Republic_of_China.svg.png'),\n",
    "  ('Russia', 'Moscow', 145934462, 'Russian', 'Russia is the largest country in the world by land area.', 'https://upload.wikimedia.org/wikipedia/en/thumb/f/f3/Flag_of_Russia.svg/1200px-Flag_of_Russia.svg.png'),\n",
    "  ('Japan', 'Tokyo', 126860301, 'Japanese', 'Japan is home to the world''s largest fish market, Tsukiji Market.', 'https://upload.wikimedia.org/wikipedia/en/thumb/9/9e/Flag_of_Japan.svg/1200px-Flag_of_Japan.svg.png'),\n",
    "  ('South Africa', 'Pretoria', 57779622, 'Afrikaans, English, Zulu, Xhosa, and others', 'South Africa has 11 official languages.', 'https://upload.wikimedia.org/wikipedia/commons/thumb/a/af/Flag_of_South_Africa.svg/1200px-Flag_of_South_Africa.svg.png'),\n",
    "  ('Australia', 'Canberra', 24982688, 'English', 'Australia is the only country that is also a continent.', 'https://upload.wikimedia.org/wikipedia/en/thumb/8/88/Flag_of_Australia.svg/1200px-Flag_of_Australia.svg.png');\n",
    "```"
   ]
  },
  {
   "cell_type": "markdown",
   "metadata": {},
   "source": [
    ".env\n",
    "```text\n",
    "DB_URL=[URL]\n",
    "```"
   ]
  },
  {
   "cell_type": "markdown",
   "metadata": {},
   "source": [
    "Terminal in the `server > db`\n",
    "```bash\n",
    "touch setup.js\n",
    "touch connect.js\n",
    "```\n"
   ]
  },
  {
   "cell_type": "markdown",
   "metadata": {},
   "source": [
    "\n",
    "In setup.js\n",
    "```js\n",
    "require('dotenv').config()\n",
    "const fs = require('fs')\n",
    "\n",
    "const db = require('./connect')\n",
    "\n",
    "const sql = fs.readFileSync('./server/db/countries.sql').toString()\n",
    "\n",
    "db.query(sql)\n",
    "    .then(data => {\n",
    "        db.end('setup complete')\n",
    "    })\n",
    "    .catch (error => console.log(error))\n",
    "```"
   ]
  },
  {
   "cell_type": "markdown",
   "metadata": {},
   "source": [
    "\n",
    "In connect.js - provides the connection between API and database\n",
    "```js\n",
    "const {Pool} = require(\"pg\")\n",
    "\n",
    "const db = new Pool ({\n",
    "    connectionString: process.env.DB_URL\n",
    "})\n",
    "\n",
    "// Make the database available in the wider database:\n",
    "module.exports = db\n",
    "```"
   ]
  },
  {
   "cell_type": "markdown",
   "metadata": {},
   "source": [
    "In package.json:\n",
    "```json\n",
    "\"scripts\": {\n",
    "    \"setup-db\": \"node .server/db/setup.js\"\n",
    "}\n",
    "```\n",
    "The database should have been created.\n",
    "\n",
    "Check the webiste and run:\n",
    "```sql\n",
    "SELECT * FROM country\n",
    "```"
   ]
  },
  {
   "cell_type": "markdown",
   "metadata": {},
   "source": [
    "```bash\n",
    "touch app.js\n",
    "```\n",
    "\n",
    "Inside app.js - we create some middleware:\n",
    "```js\n",
    "const express   = require('express')\n",
    "const cors      = require('cors')\n",
    "\n",
    "const app       = express()\n",
    "\n",
    "app.use(cors())\n",
    "\n",
    "module.exports  = app\n",
    "```"
   ]
  },
  {
   "cell_type": "markdown",
   "metadata": {},
   "source": [
    "create a logger middleware\n",
    "```bash\n",
    "logger.js\n",
    "```\n",
    "\n",
    "we use next function to move onto the next part of code.<br>\n",
    "Without next the code will stop at that point.\n",
    "```js\n",
    "const logger = (req, res, next) => {\n",
    "    console.log(req.method, res,originalUrl)\n",
    "}\n",
    "\n",
    "module.exports = logger\n",
    "```"
   ]
  },
  {
   "cell_type": "markdown",
   "metadata": {},
   "source": [
    "We export the function to `app.js`:\n",
    "\n",
    "```js\n",
    "// ...\n",
    "const logger = require('./logger')\n",
    "\n",
    "// And\n",
    "app.use(logger)\n",
    "```"
   ]
  },
  {
   "cell_type": "markdown",
   "metadata": {},
   "source": [
    "```bash\n",
    "touch index.js\n",
    "```\n",
    "\n",
    "`index.js:`\n",
    "```js\n",
    "require(\"dotenv\").config()\n",
    "const app   = require(\"./app\")\n",
    "\n",
    "const port  = process.env.PORT\n",
    "\n",
    "app.listen(port, () => {\n",
    "    console.log(`server listening on port ${port}`)\n",
    "})\n",
    "```\n",
    "\n",
    "set the port in .env\n",
    "```txt\n",
    "PORT=3000\n",
    "```"
   ]
  },
  {
   "cell_type": "markdown",
   "metadata": {},
   "source": [
    "CRUD | address | restful\n",
    " --- | -- | --\n",
    "GET | '/' | index\n",
    "GET | '/:id' | show\n",
    "POST | '/' | create\n",
    "PATCH | '/:id' | update\n",
    "DELETE | '/id/ | destroy"
   ]
  },
  {
   "cell_type": "markdown",
   "metadata": {},
   "source": [
    "In the `SERVER` directory, setup the model, router, controller folders and files:\n",
    "\n",
    "```bash\n",
    "mkdir controllers models routers\n",
    "touch controllers/fruits.js models/Fruits.js routers/fruits.js\n"
   ]
  },
  {
   "cell_type": "markdown",
   "metadata": {},
   "source": [
    "in `model > country.js` which runs on a class, not on a specific instance\n",
    "\n",
    "MAKE SURE THE CLASS IS THE SAME AS THE FILENAME\n",
    "```js\n",
    "const db = require('../db/connect')\n",
    "\n",
    "class Country {\n",
    "    constructor({country_id, name, capital, population, languages, fun_fact, map_image_url}) {\n",
    "        this.country_id     = country_id\n",
    "        this.name           = name \n",
    "        this.capital        = capital\n",
    "        this.population     = population \n",
    "        this.languages      = languages\n",
    "        this.fun_fact       = fun_fact \n",
    "        this.map_image_url  = map_image_url \n",
    "    }\n",
    "}\n",
    "\n",
    "module.exports = Country\n",
    "```\n",
    "\n",
    "instance are PATCH or DELETE"
   ]
  },
  {
   "cell_type": "markdown",
   "metadata": {},
   "source": [
    "## METHODS\n",
    "### GET ALL\n",
    "Our first get method to call on the database\n",
    "```js\n",
    "    static async getAll() {\n",
    "        const response = await db.query(\"SELECT name FROM country;\")\n",
    "        if(reponse.rows.length === 0) {\n",
    "            throw new Error('No countries available')\n",
    "        }\n",
    "        // each element in the array is mapped into an object\n",
    "        return response.rows.map(c => new Country(c))\n",
    "    }\n",
    "```\n"
   ]
  },
  {
   "cell_type": "markdown",
   "metadata": {},
   "source": [
    "Now we go to the `controller > countries.js` to tell us how to use our call on the database<br>\n",
    "USE THE CORRECT HTTP STATUS CODE\n",
    "\n",
    "```js\n",
    "const Country = require('../models/Country')\n",
    "\n",
    "async function index(req, res) {\n",
    "    try {\n",
    "        const countries = await Country.getAll()\n",
    "        res.status(200).json(countries)\n",
    "    } catch (err) {\n",
    "        res.status(500).json({error: err.message})\n",
    "    }\n",
    "}\n",
    "\n",
    "module.exports = {\n",
    "    index\n",
    "}\n",
    "```"
   ]
  },
  {
   "cell_type": "markdown",
   "metadata": {},
   "source": [
    "router redirects all requests to the necessary endpoints\n",
    "\n",
    "in `routers > countries.js`:\n",
    "```js\n",
    "const express = require('express')\n",
    "const controller = require(\"../controllers/countries\")\n",
    "\n",
    "const router = express.Router()\n",
    "\n",
    "router.get('/', controller.index)\n",
    "\n",
    "module.exports = router"
   ]
  },
  {
   "cell_type": "markdown",
   "metadata": {},
   "source": [
    "We need to add the route into `app.js`:\n",
    "```js\n",
    "const countryRouter = require('./routers/countries')\n",
    "// ...\n",
    "app.use('/', countryRouter)"
   ]
  },
  {
   "cell_type": "markdown",
   "metadata": {},
   "source": [
    "\n",
    "To convert JSON to javascript for the application\n",
    "```js\n",
    "app.use(express.json())\n",
    "```"
   ]
  },
  {
   "cell_type": "markdown",
   "metadata": {},
   "source": [
    "test this on `POSTMAN`:\n",
    "\n",
    "GET     https://localhost:3000/countries"
   ]
  },
  {
   "cell_type": "markdown",
   "metadata": {},
   "source": [
    "## SHOW\n",
    "### MODEL\n",
    "SHOW by starting at the model.js\n",
    "```js\n",
    "static async getOneByCountryName(countryName) {\n",
    "    const response = await db.query(\"SELECT * FROM country WHERE LOWER(name) = LOWER($1);\", [countryName])\n",
    "    if(fresponse.rows.length != 1) {\n",
    "        throw new Error(`Unable to locate ${countryName}`)\n",
    "    }\n",
    "    return new Country(response.rows[0])\n",
    "}\n",
    "```\n"
   ]
  },
  {
   "cell_type": "markdown",
   "metadata": {},
   "source": [
    "### CONTROLLER\n",
    "```js\n",
    "async function show (res, req) {\n",
    "    try {\n",
    "        let name = req.params.name\n",
    "        const country = await Country.getOneByCountryName(name)\n",
    "        res.status(200).json(country)\n",
    "    } catch (err) {\n",
    "        res.status(400).json({error: err.message})\n",
    "    }\n",
    "}\n",
    "\n",
    "// EXPORT\n",
    "module.exports = {\n",
    "    index,\n",
    "    show\n",
    "}"
   ]
  },
  {
   "cell_type": "markdown",
   "metadata": {},
   "source": [
    "### ROUTE\n",
    "```js\n",
    "router.get('/name', controller.getOneByCountryName)\n",
    "\n",
    "```"
   ]
  },
  {
   "cell_type": "markdown",
   "metadata": {},
   "source": [
    "## CREATE\n",
    "### MODEL\n",
    "\n",
    "**THIS WILL BE TESTED**\n",
    "```js\n",
    "static async create(data) {\n",
    "    const {name, capital, population, languages, fun_fact} = data\n",
    "\n",
    "    // we have a function that checks the existance of a single country\n",
    "    const alreadyExists = await db.query(\"SELECT name FROM country WHERE LOWER(name) = LOWER($1)\", [name])\n",
    "    \n",
    "    // CHECK THE ORDER OF THIS INSERT INTO\n",
    "    if (alreadyExists.rows.length === 0 ) {\n",
    "        const response = await db.query(\"INSERT INTO country (name, capital, population, languages) VALUES ($1, $2, $3, $4) RETURNING *;\", [name, capital, population, languages])\n",
    "        // Access the only element in the rows array and store object to new variable\n",
    "            const countryData = response.rows[0]\n",
    "        \n",
    "        // Pass object into the class constructor and generate new instance\n",
    "            const newCountryInstance = new Country(countryData)\n",
    "        \n",
    "        // Return that new instance to the controller\n",
    "            return newCountryInstance\n",
    "    } else {\n",
    "        throw new Error(`Country ${alreadyExists} already exists`)\n",
    "    }\n",
    "}\n",
    "```"
   ]
  },
  {
   "cell_type": "markdown",
   "metadata": {},
   "source": [
    "### CONTROLLERS\n",
    "```js\n",
    "async function create(req, res) {\n",
    "    try {\n",
    "        const data = req.body\n",
    "        const input = await Country.create(data)\n",
    "        res.status(201).json(input)\n",
    "    } catch (err) {\n",
    "        res.status(400).json({error: err.message})\n",
    "    }\n",
    "}\n",
    "\n",
    "module.exports = {\n",
    "    index,\n",
    "    show,\n",
    "    create\n",
    "}\n",
    "```"
   ]
  },
  {
   "cell_type": "markdown",
   "metadata": {},
   "source": [
    "### ROUTERS\n",
    "**THIS WILL BE TESTED**\n",
    "```js\n",
    "router.post('/', controller.create)\n",
    "```\n"
   ]
  },
  {
   "cell_type": "markdown",
   "metadata": {},
   "source": [
    "## DESTROY - instance method\n",
    "### MODEL\n",
    "```js\n",
    "async destroy () {\n",
    "    const response = await db.query(\"DELETE FROM country WHERE LOWER(name) = LOWER($1);\", [this.name])\n",
    "    return new Country(response.rows[0])\n",
    "}\n",
    "```\n",
    "\n"
   ]
  },
  {
   "cell_type": "markdown",
   "metadata": {},
   "source": [
    "### CONTROLLER\n",
    "```js\n",
    "async function destroy (req, res) {\n",
    "    try {\n",
    "        const name = req.params.name\n",
    "        const instanceOfCountry = await Country.getOneByCountryName(name)\n",
    "        const result = await instanceOfCountry.destroy\n",
    "        res.status(204).end(message: 'Country successfully destroyed')\n",
    "        // res.sendStatus(204)\n",
    "    } else (err) {\n",
    "        res.status(404).json({error: err.message})\n",
    "    }\n",
    "}\n",
    "\n",
    "module.exports = {\n",
    "    index,\n",
    "    show,\n",
    "    create,\n",
    "    destroy\n",
    "}"
   ]
  },
  {
   "cell_type": "markdown",
   "metadata": {},
   "source": [
    "### ROUTER"
   ]
  }
 ],
 "metadata": {
  "language_info": {
   "name": "python"
  }
 },
 "nbformat": 4,
 "nbformat_minor": 2
}
