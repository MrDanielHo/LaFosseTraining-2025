{
 "cells": [
  {
   "cell_type": "markdown",
   "metadata": {},
   "source": [
    "# Backend Development - part I:\n",
    "Front end - customer\n",
    "API - waiter\n",
    "Back end - Application\n",
    "\n",
    "They make requests and responses between each other.\n",
    "\n",
    "There are rules of http: https://ietf.org/rfc/rfc2616.txt\n",
    "\n",
    "The protocol of using the back-end.\n"
   ]
  },
  {
   "cell_type": "markdown",
   "metadata": {},
   "source": [
    "\n",
    "https://developer.mozilla.org/en-US/docs/Web/HTTP/Guides/Overview\n",
    "\n",
    "Using the link above, we can see there is a web servers, video servers, ad servers, etc. that `GET` data from the server.\n",
    "\n",
    "We use `POST` to return the image to the webpage we are looking at.\n"
   ]
  },
  {
   "cell_type": "markdown",
   "metadata": {},
   "source": [
    "\n",
    "Application/transport:\n",
    "* DNS\n",
    "    * UPD\n",
    "* TLS\n",
    "    * TCP\n",
    "* TCP\n",
    "\n",
    "All goes to via your IP.\n"
   ]
  },
  {
   "cell_type": "markdown",
   "metadata": {},
   "source": [
    "\n",
    "For example\n",
    "\n",
    "Method Path Protocol version\n",
    "```http\n",
    "GET / HTTP/1.1\n",
    "Host: developer.mozilla.org\n",
    "Accept-Language:fr \n",
    "```\n",
    "Headers"
   ]
  },
  {
   "cell_type": "markdown",
   "metadata": {},
   "source": [
    "https://www.khanacademy.org/computing/computers-and-internet/xcae6f4a7ff015e7d:the-internet/xcae6f4a7ff015e7d:web-protocols/a/hypertext-transfer-protocol-http\n",
    "\n",
    "Read for further information"
   ]
  },
  {
   "cell_type": "markdown",
   "metadata": {},
   "source": [
    "https://http.cat/status\n",
    "\n",
    "Learn the status code of requests"
   ]
  },
  {
   "cell_type": "markdown",
   "metadata": {},
   "source": [
    "## Express\n",
    "Back end can build with different languages and structures.\n",
    "\n",
    "JavaScript can use Node and can use Express.\n",
    "\n",
    "```\n",
    "npm init -y\n",
    "```"
   ]
  },
  {
   "cell_type": "markdown",
   "metadata": {},
   "source": [
    "### Nodemon\n",
    "```\n",
    "npm install -D nodemon\n",
    "```\n",
    "Check it has been installed by looking for it inside package.json.\n",
    "\n",
    "And add the script to run nodemon\n",
    "```json\n",
    "  \"scripts\": {\n",
    "    \"dev\": \"nodemon index.js\",\n",
    "    \"start\": \"node index.js\"\n",
    "  },\n",
    "  \"devDependencies\": {\n",
    "    \"nodemon\": \"^3.1.9\"\n",
    "  }\n",
    "```\n"
   ]
  },
  {
   "cell_type": "markdown",
   "metadata": {},
   "source": [
    "We can use the below in terminal to run nodemon.\n",
    "```\n",
    "npm run dev\n",
    "```"
   ]
  },
  {
   "cell_type": "markdown",
   "metadata": {},
   "source": [
    "To install express\n",
    "```\n",
    "npm i express\n",
    "```\n",
    "\n",
    "And check dependances in package.json:\n",
    "```json\n",
    "  \"dependencies\": {\n",
    "    \"express\": \"^5.1.0\"\n",
    "  }\n",
    "```"
   ]
  },
  {
   "cell_type": "markdown",
   "metadata": {},
   "source": [
    "\n",
    "### JavaScript\n",
    "In our JavaScript, we need the following:\n",
    "```js\n",
    "const express = require('express')\n",
    "const app = express()\n",
    "const port = 3000\n",
    "```"
   ]
  },
  {
   "cell_type": "markdown",
   "metadata": {},
   "source": [
    "\n",
    "```js\n",
    "app.get('/', (req, res) => {\n",
    "    res.send('Hello world!!')\n",
    "})\n",
    "```\n"
   ]
  },
  {
   "cell_type": "markdown",
   "metadata": {},
   "source": [
    "```js\n",
    "app.listen(port, () => {\n",
    "    console.log(`App is listening on port ${port}`)\n",
    "})\n",
    "```"
   ]
  },
  {
   "cell_type": "markdown",
   "metadata": {},
   "source": [
    "To check that the JavaScript is working, in terminal we run\n",
    "```\n",
    "npm run dev\n",
    "```\n",
    "\n",
    "And on our `localhost:3000` we should get a page with `Hello world`."
   ]
  },
  {
   "cell_type": "markdown",
   "metadata": {},
   "source": [
    "IP address are like any house address, they specifcally link to a certain webpage.\n",
    "\n",
    "127.0.0.1:3000 is the IP address, however this can be expressed as localhost:3000."
   ]
  },
  {
   "cell_type": "markdown",
   "metadata": {},
   "source": [
    "if we change the route to `/home`, it will change the page.\n",
    "```js\n",
    "app.get('/home', (req, res) => {\n",
    "    res.send('Hello world!!')\n",
    "})\n",
    "```"
   ]
  },
  {
   "cell_type": "markdown",
   "metadata": {},
   "source": [
    "We can change the route to `/chickens`:\n",
    "```js\n",
    "app.get('chickens', (req, res) => {\n",
    "    res.send('Hello Chicken!')\n",
    "})\n",
    "```\n"
   ]
  },
  {
   "cell_type": "markdown",
   "metadata": {},
   "source": [
    "To request a specific chicken from the users, we use `params`:\n",
    "```js\n",
    "app.get('chickens/:name', (req, res) => {\n",
    "    res.send(req.params)\n",
    "})\n",
    "```\n",
    "We can use specific parameters and we can go to: `localhost:3000/chickens/Bianca`\n",
    "\n",
    "Returning us the object on the page with `name: Bianca`"
   ]
  },
  {
   "cell_type": "markdown",
   "metadata": {},
   "source": [
    "```js\n",
    "app.get('chickens/:name', (req, res) => {\n",
    "    res.send(req.params.name)\n",
    "})\n",
    "```\n",
    "Using the above, it will return the page with the name bianca."
   ]
  },
  {
   "cell_type": "markdown",
   "metadata": {},
   "source": [
    "```js\n",
    "app.get('chickens/:id', (req, res) => {\n",
    "    res.send(req.params)\n",
    "})\n",
    "```\n",
    "On `localhost:3000/chickens/22`\n",
    "\n",
    "Using the above code will return is the object with \"id\": 22"
   ]
  },
  {
   "cell_type": "markdown",
   "metadata": {},
   "source": [
    "To pass multiple parameters we use:\n",
    "```js\n",
    "app.get('chickens/:id', (req, res) => {\n",
    "    const { name, id } = req.params\n",
    "    const id_1 = id\n",
    "    res.send(req.params)\n",
    "})\n",
    "```"
   ]
  },
  {
   "cell_type": "markdown",
   "metadata": {},
   "source": [
    "HTTP Status codes:\n",
    "* 2xx - all okay\n",
    "* 3xx - redirection\n",
    "* 4xx - your error\n",
    "* 5xx - our error"
   ]
  },
  {
   "cell_type": "markdown",
   "metadata": {},
   "source": [
    "We can send a status with the below:\n",
    "```js\n",
    "app.get('/chickens', (req, res) => {\n",
    "    res.status(418).send()\n",
    "})\n",
    "```\n"
   ]
  },
  {
   "cell_type": "markdown",
   "metadata": {},
   "source": [
    "\n",
    "We should always use status messages with all our sends.\n",
    "\n",
    "And to make this easier, we use `try` to help us with any requests we throw at it.\n"
   ]
  },
  {
   "cell_type": "markdown",
   "metadata": {},
   "source": [
    "## Architecture principles\n",
    "* Software design patterns\n",
    "* scaling teamwork \n",
    "* testing/debugging"
   ]
  },
  {
   "cell_type": "markdown",
   "metadata": {},
   "source": [
    "Seperation of concerns - were we have different parts de-coupled from the rest of the code so we can test it independent of the other areas of the code.\n",
    "\n",
    "Like having our seperate .HTML .js .css files. This means that we can test the different parts of the website without everyone 'breaking' everything.\n",
    "\n",
    "Seperating our components: button and form into their own js and CSS folders/files we can make changes to them without needing to access non-button/non-form files."
   ]
  },
  {
   "cell_type": "markdown",
   "metadata": {},
   "source": [
    "### Data\n",
    "* in/out => APIs\n",
    "* around => state & models"
   ]
  },
  {
   "cell_type": "markdown",
   "metadata": {},
   "source": [
    "\n",
    "## Model-View-Controller (MVC)\n",
    "- **model** - handels data logic - int\n",
    "eracts with Database\n",
    "- **view** - handels data presentation - dynamically rendered\n",
    "- **controller** - handels requrest flow - never handles data logic"
   ]
  },
  {
   "cell_type": "markdown",
   "metadata": {},
   "source": [
    "### Microservices\n",
    "When an application is made of smaller applications which interact with (one) UI.<br>\n",
    "They will have their own MVC.\n",
    "\n",
    "This differs from the traditional Monolithic Architecture, where everything is linear.\n",
    "\n",
    "`UI => business logic => data access layer => database`\n",
    "\n",
    "It is simple and cheap but not scalable.\n",
    "\n"
   ]
  },
  {
   "cell_type": "markdown",
   "metadata": {},
   "source": [
    "## RESTFUL APIs\n",
    "We use this to create our APIs.\n",
    "```\n",
    "GET     - retrieve data from a resource\n",
    "POST    - submit data to a resource\n",
    "PUT     - update specific resource\n",
    "PATCH   - update partial resource\n",
    "DELETE  - delete a specific resource\n",
    "```"
   ]
  },
  {
   "cell_type": "markdown",
   "metadata": {},
   "source": [
    "```\n",
    "Create\n",
    "Read\n",
    "Update\n",
    "Delete\n",
    "```\n"
   ]
  },
  {
   "cell_type": "markdown",
   "metadata": {},
   "source": [
    "### Restul endpoints\n",
    "```\n",
    "route   Method              Purpose             Path            \n",
    "________________________________________________________________\n",
    "index   GET /stories        show all stories    .com/stories    \n",
    "create  GET /stories/:id    show a story        .com/stories/4  \n",
    "show    POST /stories       create new story    .com/stories    \n",
    "update  PATCH /stories      update a story      .com/stories/4  \n",
    "destroy DELETE /stories     delete a story      .com/stories/4  \n",
    "```\n",
    "\n"
   ]
  },
  {
   "cell_type": "markdown",
   "metadata": {},
   "source": [
    "## Building an API\n",
    "\n",
    "Build a full CRUD REST API service.\n"
   ]
  },
  {
   "cell_type": "markdown",
   "metadata": {},
   "source": [
    "\n",
    "### [Router](https://expressjs.com/en/5x/api.html#router)\n",
    "A router object is an instance of middleware and routes. You can think of it as a “mini-application,” capable only of performing middleware and routing functions. Every Express application has a built-in app router.\n",
    "\n",
    "A router behaves like middleware itself, so you can use it as an argument to app.use() or as the argument to another router’s use() method.\n",
    "\n",
    "The top-level express object has a Router() method that creates a new router object.\n",
    "\n",
    "Once you’ve created a router object, you can add middleware and HTTP method routes (such as get, put, post, and so on) to it just like an application. For example:\n",
    "```js\n",
    "// invoked for any requests passed to this router\n",
    "router.use((req, res, next) => {\n",
    "  // .. some logic here .. like any other middleware\n",
    "  next()\n",
    "})\n",
    "\n",
    "// will handle any request that ends in /events\n",
    "// depends on where the router is \"use()'d\"\n",
    "router.get('/events', (req, res, next) => {\n",
    "  // ..\n",
    "})\n",
    "```"
   ]
  },
  {
   "cell_type": "markdown",
   "metadata": {},
   "source": [
    "## Building an API - CRUD\n"
   ]
  },
  {
   "cell_type": "markdown",
   "metadata": {},
   "source": [
    "## Build your own API"
   ]
  }
 ],
 "metadata": {
  "language_info": {
   "name": "python"
  }
 },
 "nbformat": 4,
 "nbformat_minor": 2
}
