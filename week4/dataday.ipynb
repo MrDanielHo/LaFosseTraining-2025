{
 "cells": [
  {
   "cell_type": "markdown",
   "metadata": {},
   "source": [
    "# DATA TASTING\n",
    "## 5 Vs of Big Data\n",
    "* volume - sheer amount of data generated every second\n",
    "* velocity - the speed which new data is generated\n",
    "* variety - most data does not fit into neat columns/rows\n",
    "* veracity - quality and accuracy\n",
    "* value - potencial economical and business benefits from analases"
   ]
  },
  {
   "cell_type": "markdown",
   "metadata": {},
   "source": [
    "## Data analysis lifecycle\n",
    "1. define business goal\n",
    "2. mine data\n",
    "3. cleansing\n",
    "4. exploration\n",
    "5. feature engineering\n",
    "6. predictive modelling\n",
    "7. data visuaisation"
   ]
  },
  {
   "cell_type": "markdown",
   "metadata": {},
   "source": [
    "## exploratory data analysis\n",
    "* statistics\n",
    "* visualisation\n",
    "* correlations\n",
    "\n",
    "**raw data** $\\Rightarrow$ descriptive analysis $\\Rightarrow$ adjustment of variable types $\\Rightarrow$ detect and treat missing data $\\Rightarrow$ identify atypical data $\\Rightarrow$ correlation fof variables $\\Rightarrow$ **conclusions** \n"
   ]
  },
  {
   "cell_type": "markdown",
   "metadata": {},
   "source": [
    "## 4 analyical capabilties\n",
    "* descriptive - what happened\n",
    "* diagnostic - why it happened\n",
    "* predictive - what may happen\n",
    "* prescriptive - recommendations"
   ]
  },
  {
   "cell_type": "markdown",
   "metadata": {},
   "source": [
    "## Dirty Data\n",
    "### What is dirty data?\n",
    "* incorrect\n",
    "* inconsistent \n",
    "* incomplete\n"
   ]
  },
  {
   "cell_type": "markdown",
   "metadata": {},
   "source": [
    "### Why is cleaning dat important\n",
    "dirty data | clean data \n",
    "|--|--|\n",
    "incorrecto conculsions | accurate insights\n",
    "faulty analyses | reliable outcomes\n",
    "poor decision making | informaed decisions"
   ]
  },
  {
   "cell_type": "markdown",
   "metadata": {},
   "source": [
    "### How do we clean\n",
    "1. remove duplicates - get rid of multiple records\n",
    "    * why: skews analysis indlates nubers\n",
    "    * how: identify and delete\n",
    "2. handle missing data - remove or replace cells with no/null value\n",
    "    * why can bias results\n",
    "    * how \n",
    "    * remove rows \n",
    "    * fill in with averages/frequesnt values\n",
    "    * use algorithms to predict data\n",
    "3. correct inaccuracies - remove any inccorect entries\n",
    "    * why leads to wrong conclusion\n",
    "    * how \n",
    "        * validata vs. known data\n",
    "        * correct typos/misspellings\n",
    "        * cross check with other sources\n",
    "4. standarise formats - represent data consistently\n",
    "    * why ensures uniform analysis and readability\n",
    "    * how \n",
    "        * standarise date formats\n",
    "        * consistent capitalisation\n",
    "        * uniform units of measurement\n",
    "5. filter outliers - look for outliers aka extreme data points\n",
    "    * why  can skew your analysis\n",
    "    * how\n",
    "        * identify extreme values\n",
    "        * investigate and decide to keep or remove them\n",
    "6. check data types - esnure each column has the appropirate datatype\n",
    "    * wwhy prevents errors and ensure proper analysis\n",
    "    * how\n",
    "        * names shold be text/string\n",
    "        * dates datatime\n",
    "        * numbers integers/floats\n",
    "7. Validatra data - ensure data accuracy and quality\n",
    "    * why confirmds data intefrity and makes sure it conforms to business rules and logic\n",
    "    * how\n",
    "        * runs validate rules\n",
    "        * check logic errors\n",
    "        * use automated tools for large datasets\n",
    "8. shaping and transorming data\n",
    "    * changing rows to columns - unpivoting transform rows into columns\n",
    "        * why makes data easier to analyse and visualise\n",
    "        * how use unpivot function to disaggregate data\n",
    "    * calculating new columns - derive new data from existing data\n",
    "        * why adds new dimensions to your analysis\n",
    "        * how use formulas and functions\n"
   ]
  },
  {
   "cell_type": "markdown",
   "metadata": {},
   "source": [
    "### Summary\n",
    "dirty data guarantees incorrect data analysis\n",
    "cleaning can be at least 40% of a data analyst's job\n",
    "\n",
    "### Rememeber\n",
    "* Dirty data == inaccurate results\n",
    "* take the time to clean your data\n",
    "* you'll be rewarded with reliable insights"
   ]
  },
  {
   "cell_type": "markdown",
   "metadata": {},
   "source": []
  },
  {
   "cell_type": "code",
   "execution_count": null,
   "metadata": {},
   "outputs": [],
   "source": [
    "import sys\n",
    "!{sys.executable} -m pip install numpy openpyxl xlrd pandas\n",
    "\n",
    "import pandas as pd"
   ]
  },
  {
   "cell_type": "code",
   "execution_count": null,
   "metadata": {},
   "outputs": [],
   "source": [
    "# import pandas lib as pd\n",
    "# import pandas as pd\n",
    "\n",
    "# read by default 1st sheet of an excel file\n",
    "# dataframe1 = pd.read_excel('sample-superstore.xlsx')\n",
    "\n",
    "print(dataframe1)\n",
    "\n"
   ]
  },
  {
   "cell_type": "code",
   "execution_count": null,
   "metadata": {},
   "outputs": [],
   "source": [
    "# import openpyxl\n",
    "\n",
    "# # Define variable to load the dataframe\n",
    "# dataframe = openpyxl.load_workbook(\"sample-superstore.xlsx\")\n",
    "\n",
    "# # Define variable to read sheet\n",
    "# dataframe1 = dataframe.active\n",
    "\n",
    "# # Iterate the loop to read the cell values\n",
    "# for row in range(0, dataframe1.max_row):\n",
    "#     for col in dataframe1.iter_cols(1, dataframe1.max_column):\n",
    "#         print(col[row].value)"
   ]
  },
  {
   "cell_type": "code",
   "execution_count": null,
   "metadata": {},
   "outputs": [],
   "source": [
    "# import openpyxl module\n",
    "# import openpyxl\n",
    "\n",
    "# Give the location of the file\n",
    "path = \"sample-superstore.xlsx\"\n",
    "\n",
    "# To open the workbook\n",
    "# workbook object is created\n",
    "wb_obj = openpyxl.load_workbook(path)\n",
    "\n",
    "# Get workbook active sheet object\n",
    "# from the active attribute\n",
    "sheet_obj = wb_obj.active\n",
    "\n",
    "cell_obj = sheet_obj.cell(row=1, column=1)\n",
    "\n",
    "print(cell_obj.value)\n"
   ]
  },
  {
   "cell_type": "markdown",
   "metadata": {},
   "source": [
    "## Tableau\n",
    "### visualations\n",
    "help to tell a story\n",
    "### Dashboards\n",
    "allows users to interact dynamically with data and form their insights.\n",
    "### tableau understands relational databases"
   ]
  }
 ],
 "metadata": {
  "kernelspec": {
   "display_name": "Python 3",
   "language": "python",
   "name": "python3"
  },
  "language_info": {
   "codemirror_mode": {
    "name": "ipython",
    "version": 3
   },
   "file_extension": ".py",
   "mimetype": "text/x-python",
   "name": "python",
   "nbconvert_exporter": "python",
   "pygments_lexer": "ipython3",
   "version": "3.9.6"
  }
 },
 "nbformat": 4,
 "nbformat_minor": 2
}
