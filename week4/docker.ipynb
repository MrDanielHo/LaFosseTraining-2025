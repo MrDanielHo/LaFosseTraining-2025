{
 "cells": [
  {
   "cell_type": "markdown",
   "metadata": {},
   "source": [
    "# DOCKER"
   ]
  },
  {
   "cell_type": "markdown",
   "metadata": {},
   "source": [
    "```bash\n",
    "docker run -d -m 512m --cpu-quota=5000 -p 3005:5000\n",
    "```\n",
    "<dl>\n",
    "<dt>-d</dt><dd>detached</dd>\n",
    "<dt>-m</dt><dd>memory</dd>\n",
    "<dt>--cpu-quote</dt><dd>computer usage in </dd>\n",
    "<dt>-p</dt><dd>publish</dd>\n",
    "</dl>"
   ]
  },
  {
   "cell_type": "markdown",
   "metadata": {},
   "source": [
    "```bash\n",
    "docker logs -f def\n",
    "```\n",
    "check the logs"
   ]
  },
  {
   "cell_type": "markdown",
   "metadata": {},
   "source": [
    "```bash\n",
    "docker build -t lfacademy/hello-world-python:0.0.2.RELEASE .\n",
    "```\n",
    "\n",
    "The dot at the end refers to the working directory"
   ]
  },
  {
   "cell_type": "markdown",
   "metadata": {},
   "source": [
    "```bash\n",
    "docker build -t mrdanielho/hello-world-python:0.0.2.RELEASE .\n",
    "docker push mrdanielho/hello-world-python:0.0.2.RELEASE\n",
    "```\n",
    "Stage and push to docker"
   ]
  },
  {
   "cell_type": "markdown",
   "metadata": {},
   "source": [
    "Layer the code correct:\n",
    "From\n",
    "\n",
    "```json \n",
    "FROM node:8.16.1-alpine\n",
    "WORKDIR /app\n",
    "COPY . /app\n",
    "RUN npm install\n",
    "ENV PORT 3000\n",
    "EXPOSE 3000\n",
    "CMD node index.js\n",
    "\n",
    "```\n",
    "\n",
    "To\n",
    "```json \n",
    "copy package.josn /app\n",
    "RUN npm install\n",
    "```"
   ]
  },
  {
   "cell_type": "markdown",
   "metadata": {},
   "source": [
    "Small services vs. a monolith\n",
    "\n",
    "Middleware can be a seperate service, database, core code, etc.\n",
    "\n",
    "less environment issues - version of interpreters.\n"
   ]
  },
  {
   "cell_type": "markdown",
   "metadata": {},
   "source": [
    "## currency exchange\n",
    "To rename the container\n",
    "```bash\n",
    "docker run -d -p 8000:8000 --name=currency-exchange mrdanielho/currency-exchange-java:0.0.1.RELEASE\n",
    "\n",
    "docker run -d -p 8100:8100 --name=currency-conversion mrdanielho/currency-conversion-java:0.0.1.RELEASE\n",
    "```"
   ]
  },
  {
   "cell_type": "markdown",
   "metadata": {},
   "source": [
    "to connect the 2 mircoservers:\n",
    "```bash\n",
    "docker network"
   ]
  }
 ],
 "metadata": {
  "language_info": {
   "name": "python"
  }
 },
 "nbformat": 4,
 "nbformat_minor": 2
}
